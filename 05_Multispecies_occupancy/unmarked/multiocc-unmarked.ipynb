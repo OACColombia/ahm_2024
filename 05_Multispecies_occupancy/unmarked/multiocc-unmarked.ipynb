{
 "cells": [
  {
   "cell_type": "markdown",
   "metadata": {
    "slideshow": {
     "slide_type": "slide"
    },
    "tags": []
   },
   "source": [
    "# Multispecies occupancy models in `unmarked`\n",
    "\n",
    "### Ken Kellner"
   ]
  },
  {
   "cell_type": "markdown",
   "metadata": {
    "slideshow": {
     "slide_type": "slide"
    },
    "tags": []
   },
   "source": [
    "# Outline\n",
    "\n",
    "1. Introduction\n",
    "2. Model description\n",
    "3. Fit model with `unmarked`\n",
    "4. Marginal and conditional occupancy\n",
    "5. Model fitting challenges"
   ]
  },
  {
   "cell_type": "markdown",
   "metadata": {
    "slideshow": {
     "slide_type": "slide"
    }
   },
   "source": [
    "# Introduction"
   ]
  },
  {
   "cell_type": "markdown",
   "metadata": {
    "slideshow": {
     "slide_type": "fragment"
    }
   },
   "source": [
    "* Species interactions can drive species distributions\n",
    "* Examples: \n",
    "    - competition\n",
    "    - predator-prey\n",
    "    - parasite-host\n",
    "\n",
    "![](Fox_eating_mole.jpg)"
   ]
  },
  {
   "cell_type": "markdown",
   "metadata": {
    "slideshow": {
     "slide_type": "slide"
    }
   },
   "source": [
    "### How can we model interactions?\n",
    "\n",
    "* Direct observations of interactions (e.g. predation events)\n",
    "* Indirect:\n",
    "    - Over time\n",
    "    - Over space"
   ]
  },
  {
   "cell_type": "markdown",
   "metadata": {
    "slideshow": {
     "slide_type": "fragment"
    }
   },
   "source": [
    "Facilited by proliferation of passive detector data (e.g. cameras)"
   ]
  },
  {
   "cell_type": "markdown",
   "metadata": {
    "slideshow": {
     "slide_type": "slide"
    }
   },
   "source": [
    "### Interactions over time"
   ]
  },
  {
   "cell_type": "markdown",
   "metadata": {
    "slideshow": {
     "slide_type": "fragment"
    }
   },
   "source": [
    "Activity pattern analysis (e.g. Ridout and Linkie 2009, `overlap` R package)\n",
    "\n",
    "![](activity.png)\n",
    "\n",
    "Doesn't necessarily test if species are typically found in the same *locations*"
   ]
  },
  {
   "cell_type": "markdown",
   "metadata": {
    "slideshow": {
     "slide_type": "slide"
    }
   },
   "source": [
    "### Interactions in space\n",
    "\n",
    "Multispecies occupancy models\n",
    "\n",
    "Don't necessary test if species are active at *the same time*"
   ]
  },
  {
   "cell_type": "markdown",
   "metadata": {
    "slideshow": {
     "slide_type": "slide"
    }
   },
   "source": [
    "### Types of multispecies occupancy models"
   ]
  },
  {
   "cell_type": "markdown",
   "metadata": {
    "slideshow": {
     "slide_type": "fragment"
    }
   },
   "source": [
    "* 2+ species, no interactions explicitly modeled (e.g. community occupancy models; AHM1 Chap 11)\n",
    "* Two species, species interaction factor, sometimes has numerical issues (MacKenzie et al. 2004)\n",
    "* Two species, asymmetric interactions (Waddle et al. 2010, Richmond et al. 2010)\n",
    "* Models above available in PRESENCE, MARK software"
   ]
  },
  {
   "cell_type": "markdown",
   "metadata": {
    "slideshow": {
     "slide_type": "fragment"
    }
   },
   "source": [
    "* 2+ species, symmetric interactions (Rota et al. 2016, AHM2 Chap 8) **<- focus of this session**"
   ]
  },
  {
   "cell_type": "markdown",
   "metadata": {
    "slideshow": {
     "slide_type": "slide"
    },
    "tags": []
   },
   "source": [
    "# Model description"
   ]
  },
  {
   "cell_type": "markdown",
   "metadata": {
    "slideshow": {
     "slide_type": "fragment"
    }
   },
   "source": [
    "* Suppose you sample for $S = 2$ species at N sites, $i=1...N$\n",
    "* Then the latent state $\\textbf{Z}_i$ at site $i$ is a vector of length 2, and there are four possible states:\n",
    "\n",
    "$$ \\textbf{Z}_i = \\{11\\}, \\{10\\},\\{01\\}, or \\{00\\} $$"
   ]
  },
  {
   "cell_type": "markdown",
   "metadata": {
    "slideshow": {
     "slide_type": "slide"
    }
   },
   "source": [
    "$$ \\textbf{Z}_i \\sim \\mathrm{MultivariateBernoulli}(\\boldsymbol\\psi) $$\n",
    "\n",
    "$$ pr(Z_i) = \\{11\\} \\Longrightarrow \\psi_{11} $$\n",
    "$$ pr(Z_i) = \\{10\\} \\Longrightarrow \\psi_{10} $$\n",
    "$$ pr(Z_i) = \\{01\\} \\Longrightarrow \\psi_{01} $$\n",
    "$$ pr(Z_i) = \\{00\\} \\Longrightarrow \\psi_{00} $$\n",
    "\n",
    "$$ \\sum{\\boldsymbol\\psi} = 1$$"
   ]
  },
  {
   "cell_type": "markdown",
   "metadata": {
    "slideshow": {
     "slide_type": "slide"
    }
   },
   "source": [
    "### How do we get the values of $\\psi$?\n",
    "\n",
    "### Start with the \"natural parameters\", $f$\n",
    "\n",
    "$f_1$: Term associated with occupancy of species 1 by itself\n",
    "\n",
    "$f_2$: Term associated with occupancy of species 2 by itself\n",
    "\n",
    "$f_{12}$: Interaction term between the two species"
   ]
  },
  {
   "cell_type": "markdown",
   "metadata": {
    "slideshow": {
     "slide_type": "fragment"
    }
   },
   "source": [
    "If $f_{12}$ is positive, presence of one species increases occupancy probability of the other\n",
    "\n",
    "If $f_{12}$ is negative, presence of one species decreases occupancy probability of the other"
   ]
  },
  {
   "cell_type": "markdown",
   "metadata": {
    "slideshow": {
     "slide_type": "slide"
    }
   },
   "source": [
    "### Calculating $\\psi$: the multinomial logit link\n",
    "\n",
    "Each element of $\\mathbf{\\psi}$ is a function of the natural parameters $f$.\n",
    "\n",
    "$$ \n",
    "\\begin{align}\n",
    "\\psi_{11} & \\propto exp(f_{1} + f_{2} + f_{12}) \\\\\n",
    "\\psi_{10} & \\propto exp(f_{1}) \\\\\n",
    "\\psi_{01} & \\propto exp(f_{2}) \\\\\n",
    "\\psi_{00} & \\propto exp(0) = 1\n",
    "\\end{align}\n",
    "$$"
   ]
  },
  {
   "cell_type": "markdown",
   "metadata": {
    "slideshow": {
     "slide_type": "fragment"
    },
    "tags": []
   },
   "source": [
    "Making sure $\\mathbf{\\psi}$ sums to 1:\n",
    "\n",
    "$$ \\psi_{11} = \\frac{exp(f_{1} + f_{2} + f_{12})}{1 + exp(f_{1}) + exp(f_{2}) + exp(f_{1} + f_{2} + f_{12})} $$\n",
    "\n",
    "$$ \\psi_{10} = \\frac{exp(f_{1})}{1 + exp(f_{1}) + exp(f_{2}) + exp(f_{1} + f_{2} + f_{12})} $$\n",
    "\n",
    "$$ \\psi_{01} = \\frac{exp(f_{2})}{1 + exp(f_{1}) + exp(f_{2}) + exp(f_{1} + f_{2} + f_{12})} $$\n",
    "\n",
    "$$ \\psi_{00} = \\frac{1}{1 + exp(f_{1}) + exp(f_{2}) + exp(f_{1} + f_{2} + f_{12})} $$"
   ]
  },
  {
   "cell_type": "markdown",
   "metadata": {
    "slideshow": {
     "slide_type": "slide"
    },
    "tags": []
   },
   "source": [
    "### A note on removing interaction terms"
   ]
  },
  {
   "cell_type": "markdown",
   "metadata": {
    "slideshow": {
     "slide_type": "fragment"
    },
    "tags": []
   },
   "source": [
    "Original math:\n",
    "\n",
    "$$ \n",
    "\\begin{align}\n",
    "\\psi_{11} & \\propto exp(f_{1} + f_{2} + f_{12}) \\\\\n",
    "\\psi_{10} & \\propto exp(f_{1}) \\\\\n",
    "\\psi_{01} & \\propto exp(f_{2}) \\\\\n",
    "\\psi_{00} & \\propto 1\n",
    "\\end{align}\n",
    "$$\n"
   ]
  },
  {
   "cell_type": "markdown",
   "metadata": {
    "slideshow": {
     "slide_type": "fragment"
    },
    "tags": []
   },
   "source": [
    "What if we force $f_{12} = 0$?\n",
    "\n",
    "$$ \n",
    "\\begin{align}\n",
    "\\psi_{11} & \\propto exp(f_{1} + f_{2}) \\\\\n",
    "\\psi_{10} & \\propto exp(f_{1}) \\\\\n",
    "\\psi_{01} & \\propto exp(f_{2}) \\\\\n",
    "\\psi_{00} & \\propto 1\n",
    "\\end{align}\n",
    "$$\n",
    "\n",
    "This is equivalent to fitting two separate occupancy models. I'll show this later."
   ]
  },
  {
   "cell_type": "markdown",
   "metadata": {
    "slideshow": {
     "slide_type": "slide"
    },
    "tags": []
   },
   "source": [
    "### Modeling detection\n",
    "\n",
    "* It's the same as single-species occupancy\n",
    "* Each species gets its own separate detection model\n",
    "\n",
    "For example, detection/nondetection of species 1 at site $i$ and occasion $j$ can be modeled as\n",
    "\n",
    "$$ y_{1,ij} \\sim \\mathrm{Bernoulli}(p_{1} \\cdot z_{1,i}) $$\n",
    "\n",
    "where $z_{1,i}$ is the element 1 of $Z_i$ (i.e., latent presence/absence of species 1 at site $i$) and $p_{1}$ is the species 1 detection probability"
   ]
  },
  {
   "cell_type": "markdown",
   "metadata": {
    "slideshow": {
     "slide_type": "slide"
    },
    "tags": []
   },
   "source": [
    "# Multispecies occupancy model in `unmarked`"
   ]
  },
  {
   "cell_type": "code",
   "execution_count": 1,
   "metadata": {
    "slideshow": {
     "slide_type": "fragment"
    },
    "tags": []
   },
   "outputs": [],
   "source": [
    "library(unmarked)"
   ]
  },
  {
   "cell_type": "markdown",
   "metadata": {
    "slideshow": {
     "slide_type": "fragment"
    },
    "tags": []
   },
   "source": [
    "We will use the function `occuMulti`\n",
    "\n",
    "![](occuMulti_setup.png)"
   ]
  },
  {
   "cell_type": "markdown",
   "metadata": {
    "slideshow": {
     "slide_type": "slide"
    }
   },
   "source": [
    "## Set up the input data\n",
    "\n",
    "### Example data\n",
    "\n",
    "![](coyote1.jpg) ![](redfox1.jpg)"
   ]
  },
  {
   "cell_type": "code",
   "execution_count": 2,
   "metadata": {
    "slideshow": {
     "slide_type": "fragment"
    }
   },
   "outputs": [
    {
     "data": {
      "text/html": [
       "<dl>\n",
       "\t<dt>$bobcat</dt>\n",
       "\t\t<dd><table class=\"dataframe\">\n",
       "<caption>A matrix: 6 × 3 of type int</caption>\n",
       "<thead>\n",
       "\t<tr><th scope=col>X1</th><th scope=col>X2</th><th scope=col>X3</th></tr>\n",
       "</thead>\n",
       "<tbody>\n",
       "\t<tr><td>0</td><td>0</td><td>0</td></tr>\n",
       "\t<tr><td>0</td><td>0</td><td>0</td></tr>\n",
       "\t<tr><td>0</td><td>0</td><td>0</td></tr>\n",
       "\t<tr><td>0</td><td>0</td><td>0</td></tr>\n",
       "\t<tr><td>0</td><td>0</td><td>0</td></tr>\n",
       "\t<tr><td>0</td><td>0</td><td>0</td></tr>\n",
       "</tbody>\n",
       "</table>\n",
       "</dd>\n",
       "\t<dt>$coyote</dt>\n",
       "\t\t<dd><table class=\"dataframe\">\n",
       "<caption>A matrix: 6 × 3 of type int</caption>\n",
       "<thead>\n",
       "\t<tr><th scope=col>X1</th><th scope=col>X2</th><th scope=col>X3</th></tr>\n",
       "</thead>\n",
       "<tbody>\n",
       "\t<tr><td>0</td><td>0</td><td>0</td></tr>\n",
       "\t<tr><td>0</td><td>0</td><td>0</td></tr>\n",
       "\t<tr><td>0</td><td>0</td><td>0</td></tr>\n",
       "\t<tr><td>0</td><td>0</td><td>0</td></tr>\n",
       "\t<tr><td>0</td><td>0</td><td>0</td></tr>\n",
       "\t<tr><td>0</td><td>0</td><td>0</td></tr>\n",
       "</tbody>\n",
       "</table>\n",
       "</dd>\n",
       "\t<dt>$redfox</dt>\n",
       "\t\t<dd><table class=\"dataframe\">\n",
       "<caption>A matrix: 6 × 3 of type int</caption>\n",
       "<thead>\n",
       "\t<tr><th scope=col>X1</th><th scope=col>X2</th><th scope=col>X3</th></tr>\n",
       "</thead>\n",
       "<tbody>\n",
       "\t<tr><td>0</td><td>0</td><td>0</td></tr>\n",
       "\t<tr><td>0</td><td>0</td><td>0</td></tr>\n",
       "\t<tr><td>0</td><td>0</td><td>1</td></tr>\n",
       "\t<tr><td>0</td><td>0</td><td>0</td></tr>\n",
       "\t<tr><td>0</td><td>0</td><td>0</td></tr>\n",
       "\t<tr><td>1</td><td>1</td><td>1</td></tr>\n",
       "</tbody>\n",
       "</table>\n",
       "</dd>\n",
       "\t<dt>$sitecovs</dt>\n",
       "\t\t<dd><table class=\"dataframe\">\n",
       "<caption>A data.frame: 6 × 6</caption>\n",
       "<thead>\n",
       "\t<tr><th></th><th scope=col>Dist_5km</th><th scope=col>HDens_5km</th><th scope=col>Latitude</th><th scope=col>Longitude</th><th scope=col>People_site</th><th scope=col>Trail</th></tr>\n",
       "\t<tr><th></th><th scope=col>&lt;dbl&gt;</th><th scope=col>&lt;dbl&gt;</th><th scope=col>&lt;dbl&gt;</th><th scope=col>&lt;dbl&gt;</th><th scope=col>&lt;dbl&gt;</th><th scope=col>&lt;int&gt;</th></tr>\n",
       "</thead>\n",
       "<tbody>\n",
       "\t<tr><th scope=row>1</th><td>0.04</td><td>9.345258</td><td>0.3899441</td><td>-0.7723958</td><td>0.857</td><td>1</td></tr>\n",
       "\t<tr><th scope=row>2</th><td>0.03</td><td>9.499197</td><td>0.3899250</td><td>-0.7723920</td><td>0.002</td><td>0</td></tr>\n",
       "\t<tr><th scope=row>3</th><td>0.03</td><td>9.647173</td><td>0.3899111</td><td>-0.7723954</td><td>0.387</td><td>1</td></tr>\n",
       "\t<tr><th scope=row>4</th><td>0.03</td><td>9.598066</td><td>0.3899166</td><td>-0.7723972</td><td>0.003</td><td>0</td></tr>\n",
       "\t<tr><th scope=row>5</th><td>0.03</td><td>9.607825</td><td>0.3899179</td><td>-0.7724004</td><td>0.000</td><td>0</td></tr>\n",
       "\t<tr><th scope=row>6</th><td>0.03</td><td>9.748791</td><td>0.3899058</td><td>-0.7724046</td><td>0.443</td><td>1</td></tr>\n",
       "</tbody>\n",
       "</table>\n",
       "</dd>\n",
       "</dl>\n"
      ],
      "text/latex": [
       "\\begin{description}\n",
       "\\item[\\$bobcat] A matrix: 6 × 3 of type int\n",
       "\\begin{tabular}{lll}\n",
       " X1 & X2 & X3\\\\\n",
       "\\hline\n",
       "\t 0 & 0 & 0\\\\\n",
       "\t 0 & 0 & 0\\\\\n",
       "\t 0 & 0 & 0\\\\\n",
       "\t 0 & 0 & 0\\\\\n",
       "\t 0 & 0 & 0\\\\\n",
       "\t 0 & 0 & 0\\\\\n",
       "\\end{tabular}\n",
       "\n",
       "\\item[\\$coyote] A matrix: 6 × 3 of type int\n",
       "\\begin{tabular}{lll}\n",
       " X1 & X2 & X3\\\\\n",
       "\\hline\n",
       "\t 0 & 0 & 0\\\\\n",
       "\t 0 & 0 & 0\\\\\n",
       "\t 0 & 0 & 0\\\\\n",
       "\t 0 & 0 & 0\\\\\n",
       "\t 0 & 0 & 0\\\\\n",
       "\t 0 & 0 & 0\\\\\n",
       "\\end{tabular}\n",
       "\n",
       "\\item[\\$redfox] A matrix: 6 × 3 of type int\n",
       "\\begin{tabular}{lll}\n",
       " X1 & X2 & X3\\\\\n",
       "\\hline\n",
       "\t 0 & 0 & 0\\\\\n",
       "\t 0 & 0 & 0\\\\\n",
       "\t 0 & 0 & 1\\\\\n",
       "\t 0 & 0 & 0\\\\\n",
       "\t 0 & 0 & 0\\\\\n",
       "\t 1 & 1 & 1\\\\\n",
       "\\end{tabular}\n",
       "\n",
       "\\item[\\$sitecovs] A data.frame: 6 × 6\n",
       "\\begin{tabular}{r|llllll}\n",
       "  & Dist\\_5km & HDens\\_5km & Latitude & Longitude & People\\_site & Trail\\\\\n",
       "  & <dbl> & <dbl> & <dbl> & <dbl> & <dbl> & <int>\\\\\n",
       "\\hline\n",
       "\t1 & 0.04 & 9.345258 & 0.3899441 & -0.7723958 & 0.857 & 1\\\\\n",
       "\t2 & 0.03 & 9.499197 & 0.3899250 & -0.7723920 & 0.002 & 0\\\\\n",
       "\t3 & 0.03 & 9.647173 & 0.3899111 & -0.7723954 & 0.387 & 1\\\\\n",
       "\t4 & 0.03 & 9.598066 & 0.3899166 & -0.7723972 & 0.003 & 0\\\\\n",
       "\t5 & 0.03 & 9.607825 & 0.3899179 & -0.7724004 & 0.000 & 0\\\\\n",
       "\t6 & 0.03 & 9.748791 & 0.3899058 & -0.7724046 & 0.443 & 1\\\\\n",
       "\\end{tabular}\n",
       "\n",
       "\\end{description}\n"
      ],
      "text/markdown": [
       "$bobcat\n",
       ":   \n",
       "A matrix: 6 × 3 of type int\n",
       "\n",
       "| X1 | X2 | X3 |\n",
       "|---|---|---|\n",
       "| 0 | 0 | 0 |\n",
       "| 0 | 0 | 0 |\n",
       "| 0 | 0 | 0 |\n",
       "| 0 | 0 | 0 |\n",
       "| 0 | 0 | 0 |\n",
       "| 0 | 0 | 0 |\n",
       "\n",
       "\n",
       "$coyote\n",
       ":   \n",
       "A matrix: 6 × 3 of type int\n",
       "\n",
       "| X1 | X2 | X3 |\n",
       "|---|---|---|\n",
       "| 0 | 0 | 0 |\n",
       "| 0 | 0 | 0 |\n",
       "| 0 | 0 | 0 |\n",
       "| 0 | 0 | 0 |\n",
       "| 0 | 0 | 0 |\n",
       "| 0 | 0 | 0 |\n",
       "\n",
       "\n",
       "$redfox\n",
       ":   \n",
       "A matrix: 6 × 3 of type int\n",
       "\n",
       "| X1 | X2 | X3 |\n",
       "|---|---|---|\n",
       "| 0 | 0 | 0 |\n",
       "| 0 | 0 | 0 |\n",
       "| 0 | 0 | 1 |\n",
       "| 0 | 0 | 0 |\n",
       "| 0 | 0 | 0 |\n",
       "| 1 | 1 | 1 |\n",
       "\n",
       "\n",
       "$sitecovs\n",
       ":   \n",
       "A data.frame: 6 × 6\n",
       "\n",
       "| <!--/--> | Dist_5km &lt;dbl&gt; | HDens_5km &lt;dbl&gt; | Latitude &lt;dbl&gt; | Longitude &lt;dbl&gt; | People_site &lt;dbl&gt; | Trail &lt;int&gt; |\n",
       "|---|---|---|---|---|---|---|\n",
       "| 1 | 0.04 | 9.345258 | 0.3899441 | -0.7723958 | 0.857 | 1 |\n",
       "| 2 | 0.03 | 9.499197 | 0.3899250 | -0.7723920 | 0.002 | 0 |\n",
       "| 3 | 0.03 | 9.647173 | 0.3899111 | -0.7723954 | 0.387 | 1 |\n",
       "| 4 | 0.03 | 9.598066 | 0.3899166 | -0.7723972 | 0.003 | 0 |\n",
       "| 5 | 0.03 | 9.607825 | 0.3899179 | -0.7724004 | 0.000 | 0 |\n",
       "| 6 | 0.03 | 9.748791 | 0.3899058 | -0.7724046 | 0.443 | 1 |\n",
       "\n",
       "\n",
       "\n",
       "\n"
      ],
      "text/plain": [
       "$bobcat\n",
       "     X1 X2 X3\n",
       "[1,]  0  0  0\n",
       "[2,]  0  0  0\n",
       "[3,]  0  0  0\n",
       "[4,]  0  0  0\n",
       "[5,]  0  0  0\n",
       "[6,]  0  0  0\n",
       "\n",
       "$coyote\n",
       "     X1 X2 X3\n",
       "[1,]  0  0  0\n",
       "[2,]  0  0  0\n",
       "[3,]  0  0  0\n",
       "[4,]  0  0  0\n",
       "[5,]  0  0  0\n",
       "[6,]  0  0  0\n",
       "\n",
       "$redfox\n",
       "     X1 X2 X3\n",
       "[1,]  0  0  0\n",
       "[2,]  0  0  0\n",
       "[3,]  0  0  1\n",
       "[4,]  0  0  0\n",
       "[5,]  0  0  0\n",
       "[6,]  1  1  1\n",
       "\n",
       "$sitecovs\n",
       "  Dist_5km HDens_5km  Latitude  Longitude People_site Trail\n",
       "1     0.04  9.345258 0.3899441 -0.7723958       0.857     1\n",
       "2     0.03  9.499197 0.3899250 -0.7723920       0.002     0\n",
       "3     0.03  9.647173 0.3899111 -0.7723954       0.387     1\n",
       "4     0.03  9.598066 0.3899166 -0.7723972       0.003     0\n",
       "5     0.03  9.607825 0.3899179 -0.7724004       0.000     0\n",
       "6     0.03  9.748791 0.3899058 -0.7724046       0.443     1\n"
      ]
     },
     "metadata": {},
     "output_type": "display_data"
    }
   ],
   "source": [
    "data(MesoCarnivores)\n",
    "lapply(MesoCarnivores, head) # look at raw data"
   ]
  },
  {
   "cell_type": "markdown",
   "metadata": {
    "slideshow": {
     "slide_type": "slide"
    }
   },
   "source": [
    "### Formatting the data\n",
    "\n",
    "We will create an `unmarkedFrameOccuMulti`. \n",
    "\n",
    "The main difference from `unmarkedFrameOccu` is that you have >1 matrix of observations: we now have one `y` per species.\n"
   ]
  },
  {
   "cell_type": "markdown",
   "metadata": {
    "slideshow": {
     "slide_type": "fragment"
    }
   },
   "source": [
    "![](umf_om_construction.png)"
   ]
  },
  {
   "cell_type": "markdown",
   "metadata": {
    "slideshow": {
     "slide_type": "slide"
    }
   },
   "source": [
    "Get some more detail by looking at the help file for `unmarkedFrameOccuMulti`:"
   ]
  },
  {
   "cell_type": "code",
   "execution_count": null,
   "metadata": {
    "slideshow": {
     "slide_type": "fragment"
    }
   },
   "outputs": [],
   "source": [
    "?unmarkedFrameOccuMulti"
   ]
  },
  {
   "cell_type": "markdown",
   "metadata": {
    "slideshow": {
     "slide_type": "slide"
    }
   },
   "source": [
    "### y list\n",
    "\n",
    "The first three elements of `MesoCarnivores` are the y-matrices. To keep things simple, we'll just use coyote and red fox.\n",
    "\n",
    "Notice that the resulting list is **named**: this is important!"
   ]
  },
  {
   "cell_type": "code",
   "execution_count": 3,
   "metadata": {
    "slideshow": {
     "slide_type": "fragment"
    }
   },
   "outputs": [
    {
     "data": {
      "text/html": [
       "<dl>\n",
       "\t<dt>$coyote</dt>\n",
       "\t\t<dd><table class=\"dataframe\">\n",
       "<caption>A matrix: 6 × 3 of type int</caption>\n",
       "<thead>\n",
       "\t<tr><th scope=col>X1</th><th scope=col>X2</th><th scope=col>X3</th></tr>\n",
       "</thead>\n",
       "<tbody>\n",
       "\t<tr><td>0</td><td>0</td><td>0</td></tr>\n",
       "\t<tr><td>0</td><td>0</td><td>0</td></tr>\n",
       "\t<tr><td>0</td><td>0</td><td>0</td></tr>\n",
       "\t<tr><td>0</td><td>0</td><td>0</td></tr>\n",
       "\t<tr><td>0</td><td>0</td><td>0</td></tr>\n",
       "\t<tr><td>0</td><td>0</td><td>0</td></tr>\n",
       "</tbody>\n",
       "</table>\n",
       "</dd>\n",
       "\t<dt>$redfox</dt>\n",
       "\t\t<dd><table class=\"dataframe\">\n",
       "<caption>A matrix: 6 × 3 of type int</caption>\n",
       "<thead>\n",
       "\t<tr><th scope=col>X1</th><th scope=col>X2</th><th scope=col>X3</th></tr>\n",
       "</thead>\n",
       "<tbody>\n",
       "\t<tr><td>0</td><td>0</td><td>0</td></tr>\n",
       "\t<tr><td>0</td><td>0</td><td>0</td></tr>\n",
       "\t<tr><td>0</td><td>0</td><td>1</td></tr>\n",
       "\t<tr><td>0</td><td>0</td><td>0</td></tr>\n",
       "\t<tr><td>0</td><td>0</td><td>0</td></tr>\n",
       "\t<tr><td>1</td><td>1</td><td>1</td></tr>\n",
       "</tbody>\n",
       "</table>\n",
       "</dd>\n",
       "</dl>\n"
      ],
      "text/latex": [
       "\\begin{description}\n",
       "\\item[\\$coyote] A matrix: 6 × 3 of type int\n",
       "\\begin{tabular}{lll}\n",
       " X1 & X2 & X3\\\\\n",
       "\\hline\n",
       "\t 0 & 0 & 0\\\\\n",
       "\t 0 & 0 & 0\\\\\n",
       "\t 0 & 0 & 0\\\\\n",
       "\t 0 & 0 & 0\\\\\n",
       "\t 0 & 0 & 0\\\\\n",
       "\t 0 & 0 & 0\\\\\n",
       "\\end{tabular}\n",
       "\n",
       "\\item[\\$redfox] A matrix: 6 × 3 of type int\n",
       "\\begin{tabular}{lll}\n",
       " X1 & X2 & X3\\\\\n",
       "\\hline\n",
       "\t 0 & 0 & 0\\\\\n",
       "\t 0 & 0 & 0\\\\\n",
       "\t 0 & 0 & 1\\\\\n",
       "\t 0 & 0 & 0\\\\\n",
       "\t 0 & 0 & 0\\\\\n",
       "\t 1 & 1 & 1\\\\\n",
       "\\end{tabular}\n",
       "\n",
       "\\end{description}\n"
      ],
      "text/markdown": [
       "$coyote\n",
       ":   \n",
       "A matrix: 6 × 3 of type int\n",
       "\n",
       "| X1 | X2 | X3 |\n",
       "|---|---|---|\n",
       "| 0 | 0 | 0 |\n",
       "| 0 | 0 | 0 |\n",
       "| 0 | 0 | 0 |\n",
       "| 0 | 0 | 0 |\n",
       "| 0 | 0 | 0 |\n",
       "| 0 | 0 | 0 |\n",
       "\n",
       "\n",
       "$redfox\n",
       ":   \n",
       "A matrix: 6 × 3 of type int\n",
       "\n",
       "| X1 | X2 | X3 |\n",
       "|---|---|---|\n",
       "| 0 | 0 | 0 |\n",
       "| 0 | 0 | 0 |\n",
       "| 0 | 0 | 1 |\n",
       "| 0 | 0 | 0 |\n",
       "| 0 | 0 | 0 |\n",
       "| 1 | 1 | 1 |\n",
       "\n",
       "\n",
       "\n",
       "\n"
      ],
      "text/plain": [
       "$coyote\n",
       "     X1 X2 X3\n",
       "[1,]  0  0  0\n",
       "[2,]  0  0  0\n",
       "[3,]  0  0  0\n",
       "[4,]  0  0  0\n",
       "[5,]  0  0  0\n",
       "[6,]  0  0  0\n",
       "\n",
       "$redfox\n",
       "     X1 X2 X3\n",
       "[1,]  0  0  0\n",
       "[2,]  0  0  0\n",
       "[3,]  0  0  1\n",
       "[4,]  0  0  0\n",
       "[5,]  0  0  0\n",
       "[6,]  1  1  1\n"
      ]
     },
     "metadata": {},
     "output_type": "display_data"
    }
   ],
   "source": [
    "ylist <- MesoCarnivores[c(2:3)]\n",
    "lapply(ylist, head) # look at first few rows"
   ]
  },
  {
   "cell_type": "markdown",
   "metadata": {
    "slideshow": {
     "slide_type": "slide"
    }
   },
   "source": [
    "### Site covariates\n",
    "\n",
    "The last element of the `MesoCarnivores` list is a data frame of site covariates:"
   ]
  },
  {
   "cell_type": "code",
   "execution_count": 4,
   "metadata": {
    "slideshow": {
     "slide_type": "fragment"
    }
   },
   "outputs": [
    {
     "data": {
      "text/html": [
       "<table class=\"dataframe\">\n",
       "<caption>A data.frame: 6 × 6</caption>\n",
       "<thead>\n",
       "\t<tr><th></th><th scope=col>Dist_5km</th><th scope=col>HDens_5km</th><th scope=col>Latitude</th><th scope=col>Longitude</th><th scope=col>People_site</th><th scope=col>Trail</th></tr>\n",
       "\t<tr><th></th><th scope=col>&lt;dbl&gt;</th><th scope=col>&lt;dbl&gt;</th><th scope=col>&lt;dbl&gt;</th><th scope=col>&lt;dbl&gt;</th><th scope=col>&lt;dbl&gt;</th><th scope=col>&lt;int&gt;</th></tr>\n",
       "</thead>\n",
       "<tbody>\n",
       "\t<tr><th scope=row>1</th><td>0.04</td><td>9.345258</td><td>0.3899441</td><td>-0.7723958</td><td>0.857</td><td>1</td></tr>\n",
       "\t<tr><th scope=row>2</th><td>0.03</td><td>9.499197</td><td>0.3899250</td><td>-0.7723920</td><td>0.002</td><td>0</td></tr>\n",
       "\t<tr><th scope=row>3</th><td>0.03</td><td>9.647173</td><td>0.3899111</td><td>-0.7723954</td><td>0.387</td><td>1</td></tr>\n",
       "\t<tr><th scope=row>4</th><td>0.03</td><td>9.598066</td><td>0.3899166</td><td>-0.7723972</td><td>0.003</td><td>0</td></tr>\n",
       "\t<tr><th scope=row>5</th><td>0.03</td><td>9.607825</td><td>0.3899179</td><td>-0.7724004</td><td>0.000</td><td>0</td></tr>\n",
       "\t<tr><th scope=row>6</th><td>0.03</td><td>9.748791</td><td>0.3899058</td><td>-0.7724046</td><td>0.443</td><td>1</td></tr>\n",
       "</tbody>\n",
       "</table>\n"
      ],
      "text/latex": [
       "A data.frame: 6 × 6\n",
       "\\begin{tabular}{r|llllll}\n",
       "  & Dist\\_5km & HDens\\_5km & Latitude & Longitude & People\\_site & Trail\\\\\n",
       "  & <dbl> & <dbl> & <dbl> & <dbl> & <dbl> & <int>\\\\\n",
       "\\hline\n",
       "\t1 & 0.04 & 9.345258 & 0.3899441 & -0.7723958 & 0.857 & 1\\\\\n",
       "\t2 & 0.03 & 9.499197 & 0.3899250 & -0.7723920 & 0.002 & 0\\\\\n",
       "\t3 & 0.03 & 9.647173 & 0.3899111 & -0.7723954 & 0.387 & 1\\\\\n",
       "\t4 & 0.03 & 9.598066 & 0.3899166 & -0.7723972 & 0.003 & 0\\\\\n",
       "\t5 & 0.03 & 9.607825 & 0.3899179 & -0.7724004 & 0.000 & 0\\\\\n",
       "\t6 & 0.03 & 9.748791 & 0.3899058 & -0.7724046 & 0.443 & 1\\\\\n",
       "\\end{tabular}\n"
      ],
      "text/markdown": [
       "\n",
       "A data.frame: 6 × 6\n",
       "\n",
       "| <!--/--> | Dist_5km &lt;dbl&gt; | HDens_5km &lt;dbl&gt; | Latitude &lt;dbl&gt; | Longitude &lt;dbl&gt; | People_site &lt;dbl&gt; | Trail &lt;int&gt; |\n",
       "|---|---|---|---|---|---|---|\n",
       "| 1 | 0.04 | 9.345258 | 0.3899441 | -0.7723958 | 0.857 | 1 |\n",
       "| 2 | 0.03 | 9.499197 | 0.3899250 | -0.7723920 | 0.002 | 0 |\n",
       "| 3 | 0.03 | 9.647173 | 0.3899111 | -0.7723954 | 0.387 | 1 |\n",
       "| 4 | 0.03 | 9.598066 | 0.3899166 | -0.7723972 | 0.003 | 0 |\n",
       "| 5 | 0.03 | 9.607825 | 0.3899179 | -0.7724004 | 0.000 | 0 |\n",
       "| 6 | 0.03 | 9.748791 | 0.3899058 | -0.7724046 | 0.443 | 1 |\n",
       "\n"
      ],
      "text/plain": [
       "  Dist_5km HDens_5km Latitude  Longitude  People_site Trail\n",
       "1 0.04     9.345258  0.3899441 -0.7723958 0.857       1    \n",
       "2 0.03     9.499197  0.3899250 -0.7723920 0.002       0    \n",
       "3 0.03     9.647173  0.3899111 -0.7723954 0.387       1    \n",
       "4 0.03     9.598066  0.3899166 -0.7723972 0.003       0    \n",
       "5 0.03     9.607825  0.3899179 -0.7724004 0.000       0    \n",
       "6 0.03     9.748791  0.3899058 -0.7724046 0.443       1    "
      ]
     },
     "metadata": {},
     "output_type": "display_data"
    }
   ],
   "source": [
    "site_covs <- MesoCarnivores$sitecovs\n",
    "head(site_covs)"
   ]
  },
  {
   "cell_type": "markdown",
   "metadata": {
    "slideshow": {
     "slide_type": "slide"
    }
   },
   "source": [
    "### Construct the unmarked frame"
   ]
  },
  {
   "cell_type": "code",
   "execution_count": 60,
   "metadata": {
    "scrolled": true,
    "slideshow": {
     "slide_type": "fragment"
    }
   },
   "outputs": [
    {
     "data": {
      "text/plain": [
       "Data frame representation of unmarkedFrame object.\n",
       "Only showing observation matrix for species 1.\n",
       "   y.1 y.2 y.3 Dist_5km HDens_5km  Latitude  Longitude People_site Trail\n",
       "1    0   0   0     0.04  9.345258 0.3899441 -0.7723958       0.857     1\n",
       "2    0   0   0     0.03  9.499197 0.3899250 -0.7723920       0.002     0\n",
       "3    0   0   0     0.03  9.647173 0.3899111 -0.7723954       0.387     1\n",
       "4    0   0   0     0.03  9.598066 0.3899166 -0.7723972       0.003     0\n",
       "5    0   0   0     0.03  9.607825 0.3899179 -0.7724004       0.000     0\n",
       "6    0   0   0     0.03  9.748791 0.3899058 -0.7724046       0.443     1\n",
       "7    0   0   0     0.03  9.715359 0.3899097 -0.7724065       0.000     0\n",
       "8    0   0   0     0.03  9.685091 0.3899135 -0.7724103       0.000     0\n",
       "9    0   0   0     0.04  9.051558 0.3899955 -0.7724561       0.002     0\n",
       "10   0   0   0     0.04  9.031836 0.3899971 -0.7724504       0.000     0"
      ]
     },
     "metadata": {},
     "output_type": "display_data"
    }
   ],
   "source": [
    "umf <- unmarkedFrameOccuMulti(y=ylist, siteCovs=site_covs)\n",
    "head(umf)"
   ]
  },
  {
   "cell_type": "code",
   "execution_count": 6,
   "metadata": {
    "slideshow": {
     "slide_type": "fragment"
    }
   },
   "outputs": [
    {
     "name": "stdout",
     "output_type": "stream",
     "text": [
      "unmarkedFrame Object\n",
      "\n",
      "1437 sites\n",
      "2 species: coyote redfox \n",
      "Maximum number of observations per site: 3 \n",
      "Mean number of observations per site:\n",
      "coyote: 3  redfox: 3  \n",
      "Sites with at least one detection:\n",
      "coyote: 401  redfox: 161  \n",
      "Tabulation of y observations:\n",
      "coyote:\n",
      "   0    1 \n",
      "3685  626 \n",
      "redfox:\n",
      "   0    1 \n",
      "4054  257 \n",
      "\n",
      "Site-level covariates:\n",
      "    Dist_5km         HDens_5km           Latitude        Longitude      \n",
      " Min.   :0.00000   Min.   :  0.0000   Min.   :0.3454   Min.   :-0.8539  \n",
      " 1st Qu.:0.00000   1st Qu.:  0.2073   1st Qu.:0.3567   1st Qu.:-0.8009  \n",
      " Median :0.00000   Median :  0.7310   Median :0.3753   Median :-0.7940  \n",
      " Mean   :0.01419   Mean   :  8.4532   Mean   :0.3726   Mean   :-0.7969  \n",
      " 3rd Qu.:0.02000   3rd Qu.:  3.0219   3rd Qu.:0.3863   3rd Qu.:-0.7801  \n",
      " Max.   :0.13000   Max.   :186.6694   Max.   :0.3967   Max.   :-0.7690  \n",
      "  People_site          Trail       \n",
      " Min.   :0.00000   Min.   :0.0000  \n",
      " 1st Qu.:0.00000   1st Qu.:0.0000  \n",
      " Median :0.00000   Median :0.0000  \n",
      " Mean   :0.05807   Mean   :0.3229  \n",
      " 3rd Qu.:0.00900   3rd Qu.:1.0000  \n",
      " Max.   :2.44100   Max.   :1.0000  \n"
     ]
    }
   ],
   "source": [
    "summary(umf)"
   ]
  },
  {
   "cell_type": "code",
   "execution_count": 7,
   "metadata": {
    "scrolled": true,
    "slideshow": {
     "slide_type": "fragment"
    }
   },
   "outputs": [
    {
     "data": {
      "image/png": "[encoded data removed]",
      "text/plain": [
       "plot without title"
      ]
     },
     "metadata": {
      "image/png": {
       "height": 420,
       "width": 420
      }
     },
     "output_type": "display_data"
    }
   ],
   "source": [
    "plot(umf)"
   ]
  },
  {
   "cell_type": "markdown",
   "metadata": {
    "slideshow": {
     "slide_type": "slide"
    }
   },
   "source": [
    "## Set up the formulas"
   ]
  },
  {
   "cell_type": "markdown",
   "metadata": {
    "slideshow": {
     "slide_type": "fragment"
    }
   },
   "source": [
    "![](occuMulti_setup.png)"
   ]
  },
  {
   "cell_type": "markdown",
   "metadata": {
    "slideshow": {
     "slide_type": "slide"
    }
   },
   "source": [
    "### `stateformulas`\n",
    "\n",
    "While `occu` had a single formula for occupancy, `occuMulti` requires one formula per natural parameter $f$, organized into a `stateformulas` vector."
   ]
  },
  {
   "cell_type": "markdown",
   "metadata": {
    "slideshow": {
     "slide_type": "fragment"
    }
   },
   "source": [
    "It can be hard to keep track of how many natural parameters there are and what each one represents.\n",
    "\n",
    "$$ \n",
    "\\begin{align}\n",
    "\\psi_{11} & \\propto exp(f_{1} + f_{2} + f_{12}) \\\\\n",
    "\\psi_{10} & \\propto exp(f_{1}) \\\\\n",
    "\\psi_{01} & \\propto exp(f_{2}) \\\\\n",
    "\\psi_{00} & \\propto exp(0) = 1\n",
    "\\end{align}\n",
    "$$"
   ]
  },
  {
   "cell_type": "markdown",
   "metadata": {
    "slideshow": {
     "slide_type": "fragment"
    }
   },
   "source": [
    "It can be helpful to look at the $f$-design matrix, which is generated by `unmarkedFrameOccuMulti`."
   ]
  },
  {
   "cell_type": "code",
   "execution_count": 8,
   "metadata": {
    "scrolled": true,
    "slideshow": {
     "slide_type": "fragment"
    }
   },
   "outputs": [
    {
     "data": {
      "text/html": [
       "<table class=\"dataframe\">\n",
       "<caption>A matrix: 4 × 3 of type dbl</caption>\n",
       "<thead>\n",
       "\t<tr><th></th><th scope=col>f1[coyote]</th><th scope=col>f2[redfox]</th><th scope=col>f3[coyote:redfox]</th></tr>\n",
       "</thead>\n",
       "<tbody>\n",
       "\t<tr><th scope=row>psi[11]</th><td>1</td><td>1</td><td>1</td></tr>\n",
       "\t<tr><th scope=row>psi[10]</th><td>1</td><td>0</td><td>0</td></tr>\n",
       "\t<tr><th scope=row>psi[01]</th><td>0</td><td>1</td><td>0</td></tr>\n",
       "\t<tr><th scope=row>psi[00]</th><td>0</td><td>0</td><td>0</td></tr>\n",
       "</tbody>\n",
       "</table>\n"
      ],
      "text/latex": [
       "A matrix: 4 × 3 of type dbl\n",
       "\\begin{tabular}{r|lll}\n",
       "  & f1{[}coyote{]} & f2{[}redfox{]} & f3{[}coyote:redfox{]}\\\\\n",
       "\\hline\n",
       "\tpsi{[}11{]} & 1 & 1 & 1\\\\\n",
       "\tpsi{[}10{]} & 1 & 0 & 0\\\\\n",
       "\tpsi{[}01{]} & 0 & 1 & 0\\\\\n",
       "\tpsi{[}00{]} & 0 & 0 & 0\\\\\n",
       "\\end{tabular}\n"
      ],
      "text/markdown": [
       "\n",
       "A matrix: 4 × 3 of type dbl\n",
       "\n",
       "| <!--/--> | f1[coyote] | f2[redfox] | f3[coyote:redfox] |\n",
       "|---|---|---|---|\n",
       "| psi[11] | 1 | 1 | 1 |\n",
       "| psi[10] | 1 | 0 | 0 |\n",
       "| psi[01] | 0 | 1 | 0 |\n",
       "| psi[00] | 0 | 0 | 0 |\n",
       "\n"
      ],
      "text/plain": [
       "        f1[coyote] f2[redfox] f3[coyote:redfox]\n",
       "psi[11] 1          1          1                \n",
       "psi[10] 1          0          0                \n",
       "psi[01] 0          1          0                \n",
       "psi[00] 0          0          0                "
      ]
     },
     "metadata": {},
     "output_type": "display_data"
    }
   ],
   "source": [
    "umf@fDesign"
   ]
  },
  {
   "cell_type": "markdown",
   "metadata": {
    "slideshow": {
     "slide_type": "fragment"
    }
   },
   "source": [
    "The number and order of the formulas in the `stateformulas` vector should match the column names of this matrix.\n",
    "Therefore we'll need 3 formulas total.\n",
    "For this model we'll set the 1st-order $f$ parameters to be a function of (standardized) housing density. The interaction term will be intercept-only.\n",
    "\n",
    "Our `stateformulas` should look like this:"
   ]
  },
  {
   "cell_type": "code",
   "execution_count": 9,
   "metadata": {
    "slideshow": {
     "slide_type": "fragment"
    }
   },
   "outputs": [
    {
     "data": {
      "text/html": [
       "<style>\n",
       ".list-inline {list-style: none; margin:0; padding: 0}\n",
       ".list-inline>li {display: inline-block}\n",
       ".list-inline>li:not(:last-child)::after {content: \"\\00b7\"; padding: 0 .5ex}\n",
       "</style>\n",
       "<ol class=list-inline><li>'~scale(HDens_5km)'</li><li>'~scale(HDens_5km)'</li><li>'~1'</li></ol>\n"
      ],
      "text/latex": [
       "\\begin{enumerate*}\n",
       "\\item '\\textasciitilde{}scale(HDens\\_5km)'\n",
       "\\item '\\textasciitilde{}scale(HDens\\_5km)'\n",
       "\\item '\\textasciitilde{}1'\n",
       "\\end{enumerate*}\n"
      ],
      "text/markdown": [
       "1. '~scale(HDens_5km)'\n",
       "2. '~scale(HDens_5km)'\n",
       "3. '~1'\n",
       "\n",
       "\n"
      ],
      "text/plain": [
       "[1] \"~scale(HDens_5km)\" \"~scale(HDens_5km)\" \"~1\"               "
      ]
     },
     "metadata": {},
     "output_type": "display_data"
    }
   ],
   "source": [
    "stateformulas <- c(\"~scale(HDens_5km)\",\"~scale(HDens_5km)\",\"~1\")\n",
    "stateformulas"
   ]
  },
  {
   "cell_type": "markdown",
   "metadata": {
    "slideshow": {
     "slide_type": "fragment"
    }
   },
   "source": [
    "Notice that the formulas are **strings** (each wrapped in `\"\"`). This is required and is just working around some R limitations."
   ]
  },
  {
   "cell_type": "markdown",
   "metadata": {
    "slideshow": {
     "slide_type": "fragment"
    }
   },
   "source": [
    "Also notice the calls to `scale()`: this will automatically scale the covariate."
   ]
  },
  {
   "cell_type": "markdown",
   "metadata": {
    "slideshow": {
     "slide_type": "slide"
    }
   },
   "source": [
    "### `detformulas`\n",
    "\n",
    "This one is easier, there is just one formula per species, so there should be 2 total.\n",
    "\n",
    "Intercept-only models for both species:"
   ]
  },
  {
   "cell_type": "code",
   "execution_count": 10,
   "metadata": {
    "slideshow": {
     "slide_type": "fragment"
    }
   },
   "outputs": [
    {
     "data": {
      "text/html": [
       "<style>\n",
       ".list-inline {list-style: none; margin:0; padding: 0}\n",
       ".list-inline>li {display: inline-block}\n",
       ".list-inline>li:not(:last-child)::after {content: \"\\00b7\"; padding: 0 .5ex}\n",
       "</style>\n",
       "<ol class=list-inline><li>'~1'</li><li>'~1'</li></ol>\n"
      ],
      "text/latex": [
       "\\begin{enumerate*}\n",
       "\\item '\\textasciitilde{}1'\n",
       "\\item '\\textasciitilde{}1'\n",
       "\\end{enumerate*}\n"
      ],
      "text/markdown": [
       "1. '~1'\n",
       "2. '~1'\n",
       "\n",
       "\n"
      ],
      "text/plain": [
       "[1] \"~1\" \"~1\""
      ]
     },
     "metadata": {},
     "output_type": "display_data"
    }
   ],
   "source": [
    "detformulas <- c(\"~1\",\"~1\")\n",
    "detformulas"
   ]
  },
  {
   "cell_type": "markdown",
   "metadata": {
    "slideshow": {
     "slide_type": "slide"
    },
    "tags": []
   },
   "source": [
    "## Run `occuMulti`"
   ]
  },
  {
   "cell_type": "markdown",
   "metadata": {
    "slideshow": {
     "slide_type": "fragment"
    }
   },
   "source": [
    "We now have all the pieces we need (`unmarkedFrameOccuMulti`, `stateformulas`, `detformulas`) needed to run a model."
   ]
  },
  {
   "cell_type": "code",
   "execution_count": null,
   "metadata": {
    "scrolled": true,
    "slideshow": {
     "slide_type": "fragment"
    },
    "tags": []
   },
   "outputs": [],
   "source": [
    "?occuMulti"
   ]
  },
  {
   "cell_type": "code",
   "execution_count": 11,
   "metadata": {
    "slideshow": {
     "slide_type": "slide"
    },
    "tags": []
   },
   "outputs": [
    {
     "data": {
      "text/plain": [
       "\n",
       "Call:\n",
       "occuMulti(detformulas = detformulas, stateformulas = stateformulas, \n",
       "    data = umf, maxOrder = 2L)\n",
       "\n",
       "Occupancy:\n",
       "                             Estimate     SE         z  P(>|z|)\n",
       "[coyote] (Intercept)        -0.786370 0.0815  -9.64306 5.26e-22\n",
       "[coyote] scale(HDens_5km)   -0.000668 0.0691  -0.00966 9.92e-01\n",
       "[redfox] (Intercept)        -2.391812 0.1598 -14.96684 1.21e-50\n",
       "[redfox] scale(HDens_5km)    0.504456 0.0813   6.20113 5.61e-10\n",
       "[coyote:redfox] (Intercept)  1.062921 0.2322   4.57859 4.68e-06\n",
       "\n",
       "Detection:\n",
       "                     Estimate     SE     z  P(>|z|)\n",
       "[coyote] (Intercept)   -0.333 0.0764 -4.36 1.31e-05\n",
       "[redfox] (Intercept)   -0.251 0.1180 -2.13 3.34e-02\n",
       "\n",
       "AIC: 4800.859 "
      ]
     },
     "metadata": {},
     "output_type": "display_data"
    }
   ],
   "source": [
    "mod_hdens <- occuMulti(detformulas=detformulas, stateformulas=stateformulas, data=umf)\n",
    "mod_hdens"
   ]
  },
  {
   "cell_type": "markdown",
   "metadata": {
    "slideshow": {
     "slide_type": "slide"
    },
    "tags": []
   },
   "source": [
    "## Model goodness-of-fit\n",
    "\n",
    "Fit statistic: sum of squared Pearson residuals across all species\n",
    "\n",
    "$$ SSE = \\sum_{s=1}^S \\sum_{i=1}^{M\\cdot J} \\frac{\\left(y_{i} - \\hat{y}_{i}\\right)^2}{\\hat{y}_i \\cdot (1-\\hat{y}_i)} $$\n",
    "\n",
    "$$ \\hat{y}_i = \\psi_{marg_i} \\cdot p_i $$"
   ]
  },
  {
   "cell_type": "code",
   "execution_count": 12,
   "metadata": {
    "slideshow": {
     "slide_type": "fragment"
    }
   },
   "outputs": [],
   "source": [
    "pearson2 <- function(fit){\n",
    "  y <- fit@data@ylist\n",
    "  S <- length(y)\n",
    "  yhat <- fitted(fit)\n",
    "\n",
    "  out <- lapply(1:S, function(s){\n",
    "    (y[[s]] - yhat[[s]])^2 / (yhat[[s]] * (1-yhat[[s]]))\n",
    "  })\n",
    "\n",
    "  sum(unlist(out))\n",
    "}"
   ]
  },
  {
   "cell_type": "markdown",
   "metadata": {
    "slideshow": {
     "slide_type": "fragment"
    },
    "tags": []
   },
   "source": [
    "$\\psi_{marg_i}$ is the marginal occupancy for the species (I'll talk about it more in a minute)\n",
    "\n",
    "Run a parametric bootstrap (takes a while):"
   ]
  },
  {
   "cell_type": "code",
   "execution_count": 13,
   "metadata": {
    "slideshow": {
     "slide_type": "fragment"
    },
    "tags": []
   },
   "outputs": [
    {
     "data": {
      "image/png": "[encoded data removed]",
      "text/plain": [
       "Plot with title “Parametric Bootstrapped Samples”"
      ]
     },
     "metadata": {
      "image/png": {
       "height": 420,
       "width": 420
      }
     },
     "output_type": "display_data"
    }
   ],
   "source": [
    "pb <- parboot(mod_hdens, statistic = pearson2, nsim = 30)\n",
    "plot(pb)"
   ]
  },
  {
   "cell_type": "markdown",
   "metadata": {
    "slideshow": {
     "slide_type": "fragment"
    },
    "tags": []
   },
   "source": [
    "Dotted line (real dataset) should fall within the histogram (simulated datasets)."
   ]
  },
  {
   "cell_type": "markdown",
   "metadata": {
    "slideshow": {
     "slide_type": "fragment"
    }
   },
   "source": [
    "There isn't a function available for the MB test for multispecies models (yet?)"
   ]
  },
  {
   "cell_type": "markdown",
   "metadata": {
    "slideshow": {
     "slide_type": "slide"
    }
   },
   "source": [
    "## Inference"
   ]
  },
  {
   "cell_type": "code",
   "execution_count": 14,
   "metadata": {
    "slideshow": {
     "slide_type": "fragment"
    }
   },
   "outputs": [
    {
     "data": {
      "text/plain": [
       "\n",
       "Call:\n",
       "occuMulti(detformulas = detformulas, stateformulas = stateformulas, \n",
       "    data = umf, maxOrder = 2L)\n",
       "\n",
       "Occupancy:\n",
       "                             Estimate     SE         z  P(>|z|)\n",
       "[coyote] (Intercept)        -0.786370 0.0815  -9.64306 5.26e-22\n",
       "[coyote] scale(HDens_5km)   -0.000668 0.0691  -0.00966 9.92e-01\n",
       "[redfox] (Intercept)        -2.391812 0.1598 -14.96684 1.21e-50\n",
       "[redfox] scale(HDens_5km)    0.504456 0.0813   6.20113 5.61e-10\n",
       "[coyote:redfox] (Intercept)  1.062921 0.2322   4.57859 4.68e-06\n",
       "\n",
       "Detection:\n",
       "                     Estimate     SE     z  P(>|z|)\n",
       "[coyote] (Intercept)   -0.333 0.0764 -4.36 1.31e-05\n",
       "[redfox] (Intercept)   -0.251 0.1180 -2.13 3.34e-02\n",
       "\n",
       "AIC: 4800.859 "
      ]
     },
     "metadata": {},
     "output_type": "display_data"
    }
   ],
   "source": [
    "mod_hdens"
   ]
  },
  {
   "cell_type": "markdown",
   "metadata": {
    "slideshow": {
     "slide_type": "slide"
    },
    "tags": []
   },
   "source": [
    "**Inference about species \"in isolation\"**\n",
    "\n",
    "Or \"first order\" effects\n",
    "\n",
    "* Coyote occupancy is higher than red fox (when the other species is absent!)\n",
    "* No relationship between coyote occupancy and housing density\n",
    "* Positive relationship between red fox and housing density"
   ]
  },
  {
   "cell_type": "markdown",
   "metadata": {
    "slideshow": {
     "slide_type": "slide"
    }
   },
   "source": [
    "**Inference about interaction**\n",
    "\n",
    "\"Second order\" effects (because we're talking about 2-way or pairwise interaction)\n",
    "\n",
    "* Positive interaction between coyote and fox, and 95% CI doesn't overlap 0"
   ]
  },
  {
   "cell_type": "markdown",
   "metadata": {
    "slideshow": {
     "slide_type": "fragment"
    }
   },
   "source": [
    "* At sites where coyote is present, red fox is more likely to be present (higher occupancy)\n",
    "* At sites were red fox is present, coyote is more likely to be present\n",
    "\n",
    "i.e., the interaction is **symmetric**"
   ]
  },
  {
   "cell_type": "markdown",
   "metadata": {
    "slideshow": {
     "slide_type": "slide"
    }
   },
   "source": [
    "### Exercise"
   ]
  },
  {
   "cell_type": "markdown",
   "metadata": {
    "slideshow": {
     "slide_type": "fragment"
    }
   },
   "source": [
    "* Add `Dist_5km` (disturbance) as a site-level covariate on one or more occupancy parameters\n",
    "* Add `Trail` as a covariate on detection probability for both species\n",
    "* Name the model object `mod_dist`\n",
    "* If you have time, check goodness-of-fit with `parboot`"
   ]
  },
  {
   "cell_type": "code",
   "execution_count": 15,
   "metadata": {
    "slideshow": {
     "slide_type": "fragment"
    }
   },
   "outputs": [
    {
     "data": {
      "text/plain": [
       "Data frame representation of unmarkedFrame object.\n",
       "Only showing observation matrix for species 1.\n",
       "   y.1 y.2 y.3 Dist_5km HDens_5km  Latitude  Longitude People_site Trail\n",
       "1    0   0   0     0.04  9.345258 0.3899441 -0.7723958       0.857     1\n",
       "2    0   0   0     0.03  9.499197 0.3899250 -0.7723920       0.002     0\n",
       "3    0   0   0     0.03  9.647173 0.3899111 -0.7723954       0.387     1\n",
       "4    0   0   0     0.03  9.598066 0.3899166 -0.7723972       0.003     0\n",
       "5    0   0   0     0.03  9.607825 0.3899179 -0.7724004       0.000     0\n",
       "6    0   0   0     0.03  9.748791 0.3899058 -0.7724046       0.443     1\n",
       "7    0   0   0     0.03  9.715359 0.3899097 -0.7724065       0.000     0\n",
       "8    0   0   0     0.03  9.685091 0.3899135 -0.7724103       0.000     0\n",
       "9    0   0   0     0.04  9.051558 0.3899955 -0.7724561       0.002     0\n",
       "10   0   0   0     0.04  9.031836 0.3899971 -0.7724504       0.000     0"
      ]
     },
     "metadata": {},
     "output_type": "display_data"
    }
   ],
   "source": [
    "head(umf)"
   ]
  },
  {
   "cell_type": "code",
   "execution_count": 16,
   "metadata": {
    "slideshow": {
     "slide_type": "slide"
    }
   },
   "outputs": [
    {
     "data": {
      "text/plain": [
       "\n",
       "Call:\n",
       "occuMulti(detformulas = detform2, stateformulas = stateform2, \n",
       "    data = umf, maxOrder = 2L)\n",
       "\n",
       "Occupancy:\n",
       "                                Estimate     SE      z  P(>|z|)\n",
       "[coyote] (Intercept)              0.0340 0.1149  0.296 7.67e-01\n",
       "[coyote] scale(Dist_5km)          0.0287 0.0925  0.310 7.56e-01\n",
       "[redfox] (Intercept)             -2.0294 0.2254 -9.003 2.19e-19\n",
       "[redfox] scale(Dist_5km)         -0.2673 0.2288 -1.169 2.43e-01\n",
       "[coyote:redfox] (Intercept)       0.7984 0.2829  2.823 4.76e-03\n",
       "[coyote:redfox] scale(Dist_5km)  -0.0351 0.2954 -0.119 9.06e-01\n",
       "\n",
       "Detection:\n",
       "                     Estimate    SE      z  P(>|z|)\n",
       "[coyote] (Intercept)    -1.94 0.100 -19.38 1.20e-83\n",
       "[coyote] Trail           2.15 0.123  17.48 2.20e-68\n",
       "[redfox] (Intercept)    -1.38 0.184  -7.50 6.37e-14\n",
       "[redfox] Trail           1.61 0.219   7.34 2.07e-13\n",
       "\n",
       "AIC: 4555.673 "
      ]
     },
     "metadata": {},
     "output_type": "display_data"
    }
   ],
   "source": [
    "stateform2 <- c(\"~scale(Dist_5km)\",\"~scale(Dist_5km)\",\"~scale(Dist_5km)\")\n",
    "detform2 <- c(\"~Trail\", \"~Trail\")\n",
    "mod_dist <- occuMulti(detform2, stateform2, umf)\n",
    "mod_dist"
   ]
  },
  {
   "cell_type": "code",
   "execution_count": null,
   "metadata": {
    "slideshow": {
     "slide_type": "fragment"
    }
   },
   "outputs": [],
   "source": [
    "pb2 <- parboot(mod_dist, statistic = pearson2, nsim=30)\n",
    "plot(pb2)"
   ]
  },
  {
   "cell_type": "markdown",
   "metadata": {
    "slideshow": {
     "slide_type": "slide"
    }
   },
   "source": [
    "### Occupancy probabilities\n",
    "\n",
    "To get the expected probability $\\boldsymbol\\psi$ for each occupancy state at each site, use `predict`.\n",
    "This gives you the probabilities along with standard errors and a 95% CI."
   ]
  },
  {
   "cell_type": "code",
   "execution_count": 17,
   "metadata": {
    "slideshow": {
     "slide_type": "fragment"
    },
    "tags": []
   },
   "outputs": [
    {
     "name": "stderr",
     "output_type": "stream",
     "text": [
      "Bootstrapping confidence intervals with 100 samples\n",
      "\n"
     ]
    },
    {
     "data": {
      "text/html": [
       "<dl>\n",
       "\t<dt>$Predicted</dt>\n",
       "\t\t<dd><table class=\"dataframe\">\n",
       "<caption>A matrix: 6 × 4 of type dbl</caption>\n",
       "<thead>\n",
       "\t<tr><th scope=col>psi[11]</th><th scope=col>psi[10]</th><th scope=col>psi[01]</th><th scope=col>psi[00]</th></tr>\n",
       "</thead>\n",
       "<tbody>\n",
       "\t<tr><td>0.07332333</td><td>0.2725955</td><td>0.05560920</td><td>0.5984720</td></tr>\n",
       "\t<tr><td>0.07349727</td><td>0.2724991</td><td>0.05574131</td><td>0.5982624</td></tr>\n",
       "\t<tr><td>0.07366480</td><td>0.2724062</td><td>0.05586856</td><td>0.5980605</td></tr>\n",
       "\t<tr><td>0.07360916</td><td>0.2724370</td><td>0.05582630</td><td>0.5981275</td></tr>\n",
       "\t<tr><td>0.07362022</td><td>0.2724309</td><td>0.05583470</td><td>0.5981142</td></tr>\n",
       "\t<tr><td>0.07378003</td><td>0.2723423</td><td>0.05595609</td><td>0.5979216</td></tr>\n",
       "</tbody>\n",
       "</table>\n",
       "</dd>\n",
       "\t<dt>$SE</dt>\n",
       "\t\t<dd><table class=\"dataframe\">\n",
       "<caption>A matrix: 6 × 4 of type dbl</caption>\n",
       "<thead>\n",
       "\t<tr><th scope=col>psi[11]</th><th scope=col>psi[10]</th><th scope=col>psi[01]</th><th scope=col>psi[00]</th></tr>\n",
       "</thead>\n",
       "<tbody>\n",
       "\t<tr><td>0.008389343</td><td>0.01601586</td><td>0.008638850</td><td>0.01788425</td></tr>\n",
       "\t<tr><td>0.008404061</td><td>0.01602268</td><td>0.008656270</td><td>0.01789938</td></tr>\n",
       "\t<tr><td>0.008418310</td><td>0.01602954</td><td>0.008673113</td><td>0.01791421</td></tr>\n",
       "\t<tr><td>0.008413571</td><td>0.01602723</td><td>0.008667513</td><td>0.01790926</td></tr>\n",
       "\t<tr><td>0.008414512</td><td>0.01602769</td><td>0.008668625</td><td>0.01791024</td></tr>\n",
       "\t<tr><td>0.008428152</td><td>0.01603442</td><td>0.008684737</td><td>0.01792454</td></tr>\n",
       "</tbody>\n",
       "</table>\n",
       "</dd>\n",
       "\t<dt>$lower</dt>\n",
       "\t\t<dd><table class=\"dataframe\">\n",
       "<caption>A matrix: 6 × 4 of type dbl</caption>\n",
       "<thead>\n",
       "\t<tr><th scope=col>psi[11]</th><th scope=col>psi[10]</th><th scope=col>psi[01]</th><th scope=col>psi[00]</th></tr>\n",
       "</thead>\n",
       "<tbody>\n",
       "\t<tr><td>0.05858634</td><td>0.2412846</td><td>0.04131342</td><td>0.5685071</td></tr>\n",
       "\t<tr><td>0.05872785</td><td>0.2411942</td><td>0.04142122</td><td>0.5683269</td></tr>\n",
       "\t<tr><td>0.05886416</td><td>0.2411072</td><td>0.04152508</td><td>0.5681532</td></tr>\n",
       "\t<tr><td>0.05881889</td><td>0.2411361</td><td>0.04149059</td><td>0.5682109</td></tr>\n",
       "\t<tr><td>0.05882789</td><td>0.2411304</td><td>0.04149744</td><td>0.5681994</td></tr>\n",
       "\t<tr><td>0.05895793</td><td>0.2410473</td><td>0.04159654</td><td>0.5680336</td></tr>\n",
       "</tbody>\n",
       "</table>\n",
       "</dd>\n",
       "\t<dt>$upper</dt>\n",
       "\t\t<dd><table class=\"dataframe\">\n",
       "<caption>A matrix: 6 × 4 of type dbl</caption>\n",
       "<thead>\n",
       "\t<tr><th scope=col>psi[11]</th><th scope=col>psi[10]</th><th scope=col>psi[01]</th><th scope=col>psi[00]</th></tr>\n",
       "</thead>\n",
       "<tbody>\n",
       "\t<tr><td>0.08961073</td><td>0.3051892</td><td>0.07261571</td><td>0.6347218</td></tr>\n",
       "\t<tr><td>0.08980215</td><td>0.3051370</td><td>0.07278079</td><td>0.6345564</td></tr>\n",
       "\t<tr><td>0.08998647</td><td>0.3050866</td><td>0.07293977</td><td>0.6343972</td></tr>\n",
       "\t<tr><td>0.08992527</td><td>0.3051034</td><td>0.07288698</td><td>0.6344501</td></tr>\n",
       "\t<tr><td>0.08993743</td><td>0.3051000</td><td>0.07289747</td><td>0.6344396</td></tr>\n",
       "\t<tr><td>0.09011324</td><td>0.3050519</td><td>0.07304911</td><td>0.6342877</td></tr>\n",
       "</tbody>\n",
       "</table>\n",
       "</dd>\n",
       "</dl>\n"
      ],
      "text/latex": [
       "\\begin{description}\n",
       "\\item[\\$Predicted] A matrix: 6 × 4 of type dbl\n",
       "\\begin{tabular}{llll}\n",
       " psi{[}11{]} & psi{[}10{]} & psi{[}01{]} & psi{[}00{]}\\\\\n",
       "\\hline\n",
       "\t 0.07332333 & 0.2725955 & 0.05560920 & 0.5984720\\\\\n",
       "\t 0.07349727 & 0.2724991 & 0.05574131 & 0.5982624\\\\\n",
       "\t 0.07366480 & 0.2724062 & 0.05586856 & 0.5980605\\\\\n",
       "\t 0.07360916 & 0.2724370 & 0.05582630 & 0.5981275\\\\\n",
       "\t 0.07362022 & 0.2724309 & 0.05583470 & 0.5981142\\\\\n",
       "\t 0.07378003 & 0.2723423 & 0.05595609 & 0.5979216\\\\\n",
       "\\end{tabular}\n",
       "\n",
       "\\item[\\$SE] A matrix: 6 × 4 of type dbl\n",
       "\\begin{tabular}{llll}\n",
       " psi{[}11{]} & psi{[}10{]} & psi{[}01{]} & psi{[}00{]}\\\\\n",
       "\\hline\n",
       "\t 0.008389343 & 0.01601586 & 0.008638850 & 0.01788425\\\\\n",
       "\t 0.008404061 & 0.01602268 & 0.008656270 & 0.01789938\\\\\n",
       "\t 0.008418310 & 0.01602954 & 0.008673113 & 0.01791421\\\\\n",
       "\t 0.008413571 & 0.01602723 & 0.008667513 & 0.01790926\\\\\n",
       "\t 0.008414512 & 0.01602769 & 0.008668625 & 0.01791024\\\\\n",
       "\t 0.008428152 & 0.01603442 & 0.008684737 & 0.01792454\\\\\n",
       "\\end{tabular}\n",
       "\n",
       "\\item[\\$lower] A matrix: 6 × 4 of type dbl\n",
       "\\begin{tabular}{llll}\n",
       " psi{[}11{]} & psi{[}10{]} & psi{[}01{]} & psi{[}00{]}\\\\\n",
       "\\hline\n",
       "\t 0.05858634 & 0.2412846 & 0.04131342 & 0.5685071\\\\\n",
       "\t 0.05872785 & 0.2411942 & 0.04142122 & 0.5683269\\\\\n",
       "\t 0.05886416 & 0.2411072 & 0.04152508 & 0.5681532\\\\\n",
       "\t 0.05881889 & 0.2411361 & 0.04149059 & 0.5682109\\\\\n",
       "\t 0.05882789 & 0.2411304 & 0.04149744 & 0.5681994\\\\\n",
       "\t 0.05895793 & 0.2410473 & 0.04159654 & 0.5680336\\\\\n",
       "\\end{tabular}\n",
       "\n",
       "\\item[\\$upper] A matrix: 6 × 4 of type dbl\n",
       "\\begin{tabular}{llll}\n",
       " psi{[}11{]} & psi{[}10{]} & psi{[}01{]} & psi{[}00{]}\\\\\n",
       "\\hline\n",
       "\t 0.08961073 & 0.3051892 & 0.07261571 & 0.6347218\\\\\n",
       "\t 0.08980215 & 0.3051370 & 0.07278079 & 0.6345564\\\\\n",
       "\t 0.08998647 & 0.3050866 & 0.07293977 & 0.6343972\\\\\n",
       "\t 0.08992527 & 0.3051034 & 0.07288698 & 0.6344501\\\\\n",
       "\t 0.08993743 & 0.3051000 & 0.07289747 & 0.6344396\\\\\n",
       "\t 0.09011324 & 0.3050519 & 0.07304911 & 0.6342877\\\\\n",
       "\\end{tabular}\n",
       "\n",
       "\\end{description}\n"
      ],
      "text/markdown": [
       "$Predicted\n",
       ":   \n",
       "A matrix: 6 × 4 of type dbl\n",
       "\n",
       "| psi[11] | psi[10] | psi[01] | psi[00] |\n",
       "|---|---|---|---|\n",
       "| 0.07332333 | 0.2725955 | 0.05560920 | 0.5984720 |\n",
       "| 0.07349727 | 0.2724991 | 0.05574131 | 0.5982624 |\n",
       "| 0.07366480 | 0.2724062 | 0.05586856 | 0.5980605 |\n",
       "| 0.07360916 | 0.2724370 | 0.05582630 | 0.5981275 |\n",
       "| 0.07362022 | 0.2724309 | 0.05583470 | 0.5981142 |\n",
       "| 0.07378003 | 0.2723423 | 0.05595609 | 0.5979216 |\n",
       "\n",
       "\n",
       "$SE\n",
       ":   \n",
       "A matrix: 6 × 4 of type dbl\n",
       "\n",
       "| psi[11] | psi[10] | psi[01] | psi[00] |\n",
       "|---|---|---|---|\n",
       "| 0.008389343 | 0.01601586 | 0.008638850 | 0.01788425 |\n",
       "| 0.008404061 | 0.01602268 | 0.008656270 | 0.01789938 |\n",
       "| 0.008418310 | 0.01602954 | 0.008673113 | 0.01791421 |\n",
       "| 0.008413571 | 0.01602723 | 0.008667513 | 0.01790926 |\n",
       "| 0.008414512 | 0.01602769 | 0.008668625 | 0.01791024 |\n",
       "| 0.008428152 | 0.01603442 | 0.008684737 | 0.01792454 |\n",
       "\n",
       "\n",
       "$lower\n",
       ":   \n",
       "A matrix: 6 × 4 of type dbl\n",
       "\n",
       "| psi[11] | psi[10] | psi[01] | psi[00] |\n",
       "|---|---|---|---|\n",
       "| 0.05858634 | 0.2412846 | 0.04131342 | 0.5685071 |\n",
       "| 0.05872785 | 0.2411942 | 0.04142122 | 0.5683269 |\n",
       "| 0.05886416 | 0.2411072 | 0.04152508 | 0.5681532 |\n",
       "| 0.05881889 | 0.2411361 | 0.04149059 | 0.5682109 |\n",
       "| 0.05882789 | 0.2411304 | 0.04149744 | 0.5681994 |\n",
       "| 0.05895793 | 0.2410473 | 0.04159654 | 0.5680336 |\n",
       "\n",
       "\n",
       "$upper\n",
       ":   \n",
       "A matrix: 6 × 4 of type dbl\n",
       "\n",
       "| psi[11] | psi[10] | psi[01] | psi[00] |\n",
       "|---|---|---|---|\n",
       "| 0.08961073 | 0.3051892 | 0.07261571 | 0.6347218 |\n",
       "| 0.08980215 | 0.3051370 | 0.07278079 | 0.6345564 |\n",
       "| 0.08998647 | 0.3050866 | 0.07293977 | 0.6343972 |\n",
       "| 0.08992527 | 0.3051034 | 0.07288698 | 0.6344501 |\n",
       "| 0.08993743 | 0.3051000 | 0.07289747 | 0.6344396 |\n",
       "| 0.09011324 | 0.3050519 | 0.07304911 | 0.6342877 |\n",
       "\n",
       "\n",
       "\n",
       "\n"
      ],
      "text/plain": [
       "$Predicted\n",
       "        psi[11]   psi[10]    psi[01]   psi[00]\n",
       "[1,] 0.07332333 0.2725955 0.05560920 0.5984720\n",
       "[2,] 0.07349727 0.2724991 0.05574131 0.5982624\n",
       "[3,] 0.07366480 0.2724062 0.05586856 0.5980605\n",
       "[4,] 0.07360916 0.2724370 0.05582630 0.5981275\n",
       "[5,] 0.07362022 0.2724309 0.05583470 0.5981142\n",
       "[6,] 0.07378003 0.2723423 0.05595609 0.5979216\n",
       "\n",
       "$SE\n",
       "         psi[11]    psi[10]     psi[01]    psi[00]\n",
       "[1,] 0.008389343 0.01601586 0.008638850 0.01788425\n",
       "[2,] 0.008404061 0.01602268 0.008656270 0.01789938\n",
       "[3,] 0.008418310 0.01602954 0.008673113 0.01791421\n",
       "[4,] 0.008413571 0.01602723 0.008667513 0.01790926\n",
       "[5,] 0.008414512 0.01602769 0.008668625 0.01791024\n",
       "[6,] 0.008428152 0.01603442 0.008684737 0.01792454\n",
       "\n",
       "$lower\n",
       "        psi[11]   psi[10]    psi[01]   psi[00]\n",
       "[1,] 0.05858634 0.2412846 0.04131342 0.5685071\n",
       "[2,] 0.05872785 0.2411942 0.04142122 0.5683269\n",
       "[3,] 0.05886416 0.2411072 0.04152508 0.5681532\n",
       "[4,] 0.05881889 0.2411361 0.04149059 0.5682109\n",
       "[5,] 0.05882789 0.2411304 0.04149744 0.5681994\n",
       "[6,] 0.05895793 0.2410473 0.04159654 0.5680336\n",
       "\n",
       "$upper\n",
       "        psi[11]   psi[10]    psi[01]   psi[00]\n",
       "[1,] 0.08961073 0.3051892 0.07261571 0.6347218\n",
       "[2,] 0.08980215 0.3051370 0.07278079 0.6345564\n",
       "[3,] 0.08998647 0.3050866 0.07293977 0.6343972\n",
       "[4,] 0.08992527 0.3051034 0.07288698 0.6344501\n",
       "[5,] 0.08993743 0.3051000 0.07289747 0.6344396\n",
       "[6,] 0.09011324 0.3050519 0.07304911 0.6342877\n"
      ]
     },
     "metadata": {},
     "output_type": "display_data"
    }
   ],
   "source": [
    "occ_prob <- predict(mod_hdens, type=\"state\")\n",
    "lapply(occ_prob, head)"
   ]
  },
  {
   "cell_type": "markdown",
   "metadata": {
    "raw_mimetype": "",
    "slideshow": {
     "slide_type": "fragment"
    },
    "tags": []
   },
   "source": [
    "Rows should sum to 1:"
   ]
  },
  {
   "cell_type": "code",
   "execution_count": 18,
   "metadata": {
    "slideshow": {
     "slide_type": "fragment"
    },
    "tags": []
   },
   "outputs": [
    {
     "data": {
      "text/html": [
       "<style>\n",
       ".list-inline {list-style: none; margin:0; padding: 0}\n",
       ".list-inline>li {display: inline-block}\n",
       ".list-inline>li:not(:last-child)::after {content: \"\\00b7\"; padding: 0 .5ex}\n",
       "</style>\n",
       "<ol class=list-inline><li>1</li><li>1</li><li>1</li><li>1</li><li>1</li><li>1</li></ol>\n"
      ],
      "text/latex": [
       "\\begin{enumerate*}\n",
       "\\item 1\n",
       "\\item 1\n",
       "\\item 1\n",
       "\\item 1\n",
       "\\item 1\n",
       "\\item 1\n",
       "\\end{enumerate*}\n"
      ],
      "text/markdown": [
       "1. 1\n",
       "2. 1\n",
       "3. 1\n",
       "4. 1\n",
       "5. 1\n",
       "6. 1\n",
       "\n",
       "\n"
      ],
      "text/plain": [
       "[1] 1 1 1 1 1 1"
      ]
     },
     "metadata": {},
     "output_type": "display_data"
    }
   ],
   "source": [
    "head(apply(occ_prob$Predicted, 1, sum))"
   ]
  },
  {
   "cell_type": "markdown",
   "metadata": {
    "slideshow": {
     "slide_type": "slide"
    }
   },
   "source": [
    "### Marginal occupancy\n",
    "\n",
    "You might want to know the *marginal* occupancy of species 2 (red fox) at a site, which is the probability of red fox occupancy regardless of the occupancy states of other species."
   ]
  },
  {
   "cell_type": "markdown",
   "metadata": {
    "slideshow": {
     "slide_type": "fragment"
    }
   },
   "source": [
    "This is calculated by summing $\\psi$ for all states in which red fox is present:\n",
    "\n",
    "$$ \\psi_{marg,fox} = \\psi_{11}+\\psi_{01} $$"
   ]
  },
  {
   "cell_type": "markdown",
   "metadata": {
    "slideshow": {
     "slide_type": "slide"
    }
   },
   "source": [
    "Calculate manually:"
   ]
  },
  {
   "cell_type": "code",
   "execution_count": 19,
   "metadata": {
    "slideshow": {
     "slide_type": "fragment"
    }
   },
   "outputs": [
    {
     "data": {
      "text/html": [
       "<table class=\"dataframe\">\n",
       "<caption>A matrix: 6 × 4 of type dbl</caption>\n",
       "<thead>\n",
       "\t<tr><th scope=col>psi[11]</th><th scope=col>psi[10]</th><th scope=col>psi[01]</th><th scope=col>psi[00]</th></tr>\n",
       "</thead>\n",
       "<tbody>\n",
       "\t<tr><td>0.07332333</td><td>0.2725955</td><td>0.05560920</td><td>0.5984720</td></tr>\n",
       "\t<tr><td>0.07349727</td><td>0.2724991</td><td>0.05574131</td><td>0.5982624</td></tr>\n",
       "\t<tr><td>0.07366480</td><td>0.2724062</td><td>0.05586856</td><td>0.5980605</td></tr>\n",
       "\t<tr><td>0.07360916</td><td>0.2724370</td><td>0.05582630</td><td>0.5981275</td></tr>\n",
       "\t<tr><td>0.07362022</td><td>0.2724309</td><td>0.05583470</td><td>0.5981142</td></tr>\n",
       "\t<tr><td>0.07378003</td><td>0.2723423</td><td>0.05595609</td><td>0.5979216</td></tr>\n",
       "</tbody>\n",
       "</table>\n"
      ],
      "text/latex": [
       "A matrix: 6 × 4 of type dbl\n",
       "\\begin{tabular}{llll}\n",
       " psi{[}11{]} & psi{[}10{]} & psi{[}01{]} & psi{[}00{]}\\\\\n",
       "\\hline\n",
       "\t 0.07332333 & 0.2725955 & 0.05560920 & 0.5984720\\\\\n",
       "\t 0.07349727 & 0.2724991 & 0.05574131 & 0.5982624\\\\\n",
       "\t 0.07366480 & 0.2724062 & 0.05586856 & 0.5980605\\\\\n",
       "\t 0.07360916 & 0.2724370 & 0.05582630 & 0.5981275\\\\\n",
       "\t 0.07362022 & 0.2724309 & 0.05583470 & 0.5981142\\\\\n",
       "\t 0.07378003 & 0.2723423 & 0.05595609 & 0.5979216\\\\\n",
       "\\end{tabular}\n"
      ],
      "text/markdown": [
       "\n",
       "A matrix: 6 × 4 of type dbl\n",
       "\n",
       "| psi[11] | psi[10] | psi[01] | psi[00] |\n",
       "|---|---|---|---|\n",
       "| 0.07332333 | 0.2725955 | 0.05560920 | 0.5984720 |\n",
       "| 0.07349727 | 0.2724991 | 0.05574131 | 0.5982624 |\n",
       "| 0.07366480 | 0.2724062 | 0.05586856 | 0.5980605 |\n",
       "| 0.07360916 | 0.2724370 | 0.05582630 | 0.5981275 |\n",
       "| 0.07362022 | 0.2724309 | 0.05583470 | 0.5981142 |\n",
       "| 0.07378003 | 0.2723423 | 0.05595609 | 0.5979216 |\n",
       "\n"
      ],
      "text/plain": [
       "     psi[11]    psi[10]   psi[01]    psi[00]  \n",
       "[1,] 0.07332333 0.2725955 0.05560920 0.5984720\n",
       "[2,] 0.07349727 0.2724991 0.05574131 0.5982624\n",
       "[3,] 0.07366480 0.2724062 0.05586856 0.5980605\n",
       "[4,] 0.07360916 0.2724370 0.05582630 0.5981275\n",
       "[5,] 0.07362022 0.2724309 0.05583470 0.5981142\n",
       "[6,] 0.07378003 0.2723423 0.05595609 0.5979216"
      ]
     },
     "metadata": {},
     "output_type": "display_data"
    }
   ],
   "source": [
    "head(occ_prob$Predicted)"
   ]
  },
  {
   "cell_type": "code",
   "execution_count": 20,
   "metadata": {
    "slideshow": {
     "slide_type": "fragment"
    }
   },
   "outputs": [
    {
     "data": {
      "text/html": [
       "<style>\n",
       ".list-inline {list-style: none; margin:0; padding: 0}\n",
       ".list-inline>li {display: inline-block}\n",
       ".list-inline>li:not(:last-child)::after {content: \"\\00b7\"; padding: 0 .5ex}\n",
       "</style>\n",
       "<ol class=list-inline><li>0.128932527289864</li><li>0.129238577153034</li><li>0.129533355983501</li><li>0.12943546866351</li><li>0.12945491792695</li><li>0.129736118142071</li></ol>\n"
      ],
      "text/latex": [
       "\\begin{enumerate*}\n",
       "\\item 0.128932527289864\n",
       "\\item 0.129238577153034\n",
       "\\item 0.129533355983501\n",
       "\\item 0.12943546866351\n",
       "\\item 0.12945491792695\n",
       "\\item 0.129736118142071\n",
       "\\end{enumerate*}\n"
      ],
      "text/markdown": [
       "1. 0.128932527289864\n",
       "2. 0.129238577153034\n",
       "3. 0.129533355983501\n",
       "4. 0.12943546866351\n",
       "5. 0.12945491792695\n",
       "6. 0.129736118142071\n",
       "\n",
       "\n"
      ],
      "text/plain": [
       "[1] 0.1289325 0.1292386 0.1295334 0.1294355 0.1294549 0.1297361"
      ]
     },
     "metadata": {},
     "output_type": "display_data"
    }
   ],
   "source": [
    "marg_manual <- occ_prob$Predicted[,1] + occ_prob$Predicted[,3]\n",
    "head(marg_manual)"
   ]
  },
  {
   "cell_type": "markdown",
   "metadata": {
    "slideshow": {
     "slide_type": "fragment"
    }
   },
   "source": [
    "You can also do this by specifying the `species` argument in `predict`."
   ]
  },
  {
   "cell_type": "code",
   "execution_count": 21,
   "metadata": {
    "slideshow": {
     "slide_type": "fragment"
    },
    "tags": []
   },
   "outputs": [
    {
     "name": "stderr",
     "output_type": "stream",
     "text": [
      "Bootstrapping confidence intervals with 100 samples\n",
      "\n"
     ]
    },
    {
     "data": {
      "text/html": [
       "<table class=\"dataframe\">\n",
       "<caption>A data.frame: 6 × 4</caption>\n",
       "<thead>\n",
       "\t<tr><th></th><th scope=col>Predicted</th><th scope=col>SE</th><th scope=col>lower</th><th scope=col>upper</th></tr>\n",
       "\t<tr><th></th><th scope=col>&lt;dbl&gt;</th><th scope=col>&lt;dbl&gt;</th><th scope=col>&lt;dbl&gt;</th><th scope=col>&lt;dbl&gt;</th></tr>\n",
       "</thead>\n",
       "<tbody>\n",
       "\t<tr><th scope=row>1</th><td>0.1289325</td><td>0.01057213</td><td>0.1115670</td><td>0.1523760</td></tr>\n",
       "\t<tr><th scope=row>2</th><td>0.1292386</td><td>0.01059454</td><td>0.1118108</td><td>0.1527684</td></tr>\n",
       "\t<tr><th scope=row>3</th><td>0.1295334</td><td>0.01061628</td><td>0.1120457</td><td>0.1531465</td></tr>\n",
       "\t<tr><th scope=row>4</th><td>0.1294355</td><td>0.01060904</td><td>0.1119677</td><td>0.1530209</td></tr>\n",
       "\t<tr><th scope=row>5</th><td>0.1294549</td><td>0.01061048</td><td>0.1119832</td><td>0.1530459</td></tr>\n",
       "\t<tr><th scope=row>6</th><td>0.1297361</td><td>0.01063133</td><td>0.1122072</td><td>0.1534065</td></tr>\n",
       "</tbody>\n",
       "</table>\n"
      ],
      "text/latex": [
       "A data.frame: 6 × 4\n",
       "\\begin{tabular}{r|llll}\n",
       "  & Predicted & SE & lower & upper\\\\\n",
       "  & <dbl> & <dbl> & <dbl> & <dbl>\\\\\n",
       "\\hline\n",
       "\t1 & 0.1289325 & 0.01057213 & 0.1115670 & 0.1523760\\\\\n",
       "\t2 & 0.1292386 & 0.01059454 & 0.1118108 & 0.1527684\\\\\n",
       "\t3 & 0.1295334 & 0.01061628 & 0.1120457 & 0.1531465\\\\\n",
       "\t4 & 0.1294355 & 0.01060904 & 0.1119677 & 0.1530209\\\\\n",
       "\t5 & 0.1294549 & 0.01061048 & 0.1119832 & 0.1530459\\\\\n",
       "\t6 & 0.1297361 & 0.01063133 & 0.1122072 & 0.1534065\\\\\n",
       "\\end{tabular}\n"
      ],
      "text/markdown": [
       "\n",
       "A data.frame: 6 × 4\n",
       "\n",
       "| <!--/--> | Predicted &lt;dbl&gt; | SE &lt;dbl&gt; | lower &lt;dbl&gt; | upper &lt;dbl&gt; |\n",
       "|---|---|---|---|---|\n",
       "| 1 | 0.1289325 | 0.01057213 | 0.1115670 | 0.1523760 |\n",
       "| 2 | 0.1292386 | 0.01059454 | 0.1118108 | 0.1527684 |\n",
       "| 3 | 0.1295334 | 0.01061628 | 0.1120457 | 0.1531465 |\n",
       "| 4 | 0.1294355 | 0.01060904 | 0.1119677 | 0.1530209 |\n",
       "| 5 | 0.1294549 | 0.01061048 | 0.1119832 | 0.1530459 |\n",
       "| 6 | 0.1297361 | 0.01063133 | 0.1122072 | 0.1534065 |\n",
       "\n"
      ],
      "text/plain": [
       "  Predicted SE         lower     upper    \n",
       "1 0.1289325 0.01057213 0.1115670 0.1523760\n",
       "2 0.1292386 0.01059454 0.1118108 0.1527684\n",
       "3 0.1295334 0.01061628 0.1120457 0.1531465\n",
       "4 0.1294355 0.01060904 0.1119677 0.1530209\n",
       "5 0.1294549 0.01061048 0.1119832 0.1530459\n",
       "6 0.1297361 0.01063133 0.1122072 0.1534065"
      ]
     },
     "metadata": {},
     "output_type": "display_data"
    }
   ],
   "source": [
    "redfox_marginal <- predict(mod_hdens, type=\"state\", species=\"redfox\")\n",
    "head(redfox_marginal)"
   ]
  },
  {
   "cell_type": "markdown",
   "metadata": {
    "slideshow": {
     "slide_type": "slide"
    }
   },
   "source": [
    "#### Plotting marginal occupancy"
   ]
  },
  {
   "cell_type": "markdown",
   "metadata": {
    "slideshow": {
     "slide_type": "fragment"
    },
    "tags": []
   },
   "source": [
    "Compare across species (at site 1 only) with a plot:"
   ]
  },
  {
   "cell_type": "code",
   "execution_count": 22,
   "metadata": {
    "slideshow": {
     "slide_type": "fragment"
    },
    "tags": []
   },
   "outputs": [
    {
     "name": "stderr",
     "output_type": "stream",
     "text": [
      "Bootstrapping confidence intervals with 100 samples\n",
      "\n"
     ]
    },
    {
     "data": {
      "text/html": [
       "<table class=\"dataframe\">\n",
       "<caption>A data.frame: 2 × 5</caption>\n",
       "<thead>\n",
       "\t<tr><th scope=col>Predicted</th><th scope=col>SE</th><th scope=col>lower</th><th scope=col>upper</th><th scope=col>Species</th></tr>\n",
       "\t<tr><th scope=col>&lt;dbl&gt;</th><th scope=col>&lt;dbl&gt;</th><th scope=col>&lt;dbl&gt;</th><th scope=col>&lt;dbl&gt;</th><th scope=col>&lt;chr&gt;</th></tr>\n",
       "</thead>\n",
       "<tbody>\n",
       "\t<tr><td>0.1289325</td><td>0.01057213</td><td>0.1115670</td><td>0.1523760</td><td>Red fox</td></tr>\n",
       "\t<tr><td>0.3459189</td><td>0.01555310</td><td>0.3184539</td><td>0.3816518</td><td>Coyote </td></tr>\n",
       "</tbody>\n",
       "</table>\n"
      ],
      "text/latex": [
       "A data.frame: 2 × 5\n",
       "\\begin{tabular}{lllll}\n",
       " Predicted & SE & lower & upper & Species\\\\\n",
       " <dbl> & <dbl> & <dbl> & <dbl> & <chr>\\\\\n",
       "\\hline\n",
       "\t 0.1289325 & 0.01057213 & 0.1115670 & 0.1523760 & Red fox\\\\\n",
       "\t 0.3459189 & 0.01555310 & 0.3184539 & 0.3816518 & Coyote \\\\\n",
       "\\end{tabular}\n"
      ],
      "text/markdown": [
       "\n",
       "A data.frame: 2 × 5\n",
       "\n",
       "| Predicted &lt;dbl&gt; | SE &lt;dbl&gt; | lower &lt;dbl&gt; | upper &lt;dbl&gt; | Species &lt;chr&gt; |\n",
       "|---|---|---|---|---|\n",
       "| 0.1289325 | 0.01057213 | 0.1115670 | 0.1523760 | Red fox |\n",
       "| 0.3459189 | 0.01555310 | 0.3184539 | 0.3816518 | Coyote  |\n",
       "\n"
      ],
      "text/plain": [
       "  Predicted SE         lower     upper     Species\n",
       "1 0.1289325 0.01057213 0.1115670 0.1523760 Red fox\n",
       "2 0.3459189 0.01555310 0.3184539 0.3816518 Coyote "
      ]
     },
     "metadata": {},
     "output_type": "display_data"
    }
   ],
   "source": [
    "coy_marginal <- predict(mod_hdens, type='state', species=\"coyote\") # get coyote\n",
    "\n",
    "marg_plot_dat <- rbind(redfox_marginal[1,], coy_marginal[1,])\n",
    "marg_plot_dat$Species <- c(\"Red fox\", \"Coyote\")\n",
    "marg_plot_dat"
   ]
  },
  {
   "cell_type": "code",
   "execution_count": 23,
   "metadata": {
    "slideshow": {
     "slide_type": "fragment"
    },
    "tags": []
   },
   "outputs": [
    {
     "data": {
      "image/png": "[encoded data removed]",
      "text/plain": [
       "plot without title"
      ]
     },
     "metadata": {
      "image/png": {
       "height": 600,
       "width": 600
      }
     },
     "output_type": "display_data"
    }
   ],
   "source": [
    "library(ggplot2)\n",
    "options(repr.plot.width=10, repr.plot.height=10)\n",
    "\n",
    "ggplot(data = marg_plot_dat, aes(x=Species, col=Species)) +\n",
    "  geom_errorbar(aes(ymin=lower, ymax=upper), width = 0.2, linewidth=1.5) +\n",
    "  geom_point(aes(y=Predicted), size=8) +\n",
    "  theme_bw(base_size=24) +\n",
    "  theme(panel.grid = element_blank(), legend.position='none') +\n",
    "  labs(y = \"Marginal occupancy and 95% CI\", x = \"Species\")"
   ]
  },
  {
   "cell_type": "markdown",
   "metadata": {
    "slideshow": {
     "slide_type": "slide"
    }
   },
   "source": [
    "### Conditional occupancy\n",
    "\n",
    "Alternatively, you might want to know the probability of occupancy of one species, conditional on the presence of another.\n",
    "\n",
    "For example, the probability of red fox occupancy, conditional on coyote presence:\n",
    "\n",
    "$$ \\psi_{fox, coy} = \\frac{\\psi_{{11}}}{\\psi_{{10}} + \\psi_{{11}}}$$"
   ]
  },
  {
   "cell_type": "code",
   "execution_count": 24,
   "metadata": {
    "slideshow": {
     "slide_type": "fragment"
    }
   },
   "outputs": [
    {
     "data": {
      "text/html": [
       "<dl>\n",
       "\t<dt>$Predicted</dt>\n",
       "\t\t<dd><table class=\"dataframe\">\n",
       "<caption>A matrix: 6 × 4 of type dbl</caption>\n",
       "<thead>\n",
       "\t<tr><th scope=col>psi[11]</th><th scope=col>psi[10]</th><th scope=col>psi[01]</th><th scope=col>psi[00]</th></tr>\n",
       "</thead>\n",
       "<tbody>\n",
       "\t<tr><td>0.07332333</td><td>0.2725955</td><td>0.05560920</td><td>0.5984720</td></tr>\n",
       "\t<tr><td>0.07349727</td><td>0.2724991</td><td>0.05574131</td><td>0.5982624</td></tr>\n",
       "\t<tr><td>0.07366480</td><td>0.2724062</td><td>0.05586856</td><td>0.5980605</td></tr>\n",
       "\t<tr><td>0.07360916</td><td>0.2724370</td><td>0.05582630</td><td>0.5981275</td></tr>\n",
       "\t<tr><td>0.07362022</td><td>0.2724309</td><td>0.05583470</td><td>0.5981142</td></tr>\n",
       "\t<tr><td>0.07378003</td><td>0.2723423</td><td>0.05595609</td><td>0.5979216</td></tr>\n",
       "</tbody>\n",
       "</table>\n",
       "</dd>\n",
       "\t<dt>$SE</dt>\n",
       "\t\t<dd><table class=\"dataframe\">\n",
       "<caption>A matrix: 6 × 4 of type dbl</caption>\n",
       "<thead>\n",
       "\t<tr><th scope=col>psi[11]</th><th scope=col>psi[10]</th><th scope=col>psi[01]</th><th scope=col>psi[00]</th></tr>\n",
       "</thead>\n",
       "<tbody>\n",
       "\t<tr><td>0.008389343</td><td>0.01601586</td><td>0.008638850</td><td>0.01788425</td></tr>\n",
       "\t<tr><td>0.008404061</td><td>0.01602268</td><td>0.008656270</td><td>0.01789938</td></tr>\n",
       "\t<tr><td>0.008418310</td><td>0.01602954</td><td>0.008673113</td><td>0.01791421</td></tr>\n",
       "\t<tr><td>0.008413571</td><td>0.01602723</td><td>0.008667513</td><td>0.01790926</td></tr>\n",
       "\t<tr><td>0.008414512</td><td>0.01602769</td><td>0.008668625</td><td>0.01791024</td></tr>\n",
       "\t<tr><td>0.008428152</td><td>0.01603442</td><td>0.008684737</td><td>0.01792454</td></tr>\n",
       "</tbody>\n",
       "</table>\n",
       "</dd>\n",
       "\t<dt>$lower</dt>\n",
       "\t\t<dd><table class=\"dataframe\">\n",
       "<caption>A matrix: 6 × 4 of type dbl</caption>\n",
       "<thead>\n",
       "\t<tr><th scope=col>psi[11]</th><th scope=col>psi[10]</th><th scope=col>psi[01]</th><th scope=col>psi[00]</th></tr>\n",
       "</thead>\n",
       "<tbody>\n",
       "\t<tr><td>0.05858634</td><td>0.2412846</td><td>0.04131342</td><td>0.5685071</td></tr>\n",
       "\t<tr><td>0.05872785</td><td>0.2411942</td><td>0.04142122</td><td>0.5683269</td></tr>\n",
       "\t<tr><td>0.05886416</td><td>0.2411072</td><td>0.04152508</td><td>0.5681532</td></tr>\n",
       "\t<tr><td>0.05881889</td><td>0.2411361</td><td>0.04149059</td><td>0.5682109</td></tr>\n",
       "\t<tr><td>0.05882789</td><td>0.2411304</td><td>0.04149744</td><td>0.5681994</td></tr>\n",
       "\t<tr><td>0.05895793</td><td>0.2410473</td><td>0.04159654</td><td>0.5680336</td></tr>\n",
       "</tbody>\n",
       "</table>\n",
       "</dd>\n",
       "\t<dt>$upper</dt>\n",
       "\t\t<dd><table class=\"dataframe\">\n",
       "<caption>A matrix: 6 × 4 of type dbl</caption>\n",
       "<thead>\n",
       "\t<tr><th scope=col>psi[11]</th><th scope=col>psi[10]</th><th scope=col>psi[01]</th><th scope=col>psi[00]</th></tr>\n",
       "</thead>\n",
       "<tbody>\n",
       "\t<tr><td>0.08961073</td><td>0.3051892</td><td>0.07261571</td><td>0.6347218</td></tr>\n",
       "\t<tr><td>0.08980215</td><td>0.3051370</td><td>0.07278079</td><td>0.6345564</td></tr>\n",
       "\t<tr><td>0.08998647</td><td>0.3050866</td><td>0.07293977</td><td>0.6343972</td></tr>\n",
       "\t<tr><td>0.08992527</td><td>0.3051034</td><td>0.07288698</td><td>0.6344501</td></tr>\n",
       "\t<tr><td>0.08993743</td><td>0.3051000</td><td>0.07289747</td><td>0.6344396</td></tr>\n",
       "\t<tr><td>0.09011324</td><td>0.3050519</td><td>0.07304911</td><td>0.6342877</td></tr>\n",
       "</tbody>\n",
       "</table>\n",
       "</dd>\n",
       "</dl>\n"
      ],
      "text/latex": [
       "\\begin{description}\n",
       "\\item[\\$Predicted] A matrix: 6 × 4 of type dbl\n",
       "\\begin{tabular}{llll}\n",
       " psi{[}11{]} & psi{[}10{]} & psi{[}01{]} & psi{[}00{]}\\\\\n",
       "\\hline\n",
       "\t 0.07332333 & 0.2725955 & 0.05560920 & 0.5984720\\\\\n",
       "\t 0.07349727 & 0.2724991 & 0.05574131 & 0.5982624\\\\\n",
       "\t 0.07366480 & 0.2724062 & 0.05586856 & 0.5980605\\\\\n",
       "\t 0.07360916 & 0.2724370 & 0.05582630 & 0.5981275\\\\\n",
       "\t 0.07362022 & 0.2724309 & 0.05583470 & 0.5981142\\\\\n",
       "\t 0.07378003 & 0.2723423 & 0.05595609 & 0.5979216\\\\\n",
       "\\end{tabular}\n",
       "\n",
       "\\item[\\$SE] A matrix: 6 × 4 of type dbl\n",
       "\\begin{tabular}{llll}\n",
       " psi{[}11{]} & psi{[}10{]} & psi{[}01{]} & psi{[}00{]}\\\\\n",
       "\\hline\n",
       "\t 0.008389343 & 0.01601586 & 0.008638850 & 0.01788425\\\\\n",
       "\t 0.008404061 & 0.01602268 & 0.008656270 & 0.01789938\\\\\n",
       "\t 0.008418310 & 0.01602954 & 0.008673113 & 0.01791421\\\\\n",
       "\t 0.008413571 & 0.01602723 & 0.008667513 & 0.01790926\\\\\n",
       "\t 0.008414512 & 0.01602769 & 0.008668625 & 0.01791024\\\\\n",
       "\t 0.008428152 & 0.01603442 & 0.008684737 & 0.01792454\\\\\n",
       "\\end{tabular}\n",
       "\n",
       "\\item[\\$lower] A matrix: 6 × 4 of type dbl\n",
       "\\begin{tabular}{llll}\n",
       " psi{[}11{]} & psi{[}10{]} & psi{[}01{]} & psi{[}00{]}\\\\\n",
       "\\hline\n",
       "\t 0.05858634 & 0.2412846 & 0.04131342 & 0.5685071\\\\\n",
       "\t 0.05872785 & 0.2411942 & 0.04142122 & 0.5683269\\\\\n",
       "\t 0.05886416 & 0.2411072 & 0.04152508 & 0.5681532\\\\\n",
       "\t 0.05881889 & 0.2411361 & 0.04149059 & 0.5682109\\\\\n",
       "\t 0.05882789 & 0.2411304 & 0.04149744 & 0.5681994\\\\\n",
       "\t 0.05895793 & 0.2410473 & 0.04159654 & 0.5680336\\\\\n",
       "\\end{tabular}\n",
       "\n",
       "\\item[\\$upper] A matrix: 6 × 4 of type dbl\n",
       "\\begin{tabular}{llll}\n",
       " psi{[}11{]} & psi{[}10{]} & psi{[}01{]} & psi{[}00{]}\\\\\n",
       "\\hline\n",
       "\t 0.08961073 & 0.3051892 & 0.07261571 & 0.6347218\\\\\n",
       "\t 0.08980215 & 0.3051370 & 0.07278079 & 0.6345564\\\\\n",
       "\t 0.08998647 & 0.3050866 & 0.07293977 & 0.6343972\\\\\n",
       "\t 0.08992527 & 0.3051034 & 0.07288698 & 0.6344501\\\\\n",
       "\t 0.08993743 & 0.3051000 & 0.07289747 & 0.6344396\\\\\n",
       "\t 0.09011324 & 0.3050519 & 0.07304911 & 0.6342877\\\\\n",
       "\\end{tabular}\n",
       "\n",
       "\\end{description}\n"
      ],
      "text/markdown": [
       "$Predicted\n",
       ":   \n",
       "A matrix: 6 × 4 of type dbl\n",
       "\n",
       "| psi[11] | psi[10] | psi[01] | psi[00] |\n",
       "|---|---|---|---|\n",
       "| 0.07332333 | 0.2725955 | 0.05560920 | 0.5984720 |\n",
       "| 0.07349727 | 0.2724991 | 0.05574131 | 0.5982624 |\n",
       "| 0.07366480 | 0.2724062 | 0.05586856 | 0.5980605 |\n",
       "| 0.07360916 | 0.2724370 | 0.05582630 | 0.5981275 |\n",
       "| 0.07362022 | 0.2724309 | 0.05583470 | 0.5981142 |\n",
       "| 0.07378003 | 0.2723423 | 0.05595609 | 0.5979216 |\n",
       "\n",
       "\n",
       "$SE\n",
       ":   \n",
       "A matrix: 6 × 4 of type dbl\n",
       "\n",
       "| psi[11] | psi[10] | psi[01] | psi[00] |\n",
       "|---|---|---|---|\n",
       "| 0.008389343 | 0.01601586 | 0.008638850 | 0.01788425 |\n",
       "| 0.008404061 | 0.01602268 | 0.008656270 | 0.01789938 |\n",
       "| 0.008418310 | 0.01602954 | 0.008673113 | 0.01791421 |\n",
       "| 0.008413571 | 0.01602723 | 0.008667513 | 0.01790926 |\n",
       "| 0.008414512 | 0.01602769 | 0.008668625 | 0.01791024 |\n",
       "| 0.008428152 | 0.01603442 | 0.008684737 | 0.01792454 |\n",
       "\n",
       "\n",
       "$lower\n",
       ":   \n",
       "A matrix: 6 × 4 of type dbl\n",
       "\n",
       "| psi[11] | psi[10] | psi[01] | psi[00] |\n",
       "|---|---|---|---|\n",
       "| 0.05858634 | 0.2412846 | 0.04131342 | 0.5685071 |\n",
       "| 0.05872785 | 0.2411942 | 0.04142122 | 0.5683269 |\n",
       "| 0.05886416 | 0.2411072 | 0.04152508 | 0.5681532 |\n",
       "| 0.05881889 | 0.2411361 | 0.04149059 | 0.5682109 |\n",
       "| 0.05882789 | 0.2411304 | 0.04149744 | 0.5681994 |\n",
       "| 0.05895793 | 0.2410473 | 0.04159654 | 0.5680336 |\n",
       "\n",
       "\n",
       "$upper\n",
       ":   \n",
       "A matrix: 6 × 4 of type dbl\n",
       "\n",
       "| psi[11] | psi[10] | psi[01] | psi[00] |\n",
       "|---|---|---|---|\n",
       "| 0.08961073 | 0.3051892 | 0.07261571 | 0.6347218 |\n",
       "| 0.08980215 | 0.3051370 | 0.07278079 | 0.6345564 |\n",
       "| 0.08998647 | 0.3050866 | 0.07293977 | 0.6343972 |\n",
       "| 0.08992527 | 0.3051034 | 0.07288698 | 0.6344501 |\n",
       "| 0.08993743 | 0.3051000 | 0.07289747 | 0.6344396 |\n",
       "| 0.09011324 | 0.3050519 | 0.07304911 | 0.6342877 |\n",
       "\n",
       "\n",
       "\n",
       "\n"
      ],
      "text/plain": [
       "$Predicted\n",
       "        psi[11]   psi[10]    psi[01]   psi[00]\n",
       "[1,] 0.07332333 0.2725955 0.05560920 0.5984720\n",
       "[2,] 0.07349727 0.2724991 0.05574131 0.5982624\n",
       "[3,] 0.07366480 0.2724062 0.05586856 0.5980605\n",
       "[4,] 0.07360916 0.2724370 0.05582630 0.5981275\n",
       "[5,] 0.07362022 0.2724309 0.05583470 0.5981142\n",
       "[6,] 0.07378003 0.2723423 0.05595609 0.5979216\n",
       "\n",
       "$SE\n",
       "         psi[11]    psi[10]     psi[01]    psi[00]\n",
       "[1,] 0.008389343 0.01601586 0.008638850 0.01788425\n",
       "[2,] 0.008404061 0.01602268 0.008656270 0.01789938\n",
       "[3,] 0.008418310 0.01602954 0.008673113 0.01791421\n",
       "[4,] 0.008413571 0.01602723 0.008667513 0.01790926\n",
       "[5,] 0.008414512 0.01602769 0.008668625 0.01791024\n",
       "[6,] 0.008428152 0.01603442 0.008684737 0.01792454\n",
       "\n",
       "$lower\n",
       "        psi[11]   psi[10]    psi[01]   psi[00]\n",
       "[1,] 0.05858634 0.2412846 0.04131342 0.5685071\n",
       "[2,] 0.05872785 0.2411942 0.04142122 0.5683269\n",
       "[3,] 0.05886416 0.2411072 0.04152508 0.5681532\n",
       "[4,] 0.05881889 0.2411361 0.04149059 0.5682109\n",
       "[5,] 0.05882789 0.2411304 0.04149744 0.5681994\n",
       "[6,] 0.05895793 0.2410473 0.04159654 0.5680336\n",
       "\n",
       "$upper\n",
       "        psi[11]   psi[10]    psi[01]   psi[00]\n",
       "[1,] 0.08961073 0.3051892 0.07261571 0.6347218\n",
       "[2,] 0.08980215 0.3051370 0.07278079 0.6345564\n",
       "[3,] 0.08998647 0.3050866 0.07293977 0.6343972\n",
       "[4,] 0.08992527 0.3051034 0.07288698 0.6344501\n",
       "[5,] 0.08993743 0.3051000 0.07289747 0.6344396\n",
       "[6,] 0.09011324 0.3050519 0.07304911 0.6342877\n"
      ]
     },
     "metadata": {},
     "output_type": "display_data"
    }
   ],
   "source": [
    "lapply(occ_prob, head)"
   ]
  },
  {
   "cell_type": "code",
   "execution_count": 25,
   "metadata": {
    "slideshow": {
     "slide_type": "fragment"
    }
   },
   "outputs": [
    {
     "data": {
      "text/html": [
       "<style>\n",
       ".list-inline {list-style: none; margin:0; padding: 0}\n",
       ".list-inline>li {display: inline-block}\n",
       ".list-inline>li:not(:last-child)::after {content: \"\\00b7\"; padding: 0 .5ex}\n",
       "</style>\n",
       "<ol class=list-inline><li>0.211966855711672</li><li>0.212422094431736</li><li>0.212860373412584</li><li>0.212714855095836</li><li>0.212743769851648</li><li>0.213161730738218</li></ol>\n"
      ],
      "text/latex": [
       "\\begin{enumerate*}\n",
       "\\item 0.211966855711672\n",
       "\\item 0.212422094431736\n",
       "\\item 0.212860373412584\n",
       "\\item 0.212714855095836\n",
       "\\item 0.212743769851648\n",
       "\\item 0.213161730738218\n",
       "\\end{enumerate*}\n"
      ],
      "text/markdown": [
       "1. 0.211966855711672\n",
       "2. 0.212422094431736\n",
       "3. 0.212860373412584\n",
       "4. 0.212714855095836\n",
       "5. 0.212743769851648\n",
       "6. 0.213161730738218\n",
       "\n",
       "\n"
      ],
      "text/plain": [
       "[1] 0.2119669 0.2124221 0.2128604 0.2127149 0.2127438 0.2131617"
      ]
     },
     "metadata": {},
     "output_type": "display_data"
    }
   ],
   "source": [
    "cond_manual <- occ_prob$Predicted[,1] / (occ_prob$Predicted[,2] + occ_prob$Predicted[,1])\n",
    "head(cond_manual)"
   ]
  },
  {
   "cell_type": "markdown",
   "metadata": {
    "slideshow": {
     "slide_type": "slide"
    }
   },
   "source": [
    "\n",
    "And on coyote absence:\n",
    "\n",
    "$$ \\psi_{fox, -coy} = \\frac{\\psi_{{01}}}{\\psi_{{01}} + \\psi_{{00}}}$$"
   ]
  },
  {
   "cell_type": "code",
   "execution_count": 26,
   "metadata": {
    "slideshow": {
     "slide_type": "fragment"
    }
   },
   "outputs": [
    {
     "data": {
      "text/html": [
       "<style>\n",
       ".list-inline {list-style: none; margin:0; padding: 0}\n",
       ".list-inline>li {display: inline-block}\n",
       ".list-inline>li:not(:last-child)::after {content: \"\\00b7\"; padding: 0 .5ex}\n",
       "</style>\n",
       "<ol class=list-inline><li>0.085018802685836</li><li>0.0852308848711668</li><li>0.0854352047664343</li><li>0.0853673509389007</li><li>0.0853808324230693</li><li>0.0855757726311217</li></ol>\n"
      ],
      "text/latex": [
       "\\begin{enumerate*}\n",
       "\\item 0.085018802685836\n",
       "\\item 0.0852308848711668\n",
       "\\item 0.0854352047664343\n",
       "\\item 0.0853673509389007\n",
       "\\item 0.0853808324230693\n",
       "\\item 0.0855757726311217\n",
       "\\end{enumerate*}\n"
      ],
      "text/markdown": [
       "1. 0.085018802685836\n",
       "2. 0.0852308848711668\n",
       "3. 0.0854352047664343\n",
       "4. 0.0853673509389007\n",
       "5. 0.0853808324230693\n",
       "6. 0.0855757726311217\n",
       "\n",
       "\n"
      ],
      "text/plain": [
       "[1] 0.08501880 0.08523088 0.08543520 0.08536735 0.08538083 0.08557577"
      ]
     },
     "metadata": {},
     "output_type": "display_data"
    }
   ],
   "source": [
    "cond_manual <- occ_prob$Predicted[,3] / (occ_prob$Predicted[,3] + occ_prob$Predicted[,4])\n",
    "head(cond_manual)"
   ]
  },
  {
   "cell_type": "markdown",
   "metadata": {
    "slideshow": {
     "slide_type": "slide"
    }
   },
   "source": [
    "With `predict`, use the `species` and `cond` arguments together for this."
   ]
  },
  {
   "cell_type": "code",
   "execution_count": 27,
   "metadata": {
    "slideshow": {
     "slide_type": "fragment"
    },
    "tags": []
   },
   "outputs": [
    {
     "name": "stderr",
     "output_type": "stream",
     "text": [
      "Bootstrapping confidence intervals with 100 samples\n",
      "\n"
     ]
    },
    {
     "data": {
      "text/html": [
       "<table class=\"dataframe\">\n",
       "<caption>A data.frame: 6 × 4</caption>\n",
       "<thead>\n",
       "\t<tr><th></th><th scope=col>Predicted</th><th scope=col>SE</th><th scope=col>lower</th><th scope=col>upper</th></tr>\n",
       "\t<tr><th></th><th scope=col>&lt;dbl&gt;</th><th scope=col>&lt;dbl&gt;</th><th scope=col>&lt;dbl&gt;</th><th scope=col>&lt;dbl&gt;</th></tr>\n",
       "</thead>\n",
       "<tbody>\n",
       "\t<tr><th scope=row>1</th><td>0.2119669</td><td>0.02544978</td><td>0.1722814</td><td>0.2639448</td></tr>\n",
       "\t<tr><th scope=row>2</th><td>0.2124221</td><td>0.02548203</td><td>0.1726871</td><td>0.2644804</td></tr>\n",
       "\t<tr><th scope=row>3</th><td>0.2128604</td><td>0.02551321</td><td>0.1730777</td><td>0.2649959</td></tr>\n",
       "\t<tr><th scope=row>4</th><td>0.2127149</td><td>0.02550284</td><td>0.1729480</td><td>0.2648248</td></tr>\n",
       "\t<tr><th scope=row>5</th><td>0.2127438</td><td>0.02550490</td><td>0.1729738</td><td>0.2648588</td></tr>\n",
       "\t<tr><th scope=row>6</th><td>0.2131617</td><td>0.02553473</td><td>0.1733464</td><td>0.2653503</td></tr>\n",
       "</tbody>\n",
       "</table>\n"
      ],
      "text/latex": [
       "A data.frame: 6 × 4\n",
       "\\begin{tabular}{r|llll}\n",
       "  & Predicted & SE & lower & upper\\\\\n",
       "  & <dbl> & <dbl> & <dbl> & <dbl>\\\\\n",
       "\\hline\n",
       "\t1 & 0.2119669 & 0.02544978 & 0.1722814 & 0.2639448\\\\\n",
       "\t2 & 0.2124221 & 0.02548203 & 0.1726871 & 0.2644804\\\\\n",
       "\t3 & 0.2128604 & 0.02551321 & 0.1730777 & 0.2649959\\\\\n",
       "\t4 & 0.2127149 & 0.02550284 & 0.1729480 & 0.2648248\\\\\n",
       "\t5 & 0.2127438 & 0.02550490 & 0.1729738 & 0.2648588\\\\\n",
       "\t6 & 0.2131617 & 0.02553473 & 0.1733464 & 0.2653503\\\\\n",
       "\\end{tabular}\n"
      ],
      "text/markdown": [
       "\n",
       "A data.frame: 6 × 4\n",
       "\n",
       "| <!--/--> | Predicted &lt;dbl&gt; | SE &lt;dbl&gt; | lower &lt;dbl&gt; | upper &lt;dbl&gt; |\n",
       "|---|---|---|---|---|\n",
       "| 1 | 0.2119669 | 0.02544978 | 0.1722814 | 0.2639448 |\n",
       "| 2 | 0.2124221 | 0.02548203 | 0.1726871 | 0.2644804 |\n",
       "| 3 | 0.2128604 | 0.02551321 | 0.1730777 | 0.2649959 |\n",
       "| 4 | 0.2127149 | 0.02550284 | 0.1729480 | 0.2648248 |\n",
       "| 5 | 0.2127438 | 0.02550490 | 0.1729738 | 0.2648588 |\n",
       "| 6 | 0.2131617 | 0.02553473 | 0.1733464 | 0.2653503 |\n",
       "\n"
      ],
      "text/plain": [
       "  Predicted SE         lower     upper    \n",
       "1 0.2119669 0.02544978 0.1722814 0.2639448\n",
       "2 0.2124221 0.02548203 0.1726871 0.2644804\n",
       "3 0.2128604 0.02551321 0.1730777 0.2649959\n",
       "4 0.2127149 0.02550284 0.1729480 0.2648248\n",
       "5 0.2127438 0.02550490 0.1729738 0.2648588\n",
       "6 0.2131617 0.02553473 0.1733464 0.2653503"
      ]
     },
     "metadata": {},
     "output_type": "display_data"
    }
   ],
   "source": [
    "redfox_coy <- predict(mod_hdens, type=\"state\", species=\"redfox\", cond=\"coyote\")\n",
    "head(redfox_coy)"
   ]
  },
  {
   "cell_type": "markdown",
   "metadata": {
    "slideshow": {
     "slide_type": "fragment"
    }
   },
   "source": [
    "What about conditional on coyote *absence*?\n",
    "\n",
    "Use `-`"
   ]
  },
  {
   "cell_type": "code",
   "execution_count": 28,
   "metadata": {
    "slideshow": {
     "slide_type": "fragment"
    },
    "tags": []
   },
   "outputs": [
    {
     "name": "stderr",
     "output_type": "stream",
     "text": [
      "Bootstrapping confidence intervals with 100 samples\n",
      "\n"
     ]
    },
    {
     "data": {
      "text/html": [
       "<table class=\"dataframe\">\n",
       "<caption>A data.frame: 6 × 4</caption>\n",
       "<thead>\n",
       "\t<tr><th></th><th scope=col>Predicted</th><th scope=col>SE</th><th scope=col>lower</th><th scope=col>upper</th></tr>\n",
       "\t<tr><th></th><th scope=col>&lt;dbl&gt;</th><th scope=col>&lt;dbl&gt;</th><th scope=col>&lt;dbl&gt;</th><th scope=col>&lt;dbl&gt;</th></tr>\n",
       "</thead>\n",
       "<tbody>\n",
       "\t<tr><th scope=row>1</th><td>0.08501880</td><td>0.01369058</td><td>0.06321365</td><td>0.1130213</td></tr>\n",
       "\t<tr><th scope=row>2</th><td>0.08523088</td><td>0.01371444</td><td>0.06337989</td><td>0.1132616</td></tr>\n",
       "\t<tr><th scope=row>3</th><td>0.08543520</td><td>0.01373747</td><td>0.06354008</td><td>0.1134929</td></tr>\n",
       "\t<tr><th scope=row>4</th><td>0.08536735</td><td>0.01372982</td><td>0.06348688</td><td>0.1134161</td></tr>\n",
       "\t<tr><th scope=row>5</th><td>0.08538083</td><td>0.01373134</td><td>0.06349745</td><td>0.1134314</td></tr>\n",
       "\t<tr><th scope=row>6</th><td>0.08557577</td><td>0.01375334</td><td>0.06365030</td><td>0.1136521</td></tr>\n",
       "</tbody>\n",
       "</table>\n"
      ],
      "text/latex": [
       "A data.frame: 6 × 4\n",
       "\\begin{tabular}{r|llll}\n",
       "  & Predicted & SE & lower & upper\\\\\n",
       "  & <dbl> & <dbl> & <dbl> & <dbl>\\\\\n",
       "\\hline\n",
       "\t1 & 0.08501880 & 0.01369058 & 0.06321365 & 0.1130213\\\\\n",
       "\t2 & 0.08523088 & 0.01371444 & 0.06337989 & 0.1132616\\\\\n",
       "\t3 & 0.08543520 & 0.01373747 & 0.06354008 & 0.1134929\\\\\n",
       "\t4 & 0.08536735 & 0.01372982 & 0.06348688 & 0.1134161\\\\\n",
       "\t5 & 0.08538083 & 0.01373134 & 0.06349745 & 0.1134314\\\\\n",
       "\t6 & 0.08557577 & 0.01375334 & 0.06365030 & 0.1136521\\\\\n",
       "\\end{tabular}\n"
      ],
      "text/markdown": [
       "\n",
       "A data.frame: 6 × 4\n",
       "\n",
       "| <!--/--> | Predicted &lt;dbl&gt; | SE &lt;dbl&gt; | lower &lt;dbl&gt; | upper &lt;dbl&gt; |\n",
       "|---|---|---|---|---|\n",
       "| 1 | 0.08501880 | 0.01369058 | 0.06321365 | 0.1130213 |\n",
       "| 2 | 0.08523088 | 0.01371444 | 0.06337989 | 0.1132616 |\n",
       "| 3 | 0.08543520 | 0.01373747 | 0.06354008 | 0.1134929 |\n",
       "| 4 | 0.08536735 | 0.01372982 | 0.06348688 | 0.1134161 |\n",
       "| 5 | 0.08538083 | 0.01373134 | 0.06349745 | 0.1134314 |\n",
       "| 6 | 0.08557577 | 0.01375334 | 0.06365030 | 0.1136521 |\n",
       "\n"
      ],
      "text/plain": [
       "  Predicted  SE         lower      upper    \n",
       "1 0.08501880 0.01369058 0.06321365 0.1130213\n",
       "2 0.08523088 0.01371444 0.06337989 0.1132616\n",
       "3 0.08543520 0.01373747 0.06354008 0.1134929\n",
       "4 0.08536735 0.01372982 0.06348688 0.1134161\n",
       "5 0.08538083 0.01373134 0.06349745 0.1134314\n",
       "6 0.08557577 0.01375334 0.06365030 0.1136521"
      ]
     },
     "metadata": {},
     "output_type": "display_data"
    }
   ],
   "source": [
    "redfox_nocoy <- predict(mod_hdens, type=\"state\", species=\"redfox\", cond=\"-coyote\")\n",
    "head(redfox_nocoy)"
   ]
  },
  {
   "cell_type": "markdown",
   "metadata": {
    "slideshow": {
     "slide_type": "slide"
    },
    "tags": []
   },
   "source": [
    "#### Plotting conditional occupancy\n",
    "\n",
    "You can use this output from `predict` to generate comparison plots.\n",
    "\n",
    "Here we'll compare conditional occupancy for just site 1."
   ]
  },
  {
   "cell_type": "code",
   "execution_count": 29,
   "metadata": {
    "slideshow": {
     "slide_type": "fragment"
    },
    "tags": []
   },
   "outputs": [
    {
     "data": {
      "text/html": [
       "<table class=\"dataframe\">\n",
       "<caption>A data.frame: 2 × 5</caption>\n",
       "<thead>\n",
       "\t<tr><th></th><th scope=col>Predicted</th><th scope=col>SE</th><th scope=col>lower</th><th scope=col>upper</th><th scope=col>Coyote_status</th></tr>\n",
       "\t<tr><th></th><th scope=col>&lt;dbl&gt;</th><th scope=col>&lt;dbl&gt;</th><th scope=col>&lt;dbl&gt;</th><th scope=col>&lt;dbl&gt;</th><th scope=col>&lt;chr&gt;</th></tr>\n",
       "</thead>\n",
       "<tbody>\n",
       "\t<tr><th scope=row>1</th><td>0.2119669</td><td>0.02544978</td><td>0.17228143</td><td>0.2639448</td><td>Present</td></tr>\n",
       "\t<tr><th scope=row>2</th><td>0.0850188</td><td>0.01369058</td><td>0.06321365</td><td>0.1130213</td><td>Absent </td></tr>\n",
       "</tbody>\n",
       "</table>\n"
      ],
      "text/latex": [
       "A data.frame: 2 × 5\n",
       "\\begin{tabular}{r|lllll}\n",
       "  & Predicted & SE & lower & upper & Coyote\\_status\\\\\n",
       "  & <dbl> & <dbl> & <dbl> & <dbl> & <chr>\\\\\n",
       "\\hline\n",
       "\t1 & 0.2119669 & 0.02544978 & 0.17228143 & 0.2639448 & Present\\\\\n",
       "\t2 & 0.0850188 & 0.01369058 & 0.06321365 & 0.1130213 & Absent \\\\\n",
       "\\end{tabular}\n"
      ],
      "text/markdown": [
       "\n",
       "A data.frame: 2 × 5\n",
       "\n",
       "| <!--/--> | Predicted &lt;dbl&gt; | SE &lt;dbl&gt; | lower &lt;dbl&gt; | upper &lt;dbl&gt; | Coyote_status &lt;chr&gt; |\n",
       "|---|---|---|---|---|---|\n",
       "| 1 | 0.2119669 | 0.02544978 | 0.17228143 | 0.2639448 | Present |\n",
       "| 2 | 0.0850188 | 0.01369058 | 0.06321365 | 0.1130213 | Absent  |\n",
       "\n"
      ],
      "text/plain": [
       "  Predicted SE         lower      upper     Coyote_status\n",
       "1 0.2119669 0.02544978 0.17228143 0.2639448 Present      \n",
       "2 0.0850188 0.01369058 0.06321365 0.1130213 Absent       "
      ]
     },
     "metadata": {},
     "output_type": "display_data"
    }
   ],
   "source": [
    "plot_data <- rbind(redfox_coy[1,], redfox_nocoy[1,])\n",
    "plot_data$Coyote_status <- c(\"Present\",\"Absent\")\n",
    "head(plot_data)"
   ]
  },
  {
   "cell_type": "code",
   "execution_count": 30,
   "metadata": {
    "slideshow": {
     "slide_type": "fragment"
    },
    "tags": []
   },
   "outputs": [
    {
     "name": "stderr",
     "output_type": "stream",
     "text": [
      "Warning message:\n",
      "“\u001b[1m\u001b[22mUsing `size` aesthetic for lines was deprecated in ggplot2 3.4.0.\n",
      "\u001b[36mℹ\u001b[39m Please use `linewidth` instead.”\n"
     ]
    },
    {
     "data": {
      "image/png": "[encoded data removed]",
      "text/plain": [
       "plot without title"
      ]
     },
     "metadata": {
      "image/png": {
       "height": 600,
       "width": 600
      }
     },
     "output_type": "display_data"
    }
   ],
   "source": [
    "ggplot(data = plot_data, aes(x = Coyote_status, col=Coyote_status)) +\n",
    "  geom_errorbar(aes(ymin = lower, ymax = upper), width = 0.2, size=1.5) +\n",
    "  geom_point(aes(y = Predicted), size=8) +\n",
    "  theme_bw(base_size = 24) +\n",
    "  theme(panel.grid = element_blank(), legend.position='none') +\n",
    "  labs(y = \"Fox conditional occupancy and 95% CI\", x = \"Coyote status\")"
   ]
  },
  {
   "cell_type": "markdown",
   "metadata": {
    "slideshow": {
     "slide_type": "slide"
    }
   },
   "source": [
    "### Co-occurence (joint) probability\n",
    "\n",
    "Probability that *both* species 1 and 2 are at a site (or some other arbitrary combo of species)\n",
    "\n",
    "$$ \\psi_{i, fox+coy} = \\frac{\\psi_{i{11}}}{\\psi_{i{11}}+\\psi_{i{10}} + \\psi_{i{01}} + \\psi_{i{00}}}$$\n",
    "\n",
    "(Trivial for only 2 species)"
   ]
  },
  {
   "cell_type": "code",
   "execution_count": 31,
   "metadata": {
    "slideshow": {
     "slide_type": "fragment"
    }
   },
   "outputs": [
    {
     "data": {
      "text/html": [
       "<style>\n",
       ".list-inline {list-style: none; margin:0; padding: 0}\n",
       ".list-inline>li {display: inline-block}\n",
       ".list-inline>li:not(:last-child)::after {content: \"\\00b7\"; padding: 0 .5ex}\n",
       "</style>\n",
       "<ol class=list-inline><li>'psi[11]'</li><li>'psi[10]'</li><li>'psi[01]'</li><li>'psi[00]'</li></ol>\n"
      ],
      "text/latex": [
       "\\begin{enumerate*}\n",
       "\\item 'psi{[}11{]}'\n",
       "\\item 'psi{[}10{]}'\n",
       "\\item 'psi{[}01{]}'\n",
       "\\item 'psi{[}00{]}'\n",
       "\\end{enumerate*}\n"
      ],
      "text/markdown": [
       "1. 'psi[11]'\n",
       "2. 'psi[10]'\n",
       "3. 'psi[01]'\n",
       "4. 'psi[00]'\n",
       "\n",
       "\n"
      ],
      "text/plain": [
       "[1] \"psi[11]\" \"psi[10]\" \"psi[01]\" \"psi[00]\""
      ]
     },
     "metadata": {},
     "output_type": "display_data"
    }
   ],
   "source": [
    "colnames(occ_prob$Predicted)"
   ]
  },
  {
   "cell_type": "code",
   "execution_count": 32,
   "metadata": {
    "slideshow": {
     "slide_type": "fragment"
    }
   },
   "outputs": [
    {
     "data": {
      "text/html": [
       "<style>\n",
       ".list-inline {list-style: none; margin:0; padding: 0}\n",
       ".list-inline>li {display: inline-block}\n",
       ".list-inline>li:not(:last-child)::after {content: \"\\00b7\"; padding: 0 .5ex}\n",
       "</style>\n",
       "<ol class=list-inline><li>0.0733233311188298</li><li>0.0734972660289845</li><li>0.0736647950683573</li><li>0.0736091636675075</li><li>0.0736202170911572</li><li>0.0737800289214427</li></ol>\n"
      ],
      "text/latex": [
       "\\begin{enumerate*}\n",
       "\\item 0.0733233311188298\n",
       "\\item 0.0734972660289845\n",
       "\\item 0.0736647950683573\n",
       "\\item 0.0736091636675075\n",
       "\\item 0.0736202170911572\n",
       "\\item 0.0737800289214427\n",
       "\\end{enumerate*}\n"
      ],
      "text/markdown": [
       "1. 0.0733233311188298\n",
       "2. 0.0734972660289845\n",
       "3. 0.0736647950683573\n",
       "4. 0.0736091636675075\n",
       "5. 0.0736202170911572\n",
       "6. 0.0737800289214427\n",
       "\n",
       "\n"
      ],
      "text/plain": [
       "[1] 0.07332333 0.07349727 0.07366480 0.07360916 0.07362022 0.07378003"
      ]
     },
     "metadata": {},
     "output_type": "display_data"
    }
   ],
   "source": [
    "cooccur_manual <- occ_prob$Predicted[,1] / rowSums(occ_prob$Predicted)\n",
    "head(cooccur_manual)"
   ]
  },
  {
   "cell_type": "markdown",
   "metadata": {
    "slideshow": {
     "slide_type": "slide"
    }
   },
   "source": [
    "Or with predict:"
   ]
  },
  {
   "cell_type": "code",
   "execution_count": 33,
   "metadata": {
    "slideshow": {
     "slide_type": "fragment"
    }
   },
   "outputs": [
    {
     "name": "stderr",
     "output_type": "stream",
     "text": [
      "Bootstrapping confidence intervals with 100 samples\n",
      "\n"
     ]
    },
    {
     "data": {
      "text/html": [
       "<table class=\"dataframe\">\n",
       "<caption>A data.frame: 6 × 4</caption>\n",
       "<thead>\n",
       "\t<tr><th></th><th scope=col>Predicted</th><th scope=col>SE</th><th scope=col>lower</th><th scope=col>upper</th></tr>\n",
       "\t<tr><th></th><th scope=col>&lt;dbl&gt;</th><th scope=col>&lt;dbl&gt;</th><th scope=col>&lt;dbl&gt;</th><th scope=col>&lt;dbl&gt;</th></tr>\n",
       "</thead>\n",
       "<tbody>\n",
       "\t<tr><th scope=row>1</th><td>0.07332333</td><td>0.008872059</td><td>0.05911332</td><td>0.08740465</td></tr>\n",
       "\t<tr><th scope=row>2</th><td>0.07349727</td><td>0.008894200</td><td>0.05926673</td><td>0.08763510</td></tr>\n",
       "\t<tr><th scope=row>3</th><td>0.07366480</td><td>0.008915618</td><td>0.05941454</td><td>0.08785709</td></tr>\n",
       "\t<tr><th scope=row>4</th><td>0.07360916</td><td>0.008908496</td><td>0.05936545</td><td>0.08778337</td></tr>\n",
       "\t<tr><th scope=row>5</th><td>0.07362022</td><td>0.008909910</td><td>0.05937521</td><td>0.08779802</td></tr>\n",
       "\t<tr><th scope=row>6</th><td>0.07378003</td><td>0.008930402</td><td>0.05950897</td><td>0.08800968</td></tr>\n",
       "</tbody>\n",
       "</table>\n"
      ],
      "text/latex": [
       "A data.frame: 6 × 4\n",
       "\\begin{tabular}{r|llll}\n",
       "  & Predicted & SE & lower & upper\\\\\n",
       "  & <dbl> & <dbl> & <dbl> & <dbl>\\\\\n",
       "\\hline\n",
       "\t1 & 0.07332333 & 0.008872059 & 0.05911332 & 0.08740465\\\\\n",
       "\t2 & 0.07349727 & 0.008894200 & 0.05926673 & 0.08763510\\\\\n",
       "\t3 & 0.07366480 & 0.008915618 & 0.05941454 & 0.08785709\\\\\n",
       "\t4 & 0.07360916 & 0.008908496 & 0.05936545 & 0.08778337\\\\\n",
       "\t5 & 0.07362022 & 0.008909910 & 0.05937521 & 0.08779802\\\\\n",
       "\t6 & 0.07378003 & 0.008930402 & 0.05950897 & 0.08800968\\\\\n",
       "\\end{tabular}\n"
      ],
      "text/markdown": [
       "\n",
       "A data.frame: 6 × 4\n",
       "\n",
       "| <!--/--> | Predicted &lt;dbl&gt; | SE &lt;dbl&gt; | lower &lt;dbl&gt; | upper &lt;dbl&gt; |\n",
       "|---|---|---|---|---|\n",
       "| 1 | 0.07332333 | 0.008872059 | 0.05911332 | 0.08740465 |\n",
       "| 2 | 0.07349727 | 0.008894200 | 0.05926673 | 0.08763510 |\n",
       "| 3 | 0.07366480 | 0.008915618 | 0.05941454 | 0.08785709 |\n",
       "| 4 | 0.07360916 | 0.008908496 | 0.05936545 | 0.08778337 |\n",
       "| 5 | 0.07362022 | 0.008909910 | 0.05937521 | 0.08779802 |\n",
       "| 6 | 0.07378003 | 0.008930402 | 0.05950897 | 0.08800968 |\n",
       "\n"
      ],
      "text/plain": [
       "  Predicted  SE          lower      upper     \n",
       "1 0.07332333 0.008872059 0.05911332 0.08740465\n",
       "2 0.07349727 0.008894200 0.05926673 0.08763510\n",
       "3 0.07366480 0.008915618 0.05941454 0.08785709\n",
       "4 0.07360916 0.008908496 0.05936545 0.08778337\n",
       "5 0.07362022 0.008909910 0.05937521 0.08779802\n",
       "6 0.07378003 0.008930402 0.05950897 0.08800968"
      ]
     },
     "metadata": {},
     "output_type": "display_data"
    }
   ],
   "source": [
    "psi_coccur <- predict(mod_hdens, type=\"state\", species=c(\"coyote\",\"redfox\"))\n",
    "head(psi_coccur)"
   ]
  },
  {
   "cell_type": "markdown",
   "metadata": {
    "slideshow": {
     "slide_type": "slide"
    }
   },
   "source": [
    "### Plotting covariate effects\n",
    "\n",
    "To plot the effect of housing density on **marginal** occupancy, we again use `predict`.\n",
    "\n",
    "1. Generate sequence of housing density values\n",
    "2. Predict for each value\n",
    "3. Plot 95% CI and estimate line"
   ]
  },
  {
   "cell_type": "markdown",
   "metadata": {
    "slideshow": {
     "slide_type": "slide"
    }
   },
   "source": [
    "1. Generate sequence of possible `Hdens_5km` values for X-axis and put in data frame\n",
    "\n",
    "NOTE: Even though we scaled this covariate in the analysis, we don't need to manually scale here. \n",
    "\n",
    "`unmarked` will do it for us because the scaling was specified *in the formula*."
   ]
  },
  {
   "cell_type": "code",
   "execution_count": 34,
   "metadata": {
    "slideshow": {
     "slide_type": "fragment"
    },
    "tags": []
   },
   "outputs": [
    {
     "data": {
      "text/html": [
       "<style>\n",
       ".list-inline {list-style: none; margin:0; padding: 0}\n",
       ".list-inline>li {display: inline-block}\n",
       ".list-inline>li:not(:last-child)::after {content: \"\\00b7\"; padding: 0 .5ex}\n",
       "</style>\n",
       "<ol class=list-inline><li>0</li><li>186.6694336</li></ol>\n"
      ],
      "text/latex": [
       "\\begin{enumerate*}\n",
       "\\item 0\n",
       "\\item 186.6694336\n",
       "\\end{enumerate*}\n"
      ],
      "text/markdown": [
       "1. 0\n",
       "2. 186.6694336\n",
       "\n",
       "\n"
      ],
      "text/plain": [
       "[1]   0.0000 186.6694"
      ]
     },
     "metadata": {},
     "output_type": "display_data"
    }
   ],
   "source": [
    "hdens_range <- range(siteCovs(umf)$HDens_5km)\n",
    "hdens_range\n",
    "hdens_seq <- seq(hdens_range[1], hdens_range[2], length.out=100)\n",
    "nd <- data.frame(HDens_5km = hdens_seq)"
   ]
  },
  {
   "cell_type": "markdown",
   "metadata": {
    "slideshow": {
     "slide_type": "slide"
    }
   },
   "source": [
    "2. `predict` occupancy at each value of `Hdens_5km` along our sequence. Supply `nd` to `newdata` argument\n",
    "\n",
    "We do this for both coyote and red fox separately:"
   ]
  },
  {
   "cell_type": "code",
   "execution_count": 35,
   "metadata": {
    "slideshow": {
     "slide_type": "fragment"
    },
    "tags": []
   },
   "outputs": [
    {
     "name": "stderr",
     "output_type": "stream",
     "text": [
      "Bootstrapping confidence intervals with 100 samples\n",
      "\n",
      "Bootstrapping confidence intervals with 100 samples\n",
      "\n"
     ]
    }
   ],
   "source": [
    "occ_hdens_coy <- predict(mod_hdens, type=\"state\", species=\"coyote\", newdata=nd)\n",
    "occ_hdens_coy$Species <- \"Coyote\"\n",
    "\n",
    "occ_hdens_fox <- predict(mod_hdens, type=\"state\", species=\"redfox\", newdata=nd)\n",
    "occ_hdens_fox$Species <- \"Red fox\""
   ]
  },
  {
   "cell_type": "markdown",
   "metadata": {
    "slideshow": {
     "slide_type": "slide"
    }
   },
   "source": [
    "Then combine the two pieces:"
   ]
  },
  {
   "cell_type": "code",
   "execution_count": 36,
   "metadata": {
    "slideshow": {
     "slide_type": "fragment"
    }
   },
   "outputs": [
    {
     "data": {
      "text/html": [
       "<table class=\"dataframe\">\n",
       "<caption>A data.frame: 6 × 6</caption>\n",
       "<thead>\n",
       "\t<tr><th></th><th scope=col>Predicted</th><th scope=col>SE</th><th scope=col>lower</th><th scope=col>upper</th><th scope=col>Species</th><th scope=col>Hdens_5km</th></tr>\n",
       "\t<tr><th></th><th scope=col>&lt;dbl&gt;</th><th scope=col>&lt;dbl&gt;</th><th scope=col>&lt;dbl&gt;</th><th scope=col>&lt;dbl&gt;</th><th scope=col>&lt;chr&gt;</th><th scope=col>&lt;dbl&gt;</th></tr>\n",
       "</thead>\n",
       "<tbody>\n",
       "\t<tr><th scope=row>1</th><td>0.3415035</td><td>0.01526375</td><td>0.3099746</td><td>0.3694767</td><td>Coyote</td><td>0.000000</td></tr>\n",
       "\t<tr><th scope=row>2</th><td>0.3423496</td><td>0.01511289</td><td>0.3105792</td><td>0.3689472</td><td>Coyote</td><td>1.885550</td></tr>\n",
       "\t<tr><th scope=row>3</th><td>0.3432180</td><td>0.01503429</td><td>0.3114016</td><td>0.3683999</td><td>Coyote</td><td>3.771100</td></tr>\n",
       "\t<tr><th scope=row>4</th><td>0.3441090</td><td>0.01502899</td><td>0.3123491</td><td>0.3698072</td><td>Coyote</td><td>5.656650</td></tr>\n",
       "\t<tr><th scope=row>5</th><td>0.3450230</td><td>0.01509702</td><td>0.3133190</td><td>0.3707912</td><td>Coyote</td><td>7.542199</td></tr>\n",
       "\t<tr><th scope=row>6</th><td>0.3459604</td><td>0.01523736</td><td>0.3139849</td><td>0.3717247</td><td>Coyote</td><td>9.427749</td></tr>\n",
       "</tbody>\n",
       "</table>\n"
      ],
      "text/latex": [
       "A data.frame: 6 × 6\n",
       "\\begin{tabular}{r|llllll}\n",
       "  & Predicted & SE & lower & upper & Species & Hdens\\_5km\\\\\n",
       "  & <dbl> & <dbl> & <dbl> & <dbl> & <chr> & <dbl>\\\\\n",
       "\\hline\n",
       "\t1 & 0.3415035 & 0.01526375 & 0.3099746 & 0.3694767 & Coyote & 0.000000\\\\\n",
       "\t2 & 0.3423496 & 0.01511289 & 0.3105792 & 0.3689472 & Coyote & 1.885550\\\\\n",
       "\t3 & 0.3432180 & 0.01503429 & 0.3114016 & 0.3683999 & Coyote & 3.771100\\\\\n",
       "\t4 & 0.3441090 & 0.01502899 & 0.3123491 & 0.3698072 & Coyote & 5.656650\\\\\n",
       "\t5 & 0.3450230 & 0.01509702 & 0.3133190 & 0.3707912 & Coyote & 7.542199\\\\\n",
       "\t6 & 0.3459604 & 0.01523736 & 0.3139849 & 0.3717247 & Coyote & 9.427749\\\\\n",
       "\\end{tabular}\n"
      ],
      "text/markdown": [
       "\n",
       "A data.frame: 6 × 6\n",
       "\n",
       "| <!--/--> | Predicted &lt;dbl&gt; | SE &lt;dbl&gt; | lower &lt;dbl&gt; | upper &lt;dbl&gt; | Species &lt;chr&gt; | Hdens_5km &lt;dbl&gt; |\n",
       "|---|---|---|---|---|---|---|\n",
       "| 1 | 0.3415035 | 0.01526375 | 0.3099746 | 0.3694767 | Coyote | 0.000000 |\n",
       "| 2 | 0.3423496 | 0.01511289 | 0.3105792 | 0.3689472 | Coyote | 1.885550 |\n",
       "| 3 | 0.3432180 | 0.01503429 | 0.3114016 | 0.3683999 | Coyote | 3.771100 |\n",
       "| 4 | 0.3441090 | 0.01502899 | 0.3123491 | 0.3698072 | Coyote | 5.656650 |\n",
       "| 5 | 0.3450230 | 0.01509702 | 0.3133190 | 0.3707912 | Coyote | 7.542199 |\n",
       "| 6 | 0.3459604 | 0.01523736 | 0.3139849 | 0.3717247 | Coyote | 9.427749 |\n",
       "\n"
      ],
      "text/plain": [
       "  Predicted SE         lower     upper     Species Hdens_5km\n",
       "1 0.3415035 0.01526375 0.3099746 0.3694767 Coyote  0.000000 \n",
       "2 0.3423496 0.01511289 0.3105792 0.3689472 Coyote  1.885550 \n",
       "3 0.3432180 0.01503429 0.3114016 0.3683999 Coyote  3.771100 \n",
       "4 0.3441090 0.01502899 0.3123491 0.3698072 Coyote  5.656650 \n",
       "5 0.3450230 0.01509702 0.3133190 0.3707912 Coyote  7.542199 \n",
       "6 0.3459604 0.01523736 0.3139849 0.3717247 Coyote  9.427749 "
      ]
     },
     "metadata": {},
     "output_type": "display_data"
    },
    {
     "data": {
      "text/html": [
       "<table class=\"dataframe\">\n",
       "<caption>A data.frame: 6 × 6</caption>\n",
       "<thead>\n",
       "\t<tr><th></th><th scope=col>Predicted</th><th scope=col>SE</th><th scope=col>lower</th><th scope=col>upper</th><th scope=col>Species</th><th scope=col>Hdens_5km</th></tr>\n",
       "\t<tr><th></th><th scope=col>&lt;dbl&gt;</th><th scope=col>&lt;dbl&gt;</th><th scope=col>&lt;dbl&gt;</th><th scope=col>&lt;dbl&gt;</th><th scope=col>&lt;chr&gt;</th><th scope=col>&lt;dbl&gt;</th></tr>\n",
       "</thead>\n",
       "<tbody>\n",
       "\t<tr><th scope=row>195</th><td>0.7424483</td><td>0.08212945</td><td>0.5603354</td><td>0.8631726</td><td>Red fox</td><td>177.2417</td></tr>\n",
       "\t<tr><th scope=row>196</th><td>0.7487728</td><td>0.08183132</td><td>0.5662386</td><td>0.8679575</td><td>Red fox</td><td>179.1272</td></tr>\n",
       "\t<tr><th scope=row>197</th><td>0.7549932</td><td>0.08150114</td><td>0.5721233</td><td>0.8725993</td><td>Red fox</td><td>181.0128</td></tr>\n",
       "\t<tr><th scope=row>198</th><td>0.7611088</td><td>0.08113996</td><td>0.5779879</td><td>0.8771006</td><td>Red fox</td><td>182.8983</td></tr>\n",
       "\t<tr><th scope=row>199</th><td>0.7671187</td><td>0.08074885</td><td>0.5838307</td><td>0.8814641</td><td>Red fox</td><td>184.7839</td></tr>\n",
       "\t<tr><th scope=row>200</th><td>0.7730226</td><td>0.08032889</td><td>0.5896503</td><td>0.8856924</td><td>Red fox</td><td>186.6694</td></tr>\n",
       "</tbody>\n",
       "</table>\n"
      ],
      "text/latex": [
       "A data.frame: 6 × 6\n",
       "\\begin{tabular}{r|llllll}\n",
       "  & Predicted & SE & lower & upper & Species & Hdens\\_5km\\\\\n",
       "  & <dbl> & <dbl> & <dbl> & <dbl> & <chr> & <dbl>\\\\\n",
       "\\hline\n",
       "\t195 & 0.7424483 & 0.08212945 & 0.5603354 & 0.8631726 & Red fox & 177.2417\\\\\n",
       "\t196 & 0.7487728 & 0.08183132 & 0.5662386 & 0.8679575 & Red fox & 179.1272\\\\\n",
       "\t197 & 0.7549932 & 0.08150114 & 0.5721233 & 0.8725993 & Red fox & 181.0128\\\\\n",
       "\t198 & 0.7611088 & 0.08113996 & 0.5779879 & 0.8771006 & Red fox & 182.8983\\\\\n",
       "\t199 & 0.7671187 & 0.08074885 & 0.5838307 & 0.8814641 & Red fox & 184.7839\\\\\n",
       "\t200 & 0.7730226 & 0.08032889 & 0.5896503 & 0.8856924 & Red fox & 186.6694\\\\\n",
       "\\end{tabular}\n"
      ],
      "text/markdown": [
       "\n",
       "A data.frame: 6 × 6\n",
       "\n",
       "| <!--/--> | Predicted &lt;dbl&gt; | SE &lt;dbl&gt; | lower &lt;dbl&gt; | upper &lt;dbl&gt; | Species &lt;chr&gt; | Hdens_5km &lt;dbl&gt; |\n",
       "|---|---|---|---|---|---|---|\n",
       "| 195 | 0.7424483 | 0.08212945 | 0.5603354 | 0.8631726 | Red fox | 177.2417 |\n",
       "| 196 | 0.7487728 | 0.08183132 | 0.5662386 | 0.8679575 | Red fox | 179.1272 |\n",
       "| 197 | 0.7549932 | 0.08150114 | 0.5721233 | 0.8725993 | Red fox | 181.0128 |\n",
       "| 198 | 0.7611088 | 0.08113996 | 0.5779879 | 0.8771006 | Red fox | 182.8983 |\n",
       "| 199 | 0.7671187 | 0.08074885 | 0.5838307 | 0.8814641 | Red fox | 184.7839 |\n",
       "| 200 | 0.7730226 | 0.08032889 | 0.5896503 | 0.8856924 | Red fox | 186.6694 |\n",
       "\n"
      ],
      "text/plain": [
       "    Predicted SE         lower     upper     Species Hdens_5km\n",
       "195 0.7424483 0.08212945 0.5603354 0.8631726 Red fox 177.2417 \n",
       "196 0.7487728 0.08183132 0.5662386 0.8679575 Red fox 179.1272 \n",
       "197 0.7549932 0.08150114 0.5721233 0.8725993 Red fox 181.0128 \n",
       "198 0.7611088 0.08113996 0.5779879 0.8771006 Red fox 182.8983 \n",
       "199 0.7671187 0.08074885 0.5838307 0.8814641 Red fox 184.7839 \n",
       "200 0.7730226 0.08032889 0.5896503 0.8856924 Red fox 186.6694 "
      ]
     },
     "metadata": {},
     "output_type": "display_data"
    }
   ],
   "source": [
    "occ_hdens <- rbind(occ_hdens_coy, occ_hdens_fox)\n",
    "occ_hdens$Hdens_5km = hdens_seq\n",
    "head(occ_hdens)\n",
    "tail(occ_hdens)"
   ]
  },
  {
   "cell_type": "markdown",
   "metadata": {
    "slideshow": {
     "slide_type": "slide"
    }
   },
   "source": [
    "3. Make the plot"
   ]
  },
  {
   "cell_type": "code",
   "execution_count": 37,
   "metadata": {
    "slideshow": {
     "slide_type": "fragment"
    },
    "tags": []
   },
   "outputs": [
    {
     "data": {
      "image/png": "[encoded data removed]",
      "text/plain": [
       "plot without title"
      ]
     },
     "metadata": {
      "image/png": {
       "height": 600,
       "width": 600
      }
     },
     "output_type": "display_data"
    }
   ],
   "source": [
    "ggplot(data = occ_hdens, aes(x = Hdens_5km)) +\n",
    "  geom_ribbon(aes(ymin = lower, ymax = upper, fill = Species), alpha = 0.2) +\n",
    "  geom_line(aes(y = Predicted, col = Species)) +\n",
    "  theme_bw(base_size = 24) +\n",
    "  theme(panel.grid = element_blank()) +\n",
    "  labs(y = \"Marginal occupancy and 95% CI\", x = \"Housing density\")"
   ]
  },
  {
   "cell_type": "markdown",
   "metadata": {
    "slideshow": {
     "slide_type": "slide"
    }
   },
   "source": [
    "### Exercise: Plot conditional occupancy for a covariate\n",
    "\n",
    "* Plot conditional occupancy of red fox as a function of housing density\n",
    "* Do this for coyote present, coyote absent, or both (if you have time)\n",
    "* Should be able to adapt code from previous section on marginal occupancy, just add the `cond` argument."
   ]
  },
  {
   "cell_type": "code",
   "execution_count": 38,
   "metadata": {
    "slideshow": {
     "slide_type": "slide"
    }
   },
   "outputs": [
    {
     "name": "stderr",
     "output_type": "stream",
     "text": [
      "Bootstrapping confidence intervals with 100 samples\n",
      "\n",
      "Bootstrapping confidence intervals with 100 samples\n",
      "\n"
     ]
    }
   ],
   "source": [
    "occ_hdens_coypres <- predict(mod_hdens, type=\"state\", species=\"redfox\", cond=\"coyote\", newdata=nd)\n",
    "occ_hdens_coypres$Coyote_status <- \"Present\"\n",
    "\n",
    "occ_hdens_coyabs <- predict(mod_hdens, type=\"state\", species=\"redfox\", cond=\"-coyote\", newdata=nd)\n",
    "occ_hdens_coyabs$Coyote_status <- \"Absent\"\n",
    "\n",
    "plot_hdens_coystatus <- rbind(occ_hdens_coypres, occ_hdens_coyabs)\n",
    "plot_hdens_coystatus$Hdens_5km <- hdens_seq"
   ]
  },
  {
   "cell_type": "code",
   "execution_count": 39,
   "metadata": {
    "slideshow": {
     "slide_type": "slide"
    }
   },
   "outputs": [
    {
     "data": {
      "image/png": "[encoded data removed]",
      "text/plain": [
       "plot without title"
      ]
     },
     "metadata": {
      "image/png": {
       "height": 600,
       "width": 600
      }
     },
     "output_type": "display_data"
    }
   ],
   "source": [
    "ggplot(data = plot_hdens_coystatus, aes(x = Hdens_5km)) +\n",
    "  geom_ribbon(aes(ymin = lower, ymax = upper, fill = Coyote_status), alpha = 0.2) +\n",
    "  geom_line(aes(y = Predicted, col = Coyote_status)) +\n",
    "  theme_bw(base_size = 24) +\n",
    "  theme(panel.grid = element_blank()) +\n",
    "  labs(y = \"Red fox conditional occupancy and 95% CI\", x = \"Housing density\",\n",
    "       col = \"Coyote status\", fill = \"Coyote status\")"
   ]
  },
  {
   "cell_type": "markdown",
   "metadata": {
    "slideshow": {
     "slide_type": "fragment"
    }
   },
   "source": [
    "Note these are parallel because `Hdens_5km` does not affect the interaction term."
   ]
  },
  {
   "cell_type": "markdown",
   "metadata": {
    "slideshow": {
     "slide_type": "slide"
    },
    "tags": []
   },
   "source": [
    "# Removing interaction terms\n",
    "\n",
    "(or \"forcing interactions to 0\")\n",
    "\n",
    "This is pretty common. The two main reasons:\n",
    "\n",
    "* 3-way and higher interactions are tough to interpret and rarely part of hypotheses\n",
    "* Higher-order interactions are hard to estimate"
   ]
  },
  {
   "cell_type": "markdown",
   "metadata": {
    "slideshow": {
     "slide_type": "fragment"
    },
    "tags": []
   },
   "source": [
    "Two options to remove interactions:\n",
    "\n",
    "* Set corresponding formula to `\"0\"`\n",
    "* Set `maxOrder` argument"
   ]
  },
  {
   "cell_type": "markdown",
   "metadata": {
    "slideshow": {
     "slide_type": "slide"
    },
    "tags": []
   },
   "source": [
    "Setting a formula to `\"0\"` removes just that particular interaction term.\n",
    "\n",
    "Review the $f$ design matrix:"
   ]
  },
  {
   "cell_type": "code",
   "execution_count": 40,
   "metadata": {
    "slideshow": {
     "slide_type": "fragment"
    },
    "tags": []
   },
   "outputs": [
    {
     "data": {
      "text/html": [
       "<table class=\"dataframe\">\n",
       "<caption>A matrix: 4 × 3 of type dbl</caption>\n",
       "<thead>\n",
       "\t<tr><th></th><th scope=col>f1[coyote]</th><th scope=col>f2[redfox]</th><th scope=col>f3[coyote:redfox]</th></tr>\n",
       "</thead>\n",
       "<tbody>\n",
       "\t<tr><th scope=row>psi[11]</th><td>1</td><td>1</td><td>1</td></tr>\n",
       "\t<tr><th scope=row>psi[10]</th><td>1</td><td>0</td><td>0</td></tr>\n",
       "\t<tr><th scope=row>psi[01]</th><td>0</td><td>1</td><td>0</td></tr>\n",
       "\t<tr><th scope=row>psi[00]</th><td>0</td><td>0</td><td>0</td></tr>\n",
       "</tbody>\n",
       "</table>\n"
      ],
      "text/latex": [
       "A matrix: 4 × 3 of type dbl\n",
       "\\begin{tabular}{r|lll}\n",
       "  & f1{[}coyote{]} & f2{[}redfox{]} & f3{[}coyote:redfox{]}\\\\\n",
       "\\hline\n",
       "\tpsi{[}11{]} & 1 & 1 & 1\\\\\n",
       "\tpsi{[}10{]} & 1 & 0 & 0\\\\\n",
       "\tpsi{[}01{]} & 0 & 1 & 0\\\\\n",
       "\tpsi{[}00{]} & 0 & 0 & 0\\\\\n",
       "\\end{tabular}\n"
      ],
      "text/markdown": [
       "\n",
       "A matrix: 4 × 3 of type dbl\n",
       "\n",
       "| <!--/--> | f1[coyote] | f2[redfox] | f3[coyote:redfox] |\n",
       "|---|---|---|---|\n",
       "| psi[11] | 1 | 1 | 1 |\n",
       "| psi[10] | 1 | 0 | 0 |\n",
       "| psi[01] | 0 | 1 | 0 |\n",
       "| psi[00] | 0 | 0 | 0 |\n",
       "\n"
      ],
      "text/plain": [
       "        f1[coyote] f2[redfox] f3[coyote:redfox]\n",
       "psi[11] 1          1          1                \n",
       "psi[10] 1          0          0                \n",
       "psi[01] 0          1          0                \n",
       "psi[00] 0          0          0                "
      ]
     },
     "metadata": {},
     "output_type": "display_data"
    }
   ],
   "source": [
    "umf@fDesign"
   ]
  },
  {
   "cell_type": "code",
   "execution_count": 41,
   "metadata": {
    "slideshow": {
     "slide_type": "fragment"
    },
    "tags": []
   },
   "outputs": [
    {
     "data": {
      "text/plain": [
       "\n",
       "Call:\n",
       "occuMulti(detformulas = detformulas, stateformulas = stateformulas_0, \n",
       "    data = umf, maxOrder = 2L)\n",
       "\n",
       "Occupancy:\n",
       "                          Estimate     SE      z  P(>|z|)\n",
       "[coyote] (Intercept)        -0.631 0.0745  -8.47 2.49e-17\n",
       "[coyote] scale(HDens_5km)    0.108 0.0628   1.72 8.50e-02\n",
       "[redfox] (Intercept)        -1.921 0.0998 -19.25 1.52e-82\n",
       "[redfox] scale(HDens_5km)    0.514 0.0811   6.34 2.27e-10\n",
       "\n",
       "Detection:\n",
       "                     Estimate     SE     z  P(>|z|)\n",
       "[coyote] (Intercept)   -0.332 0.0763 -4.36 1.33e-05\n",
       "[redfox] (Intercept)   -0.261 0.1195 -2.19 2.87e-02\n",
       "\n",
       "AIC: 4822.196 "
      ]
     },
     "metadata": {},
     "output_type": "display_data"
    }
   ],
   "source": [
    "stateformulas_0 <- c(\"~scale(HDens_5km)\", \"~scale(HDens_5km)\", \"0\")\n",
    "mod_noint <- occuMulti(detformulas=detformulas, stateformulas=stateformulas_0, data=umf)\n",
    "mod_noint"
   ]
  },
  {
   "cell_type": "markdown",
   "metadata": {
    "slideshow": {
     "slide_type": "slide"
    },
    "tags": []
   },
   "source": [
    "Setting `maxOrder` gets rid of all interactions of above that level.\n",
    "\n",
    "For example, `maxOrder = 1` means no interactions at all."
   ]
  },
  {
   "cell_type": "code",
   "execution_count": 42,
   "metadata": {
    "slideshow": {
     "slide_type": "fragment"
    },
    "tags": []
   },
   "outputs": [
    {
     "data": {
      "text/plain": [
       "\n",
       "Call:\n",
       "occuMulti(detformulas = detformulas, stateformulas = stateformulas, \n",
       "    data = umf, maxOrder = 1)\n",
       "\n",
       "Occupancy:\n",
       "                          Estimate     SE      z  P(>|z|)\n",
       "[coyote] (Intercept)        -0.631 0.0745  -8.47 2.49e-17\n",
       "[coyote] scale(HDens_5km)    0.108 0.0628   1.72 8.50e-02\n",
       "[redfox] (Intercept)        -1.921 0.0998 -19.25 1.52e-82\n",
       "[redfox] scale(HDens_5km)    0.514 0.0811   6.34 2.27e-10\n",
       "\n",
       "Detection:\n",
       "                     Estimate     SE     z  P(>|z|)\n",
       "[coyote] (Intercept)   -0.332 0.0763 -4.36 1.33e-05\n",
       "[redfox] (Intercept)   -0.261 0.1195 -2.19 2.87e-02\n",
       "\n",
       "AIC: 4822.196 "
      ]
     },
     "metadata": {},
     "output_type": "display_data"
    }
   ],
   "source": [
    "stateformulas <- c(\"~scale(HDens_5km)\", \"~scale(HDens_5km)\")\n",
    "mod_noint <- occuMulti(detformulas=detformulas, stateformulas=stateformulas, data=umf, maxOrder=1)\n",
    "mod_noint"
   ]
  },
  {
   "cell_type": "markdown",
   "metadata": {
    "slideshow": {
     "slide_type": "fragment"
    },
    "tags": []
   },
   "source": [
    "This is equivalent to fitting two separate occupancy models.\n",
    "\n",
    "For example, the coyote single-species model:"
   ]
  },
  {
   "cell_type": "code",
   "execution_count": 43,
   "metadata": {
    "slideshow": {
     "slide_type": "fragment"
    },
    "tags": []
   },
   "outputs": [
    {
     "data": {
      "text/plain": [
       "\n",
       "Call:\n",
       "occu(formula = ~1 ~ scale(HDens_5km), data = umf_coy)\n",
       "\n",
       "Occupancy:\n",
       "                 Estimate     SE     z  P(>|z|)\n",
       "(Intercept)        -0.631 0.0745 -8.47 2.51e-17\n",
       "scale(HDens_5km)    0.108 0.0628  1.72 8.49e-02\n",
       "\n",
       "Detection:\n",
       " Estimate     SE     z  P(>|z|)\n",
       "   -0.332 0.0763 -4.36 1.32e-05\n",
       "\n",
       "AIC: 3245.169 "
      ]
     },
     "metadata": {},
     "output_type": "display_data"
    }
   ],
   "source": [
    "umf_coy <- unmarkedFrameOccu(y=ylist$coyote, siteCovs=site_covs)\n",
    "occu(~1~scale(HDens_5km), umf_coy)"
   ]
  },
  {
   "cell_type": "markdown",
   "metadata": {
    "slideshow": {
     "slide_type": "slide"
    }
   },
   "source": [
    "# Model Selection\n",
    "\n",
    "Use `fitList` and `modSel`, same as with single-species models."
   ]
  },
  {
   "cell_type": "code",
   "execution_count": 44,
   "metadata": {
    "slideshow": {
     "slide_type": "fragment"
    }
   },
   "outputs": [
    {
     "data": {
      "text/plain": [
       "      nPars     AIC delta   AICwt cumltvWt\n",
       "hdens     7 4800.86  0.00 1.0e+00     1.00\n",
       "noint     6 4822.20 21.34 2.3e-05     1.00"
      ]
     },
     "metadata": {},
     "output_type": "display_data"
    }
   ],
   "source": [
    "fl <- fitList(hdens = mod_hdens, noint = mod_noint)\n",
    "modSel(fl)"
   ]
  },
  {
   "cell_type": "markdown",
   "metadata": {
    "slideshow": {
     "slide_type": "slide"
    },
    "tags": []
   },
   "source": [
    "### Exercise\n",
    "\n",
    "* Set up a 3-species model with the `MesoCarnivores` dataset (i.e., add bobcat)\n",
    "* Add more covariates if you want\n",
    "* Don't include a 3-species interaction term (i.e., force it to be 0)"
   ]
  },
  {
   "cell_type": "code",
   "execution_count": 62,
   "metadata": {
    "slideshow": {
     "slide_type": "fragment"
    },
    "tags": []
   },
   "outputs": [
    {
     "data": {
      "text/html": [
       "<style>\n",
       ".list-inline {list-style: none; margin:0; padding: 0}\n",
       ".list-inline>li {display: inline-block}\n",
       ".list-inline>li:not(:last-child)::after {content: \"\\00b7\"; padding: 0 .5ex}\n",
       "</style>\n",
       "<ol class=list-inline><li>'bobcat'</li><li>'coyote'</li><li>'redfox'</li></ol>\n"
      ],
      "text/latex": [
       "\\begin{enumerate*}\n",
       "\\item 'bobcat'\n",
       "\\item 'coyote'\n",
       "\\item 'redfox'\n",
       "\\end{enumerate*}\n"
      ],
      "text/markdown": [
       "1. 'bobcat'\n",
       "2. 'coyote'\n",
       "3. 'redfox'\n",
       "\n",
       "\n"
      ],
      "text/plain": [
       "[1] \"bobcat\" \"coyote\" \"redfox\""
      ]
     },
     "metadata": {},
     "output_type": "display_data"
    },
    {
     "data": {
      "text/html": [
       "<table class=\"dataframe\">\n",
       "<caption>A matrix: 8 × 7 of type dbl</caption>\n",
       "<thead>\n",
       "\t<tr><th></th><th scope=col>f1[bobcat]</th><th scope=col>f2[coyote]</th><th scope=col>f3[redfox]</th><th scope=col>f4[bobcat:coyote]</th><th scope=col>f5[bobcat:redfox]</th><th scope=col>f6[coyote:redfox]</th><th scope=col>f7[bobcat:coyote:redfox]</th></tr>\n",
       "</thead>\n",
       "<tbody>\n",
       "\t<tr><th scope=row>psi[111]</th><td>1</td><td>1</td><td>1</td><td>1</td><td>1</td><td>1</td><td>1</td></tr>\n",
       "\t<tr><th scope=row>psi[110]</th><td>1</td><td>1</td><td>0</td><td>1</td><td>0</td><td>0</td><td>0</td></tr>\n",
       "\t<tr><th scope=row>psi[101]</th><td>1</td><td>0</td><td>1</td><td>0</td><td>1</td><td>0</td><td>0</td></tr>\n",
       "\t<tr><th scope=row>psi[100]</th><td>1</td><td>0</td><td>0</td><td>0</td><td>0</td><td>0</td><td>0</td></tr>\n",
       "\t<tr><th scope=row>psi[011]</th><td>0</td><td>1</td><td>1</td><td>0</td><td>0</td><td>1</td><td>0</td></tr>\n",
       "\t<tr><th scope=row>psi[010]</th><td>0</td><td>1</td><td>0</td><td>0</td><td>0</td><td>0</td><td>0</td></tr>\n",
       "\t<tr><th scope=row>psi[001]</th><td>0</td><td>0</td><td>1</td><td>0</td><td>0</td><td>0</td><td>0</td></tr>\n",
       "\t<tr><th scope=row>psi[000]</th><td>0</td><td>0</td><td>0</td><td>0</td><td>0</td><td>0</td><td>0</td></tr>\n",
       "</tbody>\n",
       "</table>\n"
      ],
      "text/latex": [
       "A matrix: 8 × 7 of type dbl\n",
       "\\begin{tabular}{r|lllllll}\n",
       "  & f1{[}bobcat{]} & f2{[}coyote{]} & f3{[}redfox{]} & f4{[}bobcat:coyote{]} & f5{[}bobcat:redfox{]} & f6{[}coyote:redfox{]} & f7{[}bobcat:coyote:redfox{]}\\\\\n",
       "\\hline\n",
       "\tpsi{[}111{]} & 1 & 1 & 1 & 1 & 1 & 1 & 1\\\\\n",
       "\tpsi{[}110{]} & 1 & 1 & 0 & 1 & 0 & 0 & 0\\\\\n",
       "\tpsi{[}101{]} & 1 & 0 & 1 & 0 & 1 & 0 & 0\\\\\n",
       "\tpsi{[}100{]} & 1 & 0 & 0 & 0 & 0 & 0 & 0\\\\\n",
       "\tpsi{[}011{]} & 0 & 1 & 1 & 0 & 0 & 1 & 0\\\\\n",
       "\tpsi{[}010{]} & 0 & 1 & 0 & 0 & 0 & 0 & 0\\\\\n",
       "\tpsi{[}001{]} & 0 & 0 & 1 & 0 & 0 & 0 & 0\\\\\n",
       "\tpsi{[}000{]} & 0 & 0 & 0 & 0 & 0 & 0 & 0\\\\\n",
       "\\end{tabular}\n"
      ],
      "text/markdown": [
       "\n",
       "A matrix: 8 × 7 of type dbl\n",
       "\n",
       "| <!--/--> | f1[bobcat] | f2[coyote] | f3[redfox] | f4[bobcat:coyote] | f5[bobcat:redfox] | f6[coyote:redfox] | f7[bobcat:coyote:redfox] |\n",
       "|---|---|---|---|---|---|---|---|\n",
       "| psi[111] | 1 | 1 | 1 | 1 | 1 | 1 | 1 |\n",
       "| psi[110] | 1 | 1 | 0 | 1 | 0 | 0 | 0 |\n",
       "| psi[101] | 1 | 0 | 1 | 0 | 1 | 0 | 0 |\n",
       "| psi[100] | 1 | 0 | 0 | 0 | 0 | 0 | 0 |\n",
       "| psi[011] | 0 | 1 | 1 | 0 | 0 | 1 | 0 |\n",
       "| psi[010] | 0 | 1 | 0 | 0 | 0 | 0 | 0 |\n",
       "| psi[001] | 0 | 0 | 1 | 0 | 0 | 0 | 0 |\n",
       "| psi[000] | 0 | 0 | 0 | 0 | 0 | 0 | 0 |\n",
       "\n"
      ],
      "text/plain": [
       "         f1[bobcat] f2[coyote] f3[redfox] f4[bobcat:coyote] f5[bobcat:redfox]\n",
       "psi[111] 1          1          1          1                 1                \n",
       "psi[110] 1          1          0          1                 0                \n",
       "psi[101] 1          0          1          0                 1                \n",
       "psi[100] 1          0          0          0                 0                \n",
       "psi[011] 0          1          1          0                 0                \n",
       "psi[010] 0          1          0          0                 0                \n",
       "psi[001] 0          0          1          0                 0                \n",
       "psi[000] 0          0          0          0                 0                \n",
       "         f6[coyote:redfox] f7[bobcat:coyote:redfox]\n",
       "psi[111] 1                 1                       \n",
       "psi[110] 0                 0                       \n",
       "psi[101] 0                 0                       \n",
       "psi[100] 0                 0                       \n",
       "psi[011] 1                 0                       \n",
       "psi[010] 0                 0                       \n",
       "psi[001] 0                 0                       \n",
       "psi[000] 0                 0                       "
      ]
     },
     "metadata": {},
     "output_type": "display_data"
    }
   ],
   "source": [
    "ylist <- MesoCarnivores[c(1:3)]\n",
    "names(ylist)\n",
    "umf <- unmarkedFrameOccuMulti(y=ylist, siteCovs=site_covs)\n",
    "umf@fDesign"
   ]
  },
  {
   "cell_type": "code",
   "execution_count": 63,
   "metadata": {},
   "outputs": [
    {
     "data": {
      "text/plain": [
       "\n",
       "Call:\n",
       "occuMulti(detformulas = detformulas, stateformulas = stateformulas, \n",
       "    data = umf, maxOrder = 2)\n",
       "\n",
       "Occupancy:\n",
       "                            Estimate     SE      z  P(>|z|)\n",
       "[bobcat] (Intercept)         -2.5364 0.2842  -8.92 4.53e-19\n",
       "[bobcat] scale(HDens_5km)    -3.6008 0.9191  -3.92 8.94e-05\n",
       "[coyote] (Intercept)         -1.3439 0.1470  -9.14 6.04e-20\n",
       "[coyote] scale(HDens_5km)     0.0884 0.0742   1.19 2.34e-01\n",
       "[redfox] (Intercept)         -2.2555 0.1566 -14.41 4.65e-47\n",
       "[redfox] scale(HDens_5km)     0.4392 0.0831   5.29 1.24e-07\n",
       "[bobcat:coyote] (Intercept)   1.8173 0.2714   6.70 2.16e-11\n",
       "[bobcat:redfox] (Intercept)  -1.3385 0.3869  -3.46 5.42e-04\n",
       "[coyote:redfox] (Intercept)   1.3740 0.2597   5.29 1.22e-07\n",
       "\n",
       "Detection:\n",
       "                     Estimate     SE     z  P(>|z|)\n",
       "[bobcat] (Intercept)   -1.139 0.1421 -8.02 1.07e-15\n",
       "[coyote] (Intercept)   -0.328 0.0759 -4.32 1.53e-05\n",
       "[redfox] (Intercept)   -0.252 0.1179 -2.14 3.26e-02\n",
       "\n",
       "AIC: 6530.476 "
      ]
     },
     "metadata": {},
     "output_type": "display_data"
    }
   ],
   "source": [
    "stateformulas <- c(\"~scale(HDens_5km)\",\"~scale(HDens_5km)\",\"~scale(HDens_5km)\",\"~1\",\"~1\",\"~1\")\n",
    "detformulas <- rep(\"~1\", 3)\n",
    "(mod_3species <- occuMulti(detformulas=detformulas, stateformulas=stateformulas, data=umf, maxOrder = 2))"
   ]
  },
  {
   "cell_type": "markdown",
   "metadata": {
    "slideshow": {
     "slide_type": "slide"
    },
    "tags": []
   },
   "source": [
    "# Model fitting challenges"
   ]
  },
  {
   "cell_type": "markdown",
   "metadata": {
    "slideshow": {
     "slide_type": "fragment"
    },
    "tags": []
   },
   "source": [
    "1. Amount of data required\n",
    "2. Poor estimates"
   ]
  },
  {
   "cell_type": "markdown",
   "metadata": {
    "slideshow": {
     "slide_type": "slide"
    },
    "tags": []
   },
   "source": [
    "## Amount of data required\n",
    "\n",
    "* You need a surprising amount of data to have high power to detect interaction effects\n",
    "* We can explore this with simulation + power analysis"
   ]
  },
  {
   "cell_type": "markdown",
   "metadata": {
    "slideshow": {
     "slide_type": "slide"
    }
   },
   "source": [
    "### Quick and very dirty review of power analysis"
   ]
  },
  {
   "cell_type": "markdown",
   "metadata": {
    "slideshow": {
     "slide_type": "fragment"
    }
   },
   "source": [
    "* Type I error: We reject the null hypothesis when in fact it is true.\n",
    "* Type II error: We fail to reject the null hypothesis when in fact it is false."
   ]
  },
  {
   "cell_type": "markdown",
   "metadata": {
    "slideshow": {
     "slide_type": "fragment"
    }
   },
   "source": [
    "* Power: 1 - Type II error (rule-of-thumb we want > 0.8)\n",
    "* Power analysis: Determining power for a particular experimental design, effect size, and Type I error ($\\alpha$)\n",
    "\n",
    "Low power -> we fail to find an existing effect, or we run into other problems (more on this later)\n",
    "\n",
    "We need to use simulation for doing power analysis with this model."
   ]
  },
  {
   "cell_type": "markdown",
   "metadata": {
    "slideshow": {
     "slide_type": "slide"
    }
   },
   "source": [
    "### Power analysis in `unmarked`\n",
    "\n",
    "NOTE: The code below requires the dev version of `unmarked`\n",
    "\n",
    "```r\n",
    "remotes::install_github(\"rbchan/unmarked\")\n",
    "```\n",
    "\n",
    "Information we need:\n",
    "\n",
    "* A set of hypothetical effect sizes (= parameter values)\n",
    "* An `unmarkedFrame` containing information about the experimental design\n",
    "* Value of $\\alpha$ (we'll leave at 0.05)"
   ]
  },
  {
   "cell_type": "markdown",
   "metadata": {
    "slideshow": {
     "slide_type": "fragment"
    }
   },
   "source": [
    "`unmarked` then automatically:\n",
    "\n",
    "* Plugs effect sizes (= parameter values) into the template model\n",
    "* Simulates new datasets and re-fits the models (many times)\n",
    "* Checks parameter estimates for statistical significance at $\\alpha$\n",
    "* Summarizes the results as power"
   ]
  },
  {
   "cell_type": "markdown",
   "metadata": {
    "slideshow": {
     "slide_type": "slide"
    },
    "tags": []
   },
   "source": [
    "#### Effect sizes\n",
    "\n",
    "We define a positive interaction between two species: when species 2 is present, species 1 is twice as likely to occupy a site.\n",
    "\n",
    "First define $f$ values:"
   ]
  },
  {
   "cell_type": "code",
   "execution_count": 45,
   "metadata": {
    "slideshow": {
     "slide_type": "fragment"
    },
    "tags": []
   },
   "outputs": [],
   "source": [
    "set.seed(123)\n",
    "\n",
    "f1 <- 0.2\n",
    "f2 <- 0.1\n",
    "f12 <- 0.5 # <- EFFECT SIZE OF INTERACTION"
   ]
  },
  {
   "cell_type": "markdown",
   "metadata": {
    "slideshow": {
     "slide_type": "fragment"
    }
   },
   "source": [
    "For illustration, calculate the corresponding occupancy probabilities using the multinomial logit:"
   ]
  },
  {
   "cell_type": "code",
   "execution_count": 46,
   "metadata": {
    "slideshow": {
     "slide_type": "fragment"
    }
   },
   "outputs": [
    {
     "data": {
      "text/html": [
       "<style>\n",
       ".dl-inline {width: auto; margin:0; padding: 0}\n",
       ".dl-inline>dt, .dl-inline>dd {float: none; width: auto; display: inline-block}\n",
       ".dl-inline>dt::after {content: \":\\0020\"; padding-right: .5ex}\n",
       ".dl-inline>dt:not(:first-of-type) {padding-left: .5ex}\n",
       "</style><dl class=dl-inline><dt>[11]</dt><dd>0.401</dd><dt>[10]</dt><dd>0.22</dd><dt>[01]</dt><dd>0.199</dd><dt>[00]</dt><dd>0.18</dd></dl>\n"
      ],
      "text/latex": [
       "\\begin{description*}\n",
       "\\item[\\{{[}\\}11\\{{]}\\}] 0.401\n",
       "\\item[\\{{[}\\}10\\{{]}\\}] 0.22\n",
       "\\item[\\{{[}\\}01\\{{]}\\}] 0.199\n",
       "\\item[\\{{[}\\}00\\{{]}\\}] 0.18\n",
       "\\end{description*}\n"
      ],
      "text/markdown": [
       "[11]\n",
       ":   0.401[10]\n",
       ":   0.22[01]\n",
       ":   0.199[00]\n",
       ":   0.18\n",
       "\n"
      ],
      "text/plain": [
       " [11]  [10]  [01]  [00] \n",
       "0.401 0.220 0.199 0.180 "
      ]
     },
     "metadata": {},
     "output_type": "display_data"
    }
   ],
   "source": [
    "psi <- numeric(4)\n",
    "psi[1] <- exp(f1 + f2 + f12)\n",
    "psi[2] <- exp(f1)\n",
    "psi[3] <- exp(f2)\n",
    "psi[4] <- 1\n",
    "psi <- psi / sum(psi)\n",
    "names(psi) <- c(\"[11]\",\"[10]\",\"[01]\",\"[00]\")\n",
    "round(psi, 3)"
   ]
  },
  {
   "cell_type": "markdown",
   "metadata": {
    "slideshow": {
     "slide_type": "fragment"
    }
   },
   "source": [
    "Note probability of both species present [11] is twice as high as either species by itself.\n",
    "\n",
    "This is a large interaction effect!"
   ]
  },
  {
   "cell_type": "markdown",
   "metadata": {
    "slideshow": {
     "slide_type": "slide"
    },
    "tags": []
   },
   "source": [
    "#### Create a template `unmarkedFrame`\n",
    "\n",
    "Basically, a placeholder dataset with the correct design (number of sites, species, etc)"
   ]
  },
  {
   "cell_type": "code",
   "execution_count": 47,
   "metadata": {
    "slideshow": {
     "slide_type": "fragment"
    }
   },
   "outputs": [
    {
     "data": {
      "text/plain": [
       "Data frame representation of unmarkedFrame object.\n",
       "Only showing observation matrix for species 1.\n",
       "   y.1 y.2 y.3 y.4 y.5\n",
       "1   NA  NA  NA  NA  NA\n",
       "2   NA  NA  NA  NA  NA\n",
       "3   NA  NA  NA  NA  NA\n",
       "4   NA  NA  NA  NA  NA\n",
       "5   NA  NA  NA  NA  NA\n",
       "6   NA  NA  NA  NA  NA\n",
       "7   NA  NA  NA  NA  NA\n",
       "8   NA  NA  NA  NA  NA\n",
       "9   NA  NA  NA  NA  NA\n",
       "10  NA  NA  NA  NA  NA"
      ]
     },
     "metadata": {},
     "output_type": "display_data"
    }
   ],
   "source": [
    "M <- 700 # sites\n",
    "J <- 5   # occasions\n",
    "y <- matrix(NA, M, J)\n",
    "temp <- unmarkedFrameOccuMulti(list(y,y))\n",
    "head(temp)"
   ]
  },
  {
   "cell_type": "markdown",
   "metadata": {
    "slideshow": {
     "slide_type": "slide"
    }
   },
   "source": [
    "#### Try the power analysis\n",
    "\n",
    "In addition to the information above, we need to provide any other required model settings.\n",
    "\n",
    "In this case that's just the formulas."
   ]
  },
  {
   "cell_type": "code",
   "execution_count": 48,
   "metadata": {
    "slideshow": {
     "slide_type": "fragment"
    }
   },
   "outputs": [
    {
     "name": "stdout",
     "output_type": "stream",
     "text": [
      "effects should be a named list of vectors, with the following structure\n",
      "        (replace 0s with your values):\n",
      "\n",
      "$state\n",
      "    [sp1] (Intercept)     [sp2] (Intercept) [sp1:sp2] (Intercept) \n",
      "                    0                     0                     0 \n",
      "\n",
      "$det\n",
      "[sp1] (Intercept) [sp2] (Intercept) \n",
      "                0                 0 \n",
      "\n"
     ]
    },
    {
     "ename": "ERROR",
     "evalue": "Error: Specify effects argument as shown above\n",
     "output_type": "error",
     "traceback": [
      "Error: Specify effects argument as shown above\nTraceback:\n",
      "1. powerAnalysis(temp, stateformulas = sf, detformulas = df)",
      "2. powerAnalysis(temp, stateformulas = sf, detformulas = df)",
      "3. .local(object, ...)",
      "4. check_coefs(effects, test_fit, name = \"effects\")",
      "5. stop(paste(\"Specify\", name, \"argument as shown above\"), call. = FALSE)"
     ]
    }
   ],
   "source": [
    "sf <- c(\"~1\", \"~1\", \"~1\") \n",
    "df <- c(\"~1\", \"~1\")\n",
    "pa700 <- powerAnalysis(temp, stateformulas=sf, detformulas=df)"
   ]
  },
  {
   "cell_type": "markdown",
   "metadata": {
    "slideshow": {
     "slide_type": "slide"
    }
   },
   "source": [
    "#### Format the effect sizes"
   ]
  },
  {
   "cell_type": "code",
   "execution_count": 49,
   "metadata": {
    "slideshow": {
     "slide_type": "fragment"
    }
   },
   "outputs": [],
   "source": [
    "ef <- list(state = c(f1, f2, f12), det = c(0, 0))"
   ]
  },
  {
   "cell_type": "markdown",
   "metadata": {
    "slideshow": {
     "slide_type": "fragment"
    }
   },
   "source": [
    "Note this list includes both effect sizes we are specifically interested in power for (`f12`) and also parameter values controlling other parts of the model.\n",
    "\n",
    "Values of these other parameters will affect power! (e.g. low vs. high detection probability)"
   ]
  },
  {
   "cell_type": "markdown",
   "metadata": {
    "slideshow": {
     "slide_type": "fragment"
    }
   },
   "source": [
    "Also note that this is not detection probability of 0, the values are on the logit scale:"
   ]
  },
  {
   "cell_type": "code",
   "execution_count": 50,
   "metadata": {
    "slideshow": {
     "slide_type": "fragment"
    }
   },
   "outputs": [
    {
     "data": {
      "text/html": [
       "0.5"
      ],
      "text/latex": [
       "0.5"
      ],
      "text/markdown": [
       "0.5"
      ],
      "text/plain": [
       "[1] 0.5"
      ]
     },
     "metadata": {},
     "output_type": "display_data"
    }
   ],
   "source": [
    "plogis(0)"
   ]
  },
  {
   "cell_type": "markdown",
   "metadata": {
    "slideshow": {
     "slide_type": "slide"
    }
   },
   "source": [
    "#### Run the power analysis"
   ]
  },
  {
   "cell_type": "code",
   "execution_count": 51,
   "metadata": {
    "slideshow": {
     "slide_type": "fragment"
    }
   },
   "outputs": [
    {
     "name": "stderr",
     "output_type": "stream",
     "text": [
      "Assumed parameter order for state:\n",
      "[sp1] (Intercept), [sp2] (Intercept), [sp1:sp2] (Intercept)\n",
      "\n",
      "Assumed parameter order for det:\n",
      "[sp1] (Intercept), [sp2] (Intercept)\n",
      "\n"
     ]
    }
   ],
   "source": [
    "pa700 <- powerAnalysis(temp, stateformulas=sf, detformulas=df, effects = ef)"
   ]
  },
  {
   "cell_type": "code",
   "execution_count": 52,
   "metadata": {
    "slideshow": {
     "slide_type": "fragment"
    }
   },
   "outputs": [
    {
     "data": {
      "text/plain": [
       "Model: occuMulti\n",
       "Sites: 700\n",
       "Primary Periods: 1\n",
       "Occasions: 5\n",
       "alpha: 0.05\n",
       "\n",
       "Power Statistics:\n",
       " Submodel             Parameter Effect Power Type S Type M\n",
       "    state [sp1:sp2] (Intercept)    0.5  0.86      0  1.098"
      ]
     },
     "metadata": {},
     "output_type": "display_data"
    }
   ],
   "source": [
    "pa700"
   ]
  },
  {
   "cell_type": "markdown",
   "metadata": {
    "slideshow": {
     "slide_type": "slide"
    }
   },
   "source": [
    "#### Type S and M errors\n",
    "\n",
    "If you suspect your study is underpowered, but find a significant effect, you may think: all is well.\n",
    "\n",
    "But no."
   ]
  },
  {
   "cell_type": "markdown",
   "metadata": {
    "slideshow": {
     "slide_type": "fragment"
    }
   },
   "source": [
    "**Type S error:** Probability of getting wrong **S**ign, given a significant effect"
   ]
  },
  {
   "cell_type": "markdown",
   "metadata": {
    "slideshow": {
     "slide_type": "fragment"
    }
   },
   "source": [
    "**Type M error:** Given a significant effect, how much larger is the reported effect expected to be relative to the 'true' effect? (**M**agnitude)"
   ]
  },
  {
   "cell_type": "markdown",
   "metadata": {
    "slideshow": {
     "slide_type": "fragment"
    }
   },
   "source": [
    "See Gelman and Carlin (2014)."
   ]
  },
  {
   "cell_type": "code",
   "execution_count": 53,
   "metadata": {
    "slideshow": {
     "slide_type": "fragment"
    }
   },
   "outputs": [
    {
     "data": {
      "image/png": "[encoded data removed]",
      "text/plain": [
       "Plot with title “state / [sp1:sp2] (Intercept)”"
      ]
     },
     "metadata": {
      "image/png": {
       "height": 600,
       "width": 600
      }
     },
     "output_type": "display_data"
    }
   ],
   "source": [
    "plot(pa700)"
   ]
  },
  {
   "cell_type": "markdown",
   "metadata": {
    "slideshow": {
     "slide_type": "slide"
    }
   },
   "source": [
    "#### Run for a small sample size"
   ]
  },
  {
   "cell_type": "code",
   "execution_count": 54,
   "metadata": {
    "slideshow": {
     "slide_type": "fragment"
    }
   },
   "outputs": [
    {
     "name": "stderr",
     "output_type": "stream",
     "text": [
      "Assumed parameter order for state:\n",
      "[sp1] (Intercept), [sp2] (Intercept), [sp1:sp2] (Intercept)\n",
      "\n",
      "Assumed parameter order for det:\n",
      "[sp1] (Intercept), [sp2] (Intercept)\n",
      "\n"
     ]
    },
    {
     "data": {
      "text/plain": [
       "Model: occuMulti\n",
       "Sites: 100\n",
       "Primary Periods: 1\n",
       "Occasions: 5\n",
       "alpha: 0.05\n",
       "\n",
       "Power Statistics:\n",
       " Submodel             Parameter Effect Power Type S Type M\n",
       "    state [sp1:sp2] (Intercept)    0.5  0.11      0  2.498"
      ]
     },
     "metadata": {},
     "output_type": "display_data"
    }
   ],
   "source": [
    "pa100 <- powerAnalysis(temp[1:100,], stateformulas=sf, detformulas=df, effects = ef)\n",
    "pa100"
   ]
  },
  {
   "cell_type": "code",
   "execution_count": 55,
   "metadata": {
    "slideshow": {
     "slide_type": "fragment"
    }
   },
   "outputs": [
    {
     "data": {
      "image/png": "[encoded data removed]",
      "text/plain": [
       "Plot with title “state / [sp1:sp2] (Intercept)”"
      ]
     },
     "metadata": {
      "image/png": {
       "height": 600,
       "width": 600
      }
     },
     "output_type": "display_data"
    }
   ],
   "source": [
    "plot(pa100)"
   ]
  },
  {
   "cell_type": "markdown",
   "metadata": {
    "slideshow": {
     "slide_type": "slide"
    }
   },
   "source": [
    "#### Draw a power curve\n",
    "\n",
    "First do analyses for a couple more sample sizes."
   ]
  },
  {
   "cell_type": "code",
   "execution_count": 56,
   "metadata": {
    "slideshow": {
     "slide_type": "fragment"
    },
    "tags": []
   },
   "outputs": [
    {
     "name": "stderr",
     "output_type": "stream",
     "text": [
      "Assumed parameter order for state:\n",
      "[sp1] (Intercept), [sp2] (Intercept), [sp1:sp2] (Intercept)\n",
      "\n",
      "Assumed parameter order for det:\n",
      "[sp1] (Intercept), [sp2] (Intercept)\n",
      "\n",
      "Assumed parameter order for state:\n",
      "[sp1] (Intercept), [sp2] (Intercept), [sp1:sp2] (Intercept)\n",
      "\n",
      "Assumed parameter order for det:\n",
      "[sp1] (Intercept), [sp2] (Intercept)\n",
      "\n"
     ]
    }
   ],
   "source": [
    "pa300 <- powerAnalysis(temp[1:300,], stateformulas=sf, detformulas=df, effects = ef)\n",
    "pa500 <- powerAnalysis(temp[1:500,], stateformulas=sf, detformulas=df, effects = ef)"
   ]
  },
  {
   "cell_type": "markdown",
   "metadata": {
    "slideshow": {
     "slide_type": "slide"
    }
   },
   "source": [
    "Finally, combine all the power analyses into a list for comparison and plot power for the interaction term."
   ]
  },
  {
   "cell_type": "code",
   "execution_count": 57,
   "metadata": {
    "slideshow": {
     "slide_type": "fragment"
    }
   },
   "outputs": [
    {
     "data": {
      "image/png": "[encoded data removed]",
      "text/plain": [
       "Plot with title “”"
      ]
     },
     "metadata": {
      "image/png": {
       "height": 600,
       "width": 600
      }
     },
     "output_type": "display_data"
    }
   ],
   "source": [
    "pl <- unmarkedPowerList(list(pa100, pa300, pa500, pa700))\n",
    "\n",
    "plot(pl, power=0.8)"
   ]
  },
  {
   "cell_type": "markdown",
   "metadata": {
    "slideshow": {
     "slide_type": "fragment"
    }
   },
   "source": [
    "We need quite a few sites (~700) to have adequate power to detect a significant positive interaction, even when the effect size is relatively large!\n",
    "\n",
    "I think many studies using this model are under-powered."
   ]
  },
  {
   "cell_type": "markdown",
   "metadata": {
    "slideshow": {
     "slide_type": "slide"
    },
    "tags": []
   },
   "source": [
    "## Poor estimates\n",
    "\n",
    "* You might get poor estimates under certain conditions:\n",
    "    - Sparse data (many 0s)\n",
    "    - Boundary estimates (occupancy close to 0 or 1)\n",
    "    - Few observations where multiple species are detected\n",
    "    - Separation (perfect correlation with covariate)\n",
    "* What do I mean by poor estimates? Very large absolute values and SEs"
   ]
  },
  {
   "cell_type": "code",
   "execution_count": 64,
   "metadata": {
    "slideshow": {
     "slide_type": "slide"
    },
    "tags": []
   },
   "outputs": [
    {
     "data": {
      "text/plain": [
       "\n",
       "Call:\n",
       "occuMulti(detformulas = det_complex, stateformulas = state_complex, \n",
       "    data = umf, maxOrder = 3L)\n",
       "\n",
       "Occupancy:\n",
       "                                 Estimate     SE      z  P(>|z|)\n",
       "[bobcat] (Intercept)             -23.0171  5.787 -3.977 6.97e-05\n",
       "[bobcat] scale(Dist_5km)          -2.4249  0.689 -3.518 4.34e-04\n",
       "[bobcat] scale(HDens_5km)        -82.3836 19.799 -4.161 3.17e-05\n",
       "[coyote] (Intercept)              -0.6789  0.225 -3.017 2.55e-03\n",
       "[coyote] scale(Dist_5km)          -0.0176  0.139 -0.127 8.99e-01\n",
       "[coyote] scale(HDens_5km)         -0.5534  0.748 -0.740 4.59e-01\n",
       "[redfox] (Intercept)              -1.3946  0.257 -5.425 5.79e-08\n",
       "[redfox] scale(Dist_5km)          -0.5293  0.250 -2.114 3.45e-02\n",
       "[redfox] scale(HDens_5km)          0.2108  0.261  0.808 4.19e-01\n",
       "[bobcat:coyote] (Intercept)        6.7598  6.390  1.058 2.90e-01\n",
       "[bobcat:coyote] scale(Dist_5km)    1.6979  0.695  2.444 1.45e-02\n",
       "[bobcat:coyote] scale(HDens_5km)  17.9202 21.460  0.835 4.04e-01\n",
       "[bobcat:redfox] (Intercept)       15.3983  3.461  4.449 8.64e-06\n",
       "[bobcat:redfox] scale(Dist_5km)    0.8836  0.439  2.014 4.40e-02\n",
       "[bobcat:redfox] scale(HDens_5km)  64.1330 12.375  5.182 2.19e-07\n",
       "[coyote:redfox] (Intercept)        1.1084  0.363  3.050 2.29e-03\n",
       "[coyote:redfox] scale(Dist_5km)    0.1149  0.340  0.338 7.35e-01\n",
       "[coyote:redfox] scale(HDens_5km)   0.9046  0.781  1.159 2.47e-01\n",
       "\n",
       "Detection:\n",
       "                     Estimate     SE      z  P(>|z|)\n",
       "[bobcat] (Intercept)    -2.83 0.1419 -19.91 3.12e-88\n",
       "[bobcat] Trail           1.74 0.1542  11.26 2.10e-29\n",
       "[coyote] (Intercept)    -1.96 0.0984 -19.88 5.90e-88\n",
       "[coyote] Trail           2.17 0.1220  17.75 1.63e-70\n",
       "[redfox] (Intercept)    -1.59 0.1601  -9.93 2.97e-23\n",
       "[redfox] Trail           1.78 0.1997   8.93 4.12e-19\n",
       "\n",
       "AIC: 5958.196 "
      ]
     },
     "metadata": {},
     "output_type": "display_data"
    }
   ],
   "source": [
    "state_complex <- c(rep(\"~scale(Dist_5km)+scale(HDens_5km)\", 6), 0)\n",
    "det_complex <- rep(\"~Trail\",3)\n",
    "\n",
    "mod_complex <- occuMulti(stateformulas=state_complex, detformulas=det_complex, umf)\n",
    "mod_complex"
   ]
  },
  {
   "cell_type": "markdown",
   "metadata": {
    "slideshow": {
     "slide_type": "slide"
    }
   },
   "source": [
    "### Potential Solutions"
   ]
  },
  {
   "cell_type": "markdown",
   "metadata": {
    "slideshow": {
     "slide_type": "fragment"
    }
   },
   "source": [
    "* Fewer covariates\n",
    "* Fewer species\n",
    "* Adjust observation period length if possible\n",
    "* Set higher-order interaction terms to 0\n",
    "* Penalized likelihood with `optimizePenalty` function (Clipp et al. 2021)\n",
    "* Bayesian framework"
   ]
  },
  {
   "cell_type": "markdown",
   "metadata": {
    "slideshow": {
     "slide_type": "slide"
    }
   },
   "source": [
    "### Penalized likelihood"
   ]
  },
  {
   "cell_type": "markdown",
   "metadata": {
    "slideshow": {
     "slide_type": "fragment"
    }
   },
   "source": [
    "\"Bayes-inspired\" penalty (Hutchinson et al. 2015):\n",
    "\n",
    "$$\n",
    "-\\lambda\\frac{1}{2}\\sum_i{}\\theta_i^2\n",
    "$$\n",
    "\n",
    "Where $\\theta$ is the vector of parameter estimates.\n",
    "\n",
    "Size of penalty increases as values of $\\theta$ increase."
   ]
  },
  {
   "cell_type": "markdown",
   "metadata": {
    "slideshow": {
     "slide_type": "fragment"
    }
   },
   "source": [
    "Tradeoff:\n",
    "* Introduce small bias in parameter estimates\n",
    "* Potentially large reduction in variance"
   ]
  },
  {
   "cell_type": "markdown",
   "metadata": {
    "slideshow": {
     "slide_type": "slide"
    }
   },
   "source": [
    "```r\n",
    "mod_penalty <- occuMulti(stateformulas=state_complex, detformulas=det_complex, umf, penalty=1)\n",
    "mod_penalty\n",
    "```"
   ]
  },
  {
   "cell_type": "markdown",
   "metadata": {
    "slideshow": {
     "slide_type": "fragment"
    }
   },
   "source": [
    "```r\n",
    "Bootstraping covariance matrix\n",
    "\n",
    "\n",
    "Call:\n",
    "occuMulti(detformulas = det_complex, stateformulas = state_complex, \n",
    "    data = umf, penalty = 1, maxOrder = 3L)\n",
    "\n",
    "Occupancy:\n",
    "                                 Estimate    SE      z  P(>|z|)\n",
    "[bobcat] (Intercept)              -1.7810 0.269 -6.627 3.43e-11\n",
    "[bobcat] scale(Dist_5km)          -1.3143 0.293 -4.491 7.08e-06\n",
    "[bobcat] scale(HDens_5km)         -2.8200 0.539 -5.230 1.70e-07\n",
    "[coyote] (Intercept)              -0.6049 0.214 -2.830 4.66e-03\n",
    "[coyote] scale(Dist_5km)           0.0285 0.106  0.270 7.87e-01\n",
    "[coyote] scale(HDens_5km)         -1.0908 0.378 -2.887 3.88e-03\n",
    "[redfox] (Intercept)              -1.5659 0.305 -5.140 2.75e-07\n",
    "[redfox] scale(Dist_5km)          -0.3068 0.157 -1.958 5.02e-02\n",
    "[redfox] scale(HDens_5km)          0.4730 0.546  0.867 3.86e-01\n",
    "[bobcat:coyote] (Intercept)        1.1871 0.434  2.736 6.22e-03\n",
    "[bobcat:coyote] scale(Dist_5km)    0.9347 0.346  2.705 6.84e-03\n",
    "[bobcat:coyote] scale(HDens_5km)  -0.3218 1.008 -0.319 7.50e-01\n",
    "[bobcat:redfox] (Intercept)       -0.8831 0.347 -2.545 1.09e-02\n",
    "[bobcat:redfox] scale(Dist_5km)    0.0364 0.305  0.119 9.05e-01\n",
    "[bobcat:redfox] scale(HDens_5km)   2.5609 1.074  2.384 1.71e-02\n",
    "[coyote:redfox] (Intercept)        1.0001 0.310  3.227 1.25e-03\n",
    "[coyote:redfox] scale(Dist_5km)    0.0236 0.167  0.141 8.87e-01\n",
    "[coyote:redfox] scale(HDens_5km)   1.3920 0.345  4.030 5.57e-05\n",
    "\n",
    "Detection:\n",
    "                     Estimate     SE      z  P(>|z|)\n",
    "[bobcat] (Intercept)    -2.44 0.1755 -13.89 7.63e-44\n",
    "[bobcat] Trail           1.74 0.1966   8.87 7.25e-19\n",
    "[coyote] (Intercept)    -1.89 0.0926 -20.45 5.64e-93\n",
    "[coyote] Trail           2.10 0.1179  17.84 3.31e-71\n",
    "[redfox] (Intercept)    -1.49 0.1782  -8.35 6.64e-17\n",
    "[redfox] Trail           1.72 0.1714  10.04 9.73e-24\n",
    "\n",
    "AIC: 6135.555 \n",
    "```"
   ]
  },
  {
   "cell_type": "markdown",
   "metadata": {
    "slideshow": {
     "slide_type": "slide"
    }
   },
   "source": [
    "How to choose penalty value? `optimizePenalty()` function.\n",
    "\n",
    "This uses K-fold cross-validation to pick the \"best\" penalty value.\n",
    "\n",
    "```r\n",
    "mod_penalty <- optimizePenalty(mod_complex, penalties=c(0.5,1))\n",
    "```"
   ]
  },
  {
   "cell_type": "markdown",
   "metadata": {
    "slideshow": {
     "slide_type": "slide"
    }
   },
   "source": [
    "### Literature Cited\n",
    "\n",
    "Clipp, H.L., Evans, A.L., Kessinger, B.E., Kellner, K. and Rota, C.T. (2021). A penalized likelihood for multispecies occupancy models improves predictions of species interactions. Ecology, p.e03520.\n",
    "\n",
    "Gelman, A., and Carlin, J. (2014). Beyond power calculations: Assessing type S (sign) and type M (magnitude) errors. Perspectives on Psychological Science, 9(6), 641-651.\n",
    "\n",
    "MacKenzie, D. I., Bailey, L. L., & Nichols, J. D. (2004). Investigating species co‐occurrence patterns when species are detected imperfectly. Journal of Animal Ecology, 73(3), 546-555.\n",
    "\n",
    "Richmond, O.M., Hines, J.E. and Beissinger, S.R. (2010). Two‐species occupancy models: a new parameterization applied to co‐occurrence of secretive rails. Ecological Applications, 20(7), pp.2036-2046.\n",
    "\n",
    "Ridout, M. S., & Linkie, M. (2009). Estimating overlap of daily activity patterns from camera trap data. Journal of Agricultural, Biological, and Environmental Statistics, 14, 322-337.\n",
    "\n",
    "Rota, C.T., Ferreira, M.A., Kays, R.W., Forrester, T.D., Kalies, E.L., McShea, W.J., Parsons, A.W. and Millspaugh, J.J. (2016). A multispecies occupancy model for two or more interacting species. Methods in Ecology and Evolution, 7(10), pp.1164-1173.\n",
    "\n",
    "Waddle, J.H., Dorazio, R.M., Walls, S.C., Rice, K.G., Beauchamp, J., Schuman, M.J. and Mazzotti, F.J. (2010). A new parameterization for estimating co‐occurrence of interacting species. Ecological Applications, 20(5), pp.1467-1475."
   ]
  }
 ],
 "metadata": {
  "celltoolbar": "Slideshow",
  "kernelspec": {
   "display_name": "R",
   "language": "R",
   "name": "ir"
  },
  "language_info": {
   "codemirror_mode": "r",
   "file_extension": ".r",
   "mimetype": "text/x-r-source",
   "name": "R",
   "pygments_lexer": "r",
   "version": "4.4.1"
  },
  "rise": {
   "enable_chalkboard": true,
   "scroll": true
  }
 },
 "nbformat": 4,
 "nbformat_minor": 4
}
